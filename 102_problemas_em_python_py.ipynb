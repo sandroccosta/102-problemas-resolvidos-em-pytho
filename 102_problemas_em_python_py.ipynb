{
  "cells": [
    {
      "cell_type": "markdown",
      "metadata": {
        "id": "view-in-github",
        "colab_type": "text"
      },
      "source": [
        "<a href=\"https://colab.research.google.com/github/sandroccosta/102-problemas-resolvidos-em-python/blob/main/102_problemas_em_python_py.ipynb\" target=\"_parent\"><img src=\"https://colab.research.google.com/assets/colab-badge.svg\" alt=\"Open In Colab\"/></a>"
      ]
    },
    {
      "cell_type": "markdown",
      "source": [
        "1- João pretende viajar de carro de Paragominas para Belém e gostaria de sua ajuda para saber o quanto ele irá gastar. Considerando que a distância de Belém para Paragominas\n",
        "é de 312 km, escreva um algoritmo que dado o preço do litro da gasolina e a autonomia\n",
        "do carro em km/l calcule o gasto de João."
      ],
      "metadata": {
        "id": "7ahkNvkYoCja"
      }
    },
    {
      "cell_type": "code",
      "source": [
        "#Questao 01\n",
        "preco_gaso=float(input(\"digite o preço do litro da gasolina\\nR$ \"))\n",
        "auto_car=float(input(\"digite a autonomia de consumo do veículo\\nkm/l \"))\n",
        "Distance=float(input(\"digite a distancia precorrida pelo veículo\\nkm 4\"))\n",
        "total_l_car= Distance/auto_car#calcula o total de litros que o veiculo necessitara para percorre toda a distância\n",
        "total_pago=total_l_car*preco_gaso#calculo do total a ser pago\n",
        "total_pago=\"%.2f\"%total_pago\n",
        "print(\"o gasto total de João sera de R$\",total_pago)\n",
        "#Alexsandro costa"
      ],
      "metadata": {
        "colab": {
          "base_uri": "https://localhost:8080/"
        },
        "id": "7BoHqa6H1JZx",
        "outputId": "1687f564-984c-4e1c-db42-d41daa4d2fed"
      },
      "execution_count": null,
      "outputs": [
        {
          "output_type": "stream",
          "name": "stdout",
          "text": [
            "digite o preço do litro da gasolina\n",
            "R$ 4.1\n",
            "digite a autonomia de consumo do veículo\n",
            "km/l 8.5\n",
            "digite a distancia precorrida pelo veículo\n",
            "km 312\n",
            "o gasto total de João sera de R$ 150.49\n"
          ]
        }
      ]
    },
    {
      "cell_type": "markdown",
      "source": [
        "\n",
        "\n",
        "---\n",
        "\n"
      ],
      "metadata": {
        "id": "3C7kYgSxoJZ4"
      }
    },
    {
      "cell_type": "markdown",
      "source": [
        "2- Mario é um pedreiro e foi contratado para “lajotar” a sala de uma casa. Mario está\n",
        "com dificuldade de informar ao seu cliente a quantidade de lajotas que devem ser\n",
        "compradas e pediu sua ajuda para escrever um algoritmo que, dado a largura e\n",
        "comprimento da sala e a largura e comprimento da lajota, informe a quantidade mínima\n",
        "de lajotas que devem ser compradas. As medidas da sala devem ser informadas em\n",
        "metros e as da lajota em centímetros."
      ],
      "metadata": {
        "id": "P4RJXIlJr8g8"
      }
    },
    {
      "cell_type": "code",
      "source": [
        "##Questão 02\n",
        "import math \n",
        "l_sala=float(input(\"digite a lagura da sala em metros\\n\"))\n",
        "c_sala=float(input(\"digite a comprimento da sala em metros\\n\"))\n",
        "\n",
        "area_sala=l_sala*c_sala#calculo da area da sala\n",
        "\n",
        "l_lajo=float(input(\"digite a lagura da lajota em cm\\n\"))\n",
        "c_lajo=float(input(\"digite a lagura da comprimentoe, cm\\n\"))\n",
        "\n",
        "area_lajo=(l_lajo*c_lajo)/10000 #calculo da area da lajota e conversao de cm² para m²\n",
        "\n",
        "total=area_sala/area_lajo# calculo para saber o total necessario de lajotas\n",
        "total=math.ceil(total)# arredondar para cima\n",
        "\n",
        "print(\"Devem ser compradas\",total,\"lajotas para sala de\",area_sala,\"m²\")\n",
        "#Alexsandro costa"
      ],
      "metadata": {
        "colab": {
          "base_uri": "https://localhost:8080/"
        },
        "id": "gwsYHAUoy9NK",
        "outputId": "81f1d047-e196-4f1b-9ed5-604b358af6c9"
      },
      "execution_count": null,
      "outputs": [
        {
          "output_type": "stream",
          "name": "stdout",
          "text": [
            "digite a lagura da sala em metros\n",
            "9\n",
            "digite a comprimento da sala em metros\n",
            "7\n",
            "digite a lagura da lajota em cm\n",
            "30\n",
            "digite a lagura da comprimentoe, cm\n",
            "14\n",
            "Devem ser compradas 1500 lajotas para sala de 63.0 m²\n"
          ]
        }
      ]
    },
    {
      "cell_type": "markdown",
      "source": [
        "\n",
        "\n",
        "---\n",
        "\n"
      ],
      "metadata": {
        "id": "zAvOYGQaBAsu"
      }
    },
    {
      "cell_type": "markdown",
      "source": [
        "3- Mariazinha está muito contente porque irá viajar pela primeira vez aos Estados\n",
        "Unidos. Para realizar todos os seus passeios e compras, a agencia de turismo informou\n",
        "que Mariazinha precisa levar no mínimo quinze mil dólares. Mariazinha não é muito boa\n",
        "com os números e pediu a sua ajuda para escrever um algoritmo que, dado o valor de\n",
        "um dólar em reais, informe quantos reais Mariazinha deve guardar para a sua viagem."
      ],
      "metadata": {
        "id": "jMSZouuG71ME"
      }
    },
    {
      "cell_type": "code",
      "source": [
        "#Questão 03\n",
        "cota_dolar=float(input(\"Qual a cotação atual do dolar\\nR$\"))\n",
        "valor_dolar=float(input(\"Digite a o valor que deseja converte para real\\n$\"))\n",
        "valor_real=valor_dolar*cota_dolar\n",
        "print(\"Mariazinha deve guarda R$\",valor_real,\"para a viagem\")\n",
        "#Alexsandro costa"
      ],
      "metadata": {
        "id": "p-KcuQyb-1It",
        "colab": {
          "base_uri": "https://localhost:8080/"
        },
        "outputId": "3fa9d5dd-12d9-4dd0-a52c-45f1d5b83fdb"
      },
      "execution_count": null,
      "outputs": [
        {
          "output_type": "stream",
          "name": "stdout",
          "text": [
            "Qual a cotação atual do dolar\n",
            "R$5.35\n",
            "Digite a o valor que deseja converte para real\n",
            "$15000\n",
            "Mariazinha deve guarda R$ 80250.0 para a viagem\n"
          ]
        }
      ]
    },
    {
      "cell_type": "markdown",
      "source": [
        "\n",
        "\n",
        "---\n",
        "\n"
      ],
      "metadata": {
        "id": "sfBPPV2LsCF4"
      }
    },
    {
      "cell_type": "markdown",
      "source": [
        "4- Em sua primeira viagem para os Estados Unidos Mariazinha gastou além do esperado\n",
        "e infelizmente teve que usar o seu cartão de crédito. Ao verificar sua fatura Mariazinha\n",
        "percebeu que a cobrança estava sendo feita em dólar e que, por se tratar de compra\n",
        "internacional, o cartão de crédito cobrou uma taxa de 2% sobre o valor da compra.\n",
        "Mariazinha mais uma vez pediu a sua ajuda para escrever um algoritmo que, dado o\n",
        "valor da fatura e o valor de um dólar, escreva um algoritmo que calcule quanto\n",
        "Mariazinha terá que pagar em reais."
      ],
      "metadata": {
        "id": "PWWIpkPh9bD3"
      }
    },
    {
      "cell_type": "code",
      "source": [
        "#Questão 04\n",
        "c_dolar=float(input(\"Qual a cotação atual do dolar\\nR$\"))\n",
        "fatura=float(input(\"Digite o valor da fatura\\nR$ \"))\n",
        "fatura=fatura+(fatura*0.02)#adição da taxa de 2%\n",
        "total=fatura*c_dolar\n",
        "total=\"%0.2f\"%total#comando para imprimar ate duas casa após a vírgula\n",
        "print(total) \n",
        "#Alexsandro costa"
      ],
      "metadata": {
        "colab": {
          "base_uri": "https://localhost:8080/"
        },
        "id": "GT_0PzOc9agY",
        "outputId": "3fd0ae8e-2140-422f-f7bd-efe95d154f1c"
      },
      "execution_count": null,
      "outputs": [
        {
          "output_type": "stream",
          "name": "stdout",
          "text": [
            "Qual a cotação atual do dolar\n",
            "R$5.35\n",
            "Digite o valor da fatura\n",
            "R$ 1500\n",
            "8185.50\n"
          ]
        }
      ]
    },
    {
      "cell_type": "markdown",
      "source": [
        "\n",
        "\n",
        "---\n",
        "\n"
      ],
      "metadata": {
        "id": "2x4cjdGEAUzZ"
      }
    },
    {
      "cell_type": "markdown",
      "source": [
        "5- Mario é um pedreiro e foi contratado para “lajotar” a sala de uma casa. Mário irá\n",
        "utilizar uma massa especial para a fixação das lajotas. Esta massa é vendida em um tubo\n",
        "e, com um tubo, Mario consegue fixar trinta lajotas. Considerando as medidas de largura\n",
        "e comprimento da sala e largura e comprimento da lajota, Mário gostaria de sua ajuda\n",
        "para escrever um algoritmo que informe a quantidade mínima de tubos que ele irá ter\n",
        "que usar. As medidas da sala devem ser informadas em metros e as da lajota em\n",
        "centímetros"
      ],
      "metadata": {
        "id": "ZikBagA2AWNq"
      }
    },
    {
      "cell_type": "code",
      "source": [
        "#Questão 05\n",
        "import math \n",
        "lg_sala=float(input(\"digite a lagura da sala em metros\\n\"))\n",
        "cp_sala=float(input(\"digite a comprimento da sala em metros\\n\"))\n",
        "\n",
        "area_sala=lg_sala*cp_sala#calculo da area da sala\n",
        "\n",
        "lg_lajo=float(input(\"digite a lagura da lajota em cm\\n\"))\n",
        "cp_lajo=float(input(\"digite a lagura da comprimentoe, cm\\n\"))\n",
        "\n",
        "area_lajo=(lg_lajo*cp_lajo)/10000 #calculo da area da lajota e conversao de cm² para m²\n",
        "\n",
        "total=area_sala/area_lajo# calculo para saber o total necessario de lajotas\n",
        "total=math.ceil(total)# arredondar para cima\n",
        "\n",
        "tubos=total/30\n",
        "tubos=math.ceil(tubos)\n",
        "\n",
        "print(\"será preciso\",tubos,\"tubos\")\n",
        "#Alexsandro costa"
      ],
      "metadata": {
        "id": "GVP3ZYMcAT3L",
        "colab": {
          "base_uri": "https://localhost:8080/"
        },
        "outputId": "50f005a5-e033-451e-985b-051f77edf787"
      },
      "execution_count": null,
      "outputs": [
        {
          "output_type": "stream",
          "name": "stdout",
          "text": [
            "digite a lagura da sala em metros\n",
            "5\n",
            "digite a comprimento da sala em metros\n",
            "9\n",
            "digite a lagura da lajota em cm\n",
            "20\n",
            "digite a lagura da comprimentoe, cm\n",
            "20\n",
            "será preciso 38 tubos\n"
          ]
        }
      ]
    },
    {
      "cell_type": "markdown",
      "source": [
        "\n",
        "\n",
        "---\n",
        "\n"
      ],
      "metadata": {
        "id": "yFZfgVFu9iT3"
      }
    },
    {
      "cell_type": "markdown",
      "source": [
        "\n",
        "6- Gisele é uma menina que gosta muito de fazer compras mas tem muita dificuldade com os números. Na última vez que saiu para fazer compras Gisele observou que havia uma loja com a promoção compre três peças de roupa e pague somente duas. Neste caso, das três peças, Gisele não precisaria pagar a peça de menor valor. Gisele ficou curiosa em saber o quanto ela estaria ganhando de desconto levando em consideração o valor da sua compra. Como você é amigo de Gisele ela pediu a sua ajuda para escrever um algoritmo que, dado o valor total da compra e o valor que ela pagou, **informe qual o\n",
        "desconto que Gisele obteve**. "
      ],
      "metadata": {
        "id": "IR5iFjYIlJ14"
      }
    },
    {
      "cell_type": "code",
      "execution_count": null,
      "metadata": {
        "id": "ZmuC6xYIKx4Y",
        "colab": {
          "base_uri": "https://localhost:8080/"
        },
        "outputId": "bfeaa42b-3e7e-4e31-f032-87ecb5628598"
      },
      "outputs": [
        {
          "output_type": "stream",
          "name": "stdout",
          "text": [
            "Digite o valor total que seria pago\n",
            "R$210\n",
            "Digite o valor a ser pago\n",
            "R$140\n",
            "o desconto a ser pago será de 33 %\n"
          ]
        }
      ],
      "source": [
        "#Questao06\n",
        "valor_total=float(input(\"Digite o valor total que seria pago\\nR$\"))#usuario deve inserir o valor total \n",
        "valor_pago=float(input(\"Digite o valor a ser pago\\nR$\"))#usuario deve inserir o valor que será \n",
        "porcentagem=float(valor_pago*100)/valor_total#nesta linha mostrar qual a porcertangem que sera pagor em relaçao ao valor total\n",
        "desconto=float((100-porcentagem)/100)*100 #nesta linha mostra a porcentagen do desconto\n",
        "desconto=\"%2.f\"%desconto\n",
        "print(\"o desconto a ser pago será de\",desconto,\"%\") \n",
        "#finalizado-Alexsandro costa"
      ]
    },
    {
      "cell_type": "markdown",
      "source": [
        "\n",
        "\n",
        "---\n",
        "\n"
      ],
      "metadata": {
        "id": "QwAXKRu0zI-_"
      }
    },
    {
      "cell_type": "markdown",
      "source": [
        "7- Ricardinho ganhou um porquinho de moedas. Ao conversar com o seu avô, Ricardinho\n",
        "o convenceu a colocar em seu porquinho uma moeda de um real todos os dias da\n",
        "semana. Quando foi falar com a sua avó, Ricardinho a convenceu a colocar dois reais\n",
        "todos os sábados e domingos. Com o seu pai Ricardinho não foi muito feliz, ele falou\n",
        "que iria depositar somente quando possível. Após N semanas Ricardinho quebrou o seu\n",
        "porquinho e observou que possuía X reais. Ricardinho está curioso em saber quantos\n",
        "reais o seu pai depositou. Como você é amigo de Ricardinho, você irá escrever um\n",
        "algoritmo que dado os valores informados diga para Ricardinho quantos reais seu pai\n",
        "depositou em seu porquinho."
      ],
      "metadata": {
        "id": "4YIpkET2jmSh"
      }
    },
    {
      "cell_type": "code",
      "source": [
        "semanas=float(input(\"Digite por quantas semanas foram depositados dinheiro no porquinho\\n\"))\n",
        "valor_total_porquinho=float(input(\"Digite o valor total no cofrinho\\nR$\"))\n",
        "sab_Dom=semanas*2\n",
        "avô_depo=(semanas*7)+(sab_Dom*2)\n",
        "valor_pai_depositou=valor_total_porquinho-avô_depo\n",
        "print(\"o pai de Ricardinho depositou R$\",valor_pai_depositou)\n",
        "#Finalizado Alexsandro costa"
      ],
      "metadata": {
        "colab": {
          "base_uri": "https://localhost:8080/"
        },
        "id": "SJBW_xhEjldq",
        "outputId": "72f55e82-3bda-4c49-c3f3-1f676affbb98"
      },
      "execution_count": null,
      "outputs": [
        {
          "output_type": "stream",
          "name": "stdout",
          "text": [
            "Digite por quantas semanas foram depositados dinheiro no porquinho\n",
            "7\n",
            "Digite o valor total no cofrinho\n",
            "R$98.5\n",
            "o pai de Ricardinho depositou R$ 21.5\n"
          ]
        }
      ]
    },
    {
      "cell_type": "markdown",
      "source": [
        "\n",
        "\n",
        "---\n",
        "\n"
      ],
      "metadata": {
        "id": "f7VzkQ9hmraa"
      }
    },
    {
      "cell_type": "markdown",
      "source": [
        "8- Ricardinho ganhou outro porquinho de moedas. Desta vez, convenceu o seu avô a\n",
        "depositar um real de segunda a sexta, e cinco reais no sábado. Já com a sua avó o acordo\n",
        "de depositar dois reais todos os sábados e domingos foi mantido. Com o seu pai,\n",
        "Ricardinho o convenceu a depositar seis reais a cada semana. Agora Ricardinho quer a\n",
        "sua ajuda para escrever um algoritmo que, dado o número de semanas, informe quantos\n",
        "reais ele vai ter."
      ],
      "metadata": {
        "id": "d6iAEP9Y3yT8"
      }
    },
    {
      "cell_type": "code",
      "source": [
        "semanas=float(input(\"digite o valor total de semanas\\n\"))\n",
        "avô =10 * semanas\n",
        "avó= 4 * semanas\n",
        "pai= 6* semanas\n",
        "total=avô + avó + pai\n",
        "print(\"Ricardinho ira ter R$\",total)\n",
        "#Finalizado Alexsandro costa\n"
      ],
      "metadata": {
        "colab": {
          "base_uri": "https://localhost:8080/"
        },
        "id": "us87HYgU3xtn",
        "outputId": "dce37426-c92d-4f2e-f18b-67c79d5e68b6"
      },
      "execution_count": null,
      "outputs": [
        {
          "output_type": "stream",
          "name": "stdout",
          "text": [
            "digite o valor total de semanas\n",
            "10\n",
            "Ricardinho ira ter R$ 200.0\n"
          ]
        }
      ]
    },
    {
      "cell_type": "markdown",
      "source": [
        "\n",
        "\n",
        "\n",
        "\n",
        "\n",
        "\n",
        "\n",
        "---\n",
        "\n"
      ],
      "metadata": {
        "id": "JLjuWUKZ7zxG"
      }
    },
    {
      "cell_type": "markdown",
      "source": [
        "9- Joaquina é uma menina muito inteligente e que tira boas notas. Conversando com a\n",
        "sua mãe, Joaquina fez a seguinte proposta: “Mãe no meu próximo boletim que tal a\n",
        "senhora me dar, em reais, 30% de cada nota que eu tirar?”. Sua mãe concordou e você\n",
        "terá que ajudar Joaquina escrevendo um algoritmo que receba as notas das disciplinas\n",
        "de Matemática, Português, Inglês, Ciências, História e Geografia e informe quantos reais\n",
        "ela vai ganhar"
      ],
      "metadata": {
        "id": "jRo56NKA8IUx"
      }
    },
    {
      "cell_type": "code",
      "execution_count": null,
      "metadata": {
        "id": "MRmIwKiqhOC-"
      },
      "outputs": [],
      "source": [
        "#Questao09\n",
        "def dindin_nota():\n",
        "  n1,n2,n3,n4,n5,n6=[float(x) for x in input(\"digite as notas separadas por espaço\\n\").split()]#utiliza-se este estilo de input para que o ususario insira os dados e gere automaticamente uma lista que será interada pelo x a parti do laço for . \n",
        "  soma=(n1*0.3)+(n2*0.3)+(n3*0.3)+(n4*0.3)+(n5*0.3)+(n6*0.3)#de acordo com a sequencia que o usuário digite os valores,seram alocados nas variaveis declaradas \n",
        "  soma=\"%.2f\"%soma\n",
        "  print(\"A quantia que joaquina receberá é de R$\",soma)\n",
        "  #FINALIZADO-ALEXSANDRO COSTA"
      ]
    },
    {
      "cell_type": "markdown",
      "source": [
        "\n",
        "\n",
        "---\n",
        "\n"
      ],
      "metadata": {
        "id": "DNmorAsoiteT"
      }
    },
    {
      "cell_type": "markdown",
      "source": [
        "10- Todo equipamento elétrico possui uma potência apresentada em Watts cujo\n",
        "símbolo é W. Normalmente esta informação vem estampada no produto ou na\n",
        "embalagem. Exemplos: lâmpada incandescente=100W, chuveiro=3.600W. Para calcular\n",
        "o consumo de um equipamento multiplique sua potência pelo tempo de funcionamento\n",
        "em horas. Sabe-se que 1kW equivale a 1000W. Considerando as informações prévias,\n",
        "escreva um algoritmo que, dado o valor em reais de 1KW e o consumo mensal de uma\n",
        "casa em Watts, informe quantos reais será cobrado na fatura."
      ],
      "metadata": {
        "id": "78Sgx6h_-IX8"
      }
    },
    {
      "cell_type": "code",
      "source": [
        "valor=float(input(\"DIGITE O VALOR COBRADO POR KW\\nR$\"))\n",
        "consumo=float(input(\"DIGITE O CONDUMO MENSAL EM WATTS\\n\"))/1000\n",
        "total=consumo*valor\n",
        "print(\"Será cobrado R$\",total,\"na Fatura\")\n",
        "#Finalizado Alexsandro costa"
      ],
      "metadata": {
        "colab": {
          "base_uri": "https://localhost:8080/"
        },
        "id": "vyHyBm_E_rKv",
        "outputId": "cd034a4d-e241-4e22-f907-cfb116a3d2f1"
      },
      "execution_count": null,
      "outputs": [
        {
          "output_type": "stream",
          "name": "stdout",
          "text": [
            "DIGITE O VALOR COBRADO POR KW\n",
            "R$1.40\n",
            "DIGITE O CONDUMO MENSAL EM WATTS\n",
            "200000\n",
            "Será cobrado R$ 280.0 na Fatura\n"
          ]
        }
      ]
    },
    {
      "cell_type": "markdown",
      "source": [
        "\n",
        "\n",
        "---\n",
        "\n"
      ],
      "metadata": {
        "id": "QIwjG8U7Au5d"
      }
    },
    {
      "cell_type": "markdown",
      "source": [
        "11- Considerando as informações da questão (10), escreva um algoritmo que, dado o\n",
        "valor em reais de 1kW e o valor da fatura de uma casa, informe quantos Watts foram\n",
        "consumidos. Vale ressaltar que a fatura é cobrada em kW."
      ],
      "metadata": {
        "id": "TckUH2R2AzeM"
      }
    },
    {
      "cell_type": "code",
      "source": [
        "valor=float(input(\"DIGITE O VALOR COBRADO POR KW\\nR$\"))\n",
        "total=float(input(\"DIGITE O VALOR DA FATURA\\nR$\"))\n",
        "consumo=(total/valor)*1000\n",
        "consumo=\"%.0f\"%consumo\n",
        "print(\"foram consumidos\",consumo,\"w\")\n",
        "#Finalido Alexsandro costa"
      ],
      "metadata": {
        "colab": {
          "base_uri": "https://localhost:8080/"
        },
        "id": "Y4s2DjElAyC0",
        "outputId": "1f64b776-5ce8-4f08-a0fe-777308a40e64"
      },
      "execution_count": null,
      "outputs": [
        {
          "output_type": "stream",
          "name": "stdout",
          "text": [
            "DIGITE O VALOR COBRADO POR KW\n",
            "R$1.4\n",
            "DIGITE O VALOR DA FATURA\n",
            "R$280\n",
            "foram consumidos 200000 w\n"
          ]
        }
      ]
    },
    {
      "cell_type": "markdown",
      "source": [
        "\n",
        "\n",
        "---\n",
        "\n"
      ],
      "metadata": {
        "id": "PnIoGGKiJO70"
      }
    },
    {
      "cell_type": "markdown",
      "source": [
        "12- Considerando que uma lâmpada tem 100W de potência, Batista gostaria de saber\n",
        "quantos reais será cobrado se X lâmpadas ficarem acesas oito horas por dia durante N\n",
        "dias. Para ajudar Batista, você deve escrever um algoritmo que, dado o valor de 1kW em\n",
        "reais; a quantidade de X e a quantidade de N, informe quantos reais será cobrado por\n",
        "este consumo.\n"
      ],
      "metadata": {
        "id": "008mIoayJO1b"
      }
    },
    {
      "cell_type": "code",
      "source": [
        "V_watts=float(input(\"Digite o valor em reais de 1 kw\\nR$\"))\n",
        "quant_lamp=int(input(\"digite a quantidade de lâmpadas\\n\"))*100 #multiplica-se por pois cada lampada consome 100 watts\n",
        "dias=float(input(\"Digites a quantidades de dias\\n\"))*8 #mutiplique por 8 o numeros dias para transformar em horas\n",
        "consumo =(quant_lamp * dias)/1000\n",
        "valor= consumo * V_watts\n",
        "print(\"o valor a ser pago será de R$\",valor)"
      ],
      "metadata": {
        "id": "ssn4-YeLJOhE",
        "colab": {
          "base_uri": "https://localhost:8080/"
        },
        "outputId": "19e32746-29f7-492e-cd21-2a7b5a9182e9"
      },
      "execution_count": null,
      "outputs": [
        {
          "output_type": "stream",
          "name": "stdout",
          "text": [
            "Digite o valor em reais de 1 kw\n",
            "R$1.06\n",
            "digite a quantidade de lâmpadas\n",
            "8\n",
            "Digites a quantidades de dias\n",
            "30\n",
            "o valor a ser pago será de R$ 203.52\n"
          ]
        }
      ]
    },
    {
      "cell_type": "markdown",
      "source": [
        "\n",
        "\n",
        "---\n",
        "\n"
      ],
      "metadata": {
        "id": "grp84TDjYQOE"
      }
    },
    {
      "cell_type": "markdown",
      "source": [
        "13- Joana estava em uma situação difícil e precisou realizar um empréstimo bancário.\n",
        "Joana realizou um empréstimo de X reais e deve pagar este empréstimo em N meses\n",
        "com uma taxa de juros de 8% a.m. Joana pediu a sua ajuda para escrever um algoritmo\n",
        "que calcule o montante que deve ser pago ao banco."
      ],
      "metadata": {
        "id": "G8LWPdk9YSgT"
      }
    },
    {
      "cell_type": "code",
      "execution_count": 12,
      "metadata": {
        "id": "sOsxUaZpinBd",
        "colab": {
          "base_uri": "https://localhost:8080/"
        },
        "outputId": "1a8ecbc6-e1a3-4be6-d3cd-96bef32a4ea6"
      },
      "outputs": [
        {
          "output_type": "stream",
          "name": "stdout",
          "text": [
            "digite o valor do emprestado\n",
            "1000\n",
            "digite a quantidade de prestações\n",
            "18\n",
            "o montante a ser pago é de R$ 2440.00'\n"
          ]
        }
      ],
      "source": [
        "#Questão 13\n",
        "valor_empres=float(input(\"digite o valor do emprestado\\n\"))\n",
        "temp=int(input(\"digite a quantidade de prestações\\n\"))\n",
        "Juros=valor_empres * 0.08 * temp #0.8 é a taxa de 8% ao mês : Fomula:J = C × i × t\n",
        "mont=valor_empres+Juros # para saber o montante some o juros eo o valor inicial\n",
        "mont=\"%.2f'\"%mont\n",
        "print(\"o montante a ser pago é de R$\",mont)\n",
        "#Finalizado Alexsandro costa"
      ]
    },
    {
      "cell_type": "markdown",
      "metadata": {
        "id": "qdtbjuWyD4J3"
      },
      "source": [
        "\n",
        "\n",
        "---\n",
        "\n",
        "\n",
        "\n",
        "\n"
      ]
    },
    {
      "cell_type": "markdown",
      "source": [
        "14- Joana melhorou de situação e agora gostaria de realizar uma aplicação de X reais a\n",
        "uma taxa de juros anual de 8,5%. Desta vez, Joana pediu a sua ajuda para escrever um\n",
        "algoritmo que, dado o valor X da aplicação e a quantidade de dias que o valor ficará\n",
        "aplicado, calcule o montante após os N dias da aplicação."
      ],
      "metadata": {
        "id": "yqb7hygegQsd"
      }
    },
    {
      "cell_type": "code",
      "source": [
        "valor_investido=float(input())\n",
        "taxa=float(input())/100\n",
        "dias="
      ],
      "metadata": {
        "id": "qo7N_pyXgblM"
      },
      "execution_count": null,
      "outputs": []
    },
    {
      "cell_type": "markdown",
      "source": [
        "\n",
        "\n",
        "---\n",
        "\n"
      ],
      "metadata": {
        "id": "25sfxXKygb6j"
      }
    },
    {
      "cell_type": "code",
      "source": [
        "#QUESTÃO 16\n",
        "def tam_popu_x():\n",
        "  import math as m\n",
        "  x=float(input(\"digite o tempo em que vc quer o tamanho populacional\\n\"))\n",
        "  tamanho=(20-(1/2**x))*1000\n",
        "  tamanho=m.floor(tamanho)\n",
        "  print(\"o tamanho da população em\",x,\"anos sera de\",tamanho)\n",
        "  #finalizado-Alexsandro costa"
      ],
      "metadata": {
        "id": "BZAQqAcm8uq7"
      },
      "execution_count": null,
      "outputs": []
    },
    {
      "cell_type": "code",
      "source": [
        "tam_popu_x()"
      ],
      "metadata": {
        "id": "evPeUBQ9-KUH"
      },
      "execution_count": null,
      "outputs": []
    },
    {
      "cell_type": "markdown",
      "source": [
        "\n",
        "\n",
        "---\n",
        "\n"
      ],
      "metadata": {
        "id": "h5oBir7l8vFK"
      }
    },
    {
      "cell_type": "code",
      "execution_count": null,
      "metadata": {
        "id": "lhW0PXtOX3ch"
      },
      "outputs": [],
      "source": [
        "#Questão 23\n",
        "def porcent_juros():\n",
        " cap=float(input(\"digite o capital a ser investido\\n\"))\n",
        " mont=float(input(\"digite o montante que deseja antigir\\n\"))\n",
        " tempo=float(input(\"digite por quanto tempo deseja investir em mezes\\n\"))\n",
        " tx=(mont/cap)**(1/tempo)\n",
        " taxa=(tx-1)*100\n",
        " taxa=\"%.2f\"%taxa\n",
        " print(\"vc precizará de um investimente que renda\",taxa,\"%\",\"para atingir o montante de\",mont,\"em\",tempo,\"meses\")\n",
        " #FINALIZADO-ALEXANDRO COSTA \n",
        " "
      ]
    },
    {
      "cell_type": "markdown",
      "source": [
        "\n",
        "\n",
        "---\n",
        "\n"
      ],
      "metadata": {
        "id": "k96iyFVKzjrb"
      }
    },
    {
      "cell_type": "code",
      "source": [
        "#QUESTÃO 24\n",
        "def invest():\n",
        "  import math as m\n",
        "  c=float(input(\"digite o valor investido\\n\"))\n",
        "  i=float(input(\"digite o valor da taxa anual\\n\"))\n",
        "  mont=float(input(\"digite o valor montante\\n\"))\n",
        "  t=(m.log10(mont/c))/(m.log10(1+i))\n",
        "  temp=m.ceil(t)\n",
        "  print(temp)\n",
        "  #Finalizado-Alexsandro costa"
      ],
      "metadata": {
        "id": "YShz_s5lzpU7"
      },
      "execution_count": null,
      "outputs": []
    },
    {
      "cell_type": "markdown",
      "source": [
        "\n",
        "\n",
        "---\n",
        "\n"
      ],
      "metadata": {
        "id": "GwvCxM7azqF7"
      }
    },
    {
      "cell_type": "code",
      "execution_count": null,
      "metadata": {
        "id": "IvgrZS8UzCqG"
      },
      "outputs": [],
      "source": [
        "#Questão 25\n",
        "def comprar_casa():\n",
        "  k=float(input(\"digite o valor investido\\n\"))\n",
        "  x=float(input(\"digite o vslor da taxa anual\\n\"))\n",
        "  y=float(input(\"digite o valor da casa\\n\"))\n",
        "  z=float(input(\"digite a taxa de valorização anual da casa\\n\"))\n",
        "  t=0\n",
        "  while True:\n",
        "    m1=int(k*(1+x)**t)\n",
        "    m2=int(y*(1+z)**t)\n",
        "    if m1>m2:\n",
        "       print(\"Serão decorridos\",t,\"anos para comprar a casa\")\n",
        "       break\n",
        "    t=t+1\n",
        "#FINALIZADO-ALEXSANDRO COSTA"
      ]
    },
    {
      "cell_type": "code",
      "execution_count": null,
      "metadata": {
        "id": "kjlYJf5ynw_n"
      },
      "outputs": [],
      "source": [
        "comprar_casa()"
      ]
    },
    {
      "cell_type": "markdown",
      "metadata": {
        "id": "jI7B8_-ZYLJc"
      },
      "source": [
        "\n",
        "\n",
        "---\n",
        "\n"
      ]
    },
    {
      "cell_type": "code",
      "execution_count": null,
      "metadata": {
        "id": "ak0qEQ7hX5zB"
      },
      "outputs": [],
      "source": [
        "#Questão 40\n",
        "def menor_nume_notas(valor):\n",
        "  cen=int(valor/100)  \n",
        "  valor=valor-(cen*100)\n",
        "\n",
        "  ciquen=int(valor/50)\n",
        "  valor=valor-(ciquen*50)\n",
        "\n",
        "  vinte = int(valor/20)\n",
        "  valor=valor-(vinte*20)\n",
        "\n",
        "  dez=int(valor/10)\n",
        "  valor=valor-(dez*10)\n",
        "\n",
        "  cinco=int(valor/5)\n",
        "  valor=valor-(cinco*5)\n",
        "\n",
        "  dois=int(valor/2)\n",
        "  valor=valor-(dois*2)\n",
        "\n",
        "  um=int(valor/1)\n",
        "  valor=valor-(um*1)\n",
        "  print(cen,'nota(s) de R$ 100,00')\n",
        "  print(ciquen,'nota(s) de R$ 50,00')\n",
        "  print(vinte,'nota(s) de R$ 20,00')\n",
        "  print(dez,'nota(s) de R$ 10,00')\n",
        "  print(cinco,'nota(s) de R$ 5,00')\n",
        "  print(dois,'nota(s) de R$ 2,00')\n",
        "  print(um,'nota(s) de R$ 1,00')\n",
        "  print(\"----------------------------------------------------\")\n",
        "def menu():\n",
        "  n=input(\"vc deseja continuar\\n\")\n",
        "  return n\n",
        "def programa40():\n",
        "  s=\"sim\"\n",
        "  while s =='sim':\n",
        "    valor=int(input('digite o valor\\n'))\n",
        "    divisao=menor_nume_notas(valor)\n",
        "    print(divisao)\n",
        "    s=menu()\n",
        "#finalizado-Alexsandro costa"
      ]
    },
    {
      "cell_type": "markdown",
      "metadata": {
        "id": "CLau_ZCtb4rH"
      },
      "source": [
        "--------------------\n",
        "\n"
      ]
    },
    {
      "cell_type": "code",
      "execution_count": null,
      "metadata": {
        "id": "ls0yqvR5YWEz"
      },
      "outputs": [],
      "source": [
        "#Questão 69\n",
        "def pos_dama():\n",
        "  import math as  m\n",
        "  x1,y1,x2,y2=[int(x) for x in input(\"digite od valores\").split()]\n",
        "  quant_mov=0\n",
        "  while (x1!=0 and y1!=0 and x2!=0 and y2!=0 ):\n",
        "    if x1==x2 and y1==y2:#origem igual a destino\n",
        "      quant_mov=0\n",
        "    elif x1==x2 or y1==y2 or (m.fabs(x1-x2)==m.fabs(y1-y2)):#mesma coluna ,linha ou diagonal\n",
        "      quant_mov=1\n",
        "    else:\n",
        "      quant_mov=2\n",
        "    return quant_mov\n",
        "    print(quant_mov)\n",
        "\n"
      ]
    },
    {
      "cell_type": "code",
      "execution_count": null,
      "metadata": {
        "id": "aI0s6NhcZUov"
      },
      "outputs": [],
      "source": [
        "pos_dama()\n"
      ]
    },
    {
      "cell_type": "markdown",
      "metadata": {
        "id": "6Ud07ezaYZpL"
      },
      "source": [
        "\n",
        "\n",
        "---\n",
        "\n",
        "\n",
        "\n"
      ]
    },
    {
      "cell_type": "code",
      "execution_count": null,
      "metadata": {
        "id": "Wgz4jQ-NpoZn"
      },
      "outputs": [],
      "source": [
        "#Questão 73\n",
        "def real_p_dolar(valor_dolar,montante):\n",
        "  conver=valor_dolar*montante\n",
        "  desconte=0\n",
        "  if conver > (valor_dolar*1000):\n",
        "    desconte=conver*(3/100)\n",
        "    conver=conver-desconte\n",
        "  return conver\n",
        "def menu():\n",
        "  v=input(\"deseja continuar\\n\")\n",
        "  return v\n",
        "def programa73():\n",
        "  cont='sim'\n",
        "  while cont =='sim':\n",
        "    valor_dolar=float(input(\"digite a cotaçao atual do dolar\\n\"))\n",
        "    montante=float(input(\"digite o montante que deseja converter\\n\"))\n",
        "    valor_convertido= real_p_dolar(valor_dolar,montante)\n",
        "    valor_convertido='%.2f'% valor_convertido\n",
        "    print(\"o montante convertido é\",valor_convertido)\n",
        "    cont=menu()\n",
        "#Finalizado-Aleexsandro costa\n",
        "  "
      ]
    },
    {
      "cell_type": "markdown",
      "metadata": {
        "id": "C-0y3KR2fdWY"
      },
      "source": [
        "\n",
        "\n",
        "---\n",
        "\n"
      ]
    },
    {
      "cell_type": "code",
      "execution_count": null,
      "metadata": {
        "id": "_rqFtDyubupl"
      },
      "outputs": [],
      "source": [
        "#Questao 86\n",
        "def media_elemetos(v):\n",
        "  soma=0\n",
        "  cont=0\n",
        "  for z in v:\n",
        "    soma=soma+z\n",
        "    cont=cont+1\n",
        "    media=soma/cont\n",
        "  return media\n",
        "def programa86():\n",
        "  v=[int(z) for z in input(\"digite os valores\\n\").split()]\n",
        "  media =media_elemetos(v)\n",
        "  media= str('%.2f'%media )\n",
        "  print(\"A media dos elementos é \",media)\n",
        "  #Finalizado-Alexsandro costa"
      ]
    },
    {
      "cell_type": "markdown",
      "metadata": {
        "id": "rqhukPdoFZh8"
      },
      "source": [
        "\n",
        "\n",
        "---\n",
        "\n"
      ]
    },
    {
      "cell_type": "code",
      "execution_count": null,
      "metadata": {
        "id": "P5lTZXolgOuS"
      },
      "outputs": [],
      "source": [
        "#Questão 91\n",
        "def op_maior_menor(list):\n",
        "  maior=list[0]\n",
        "  menor=list[0]\n",
        "  soma,sub,mult,div=0,0,0,0\n",
        "  N=len(list)\n",
        "  for x in range(N):\n",
        "    if list[x] > maior:\n",
        "      maior=list[x]\n",
        "    if list[x]< menor:\n",
        "      menor=list[x]\n",
        "  soma=maior+menor\n",
        "  sub=maior-menor\n",
        "  mult=maior*menor\n",
        "  div=maior/menor\n",
        "  print(maior,\"+\",menor,\"=\",soma)\n",
        "  print(maior,\"-\",menor,\"=\",sub)\n",
        "  print(maior,\"*\",menor,\"=\",mult)\n",
        "  print(maior,\"/\",menor,\"=\",div)\n",
        "def programa91():\n",
        "  list=[int(x) for x in input(\"digite os elementos\\n\").split()]\n",
        "  print(op_maior_menor(list))\n",
        "  #finalizado-Alexsandro costa"
      ]
    },
    {
      "cell_type": "markdown",
      "metadata": {
        "id": "2GX90tszXiXV"
      },
      "source": [
        "\n",
        "\n",
        "---\n",
        "\n"
      ]
    },
    {
      "cell_type": "code",
      "source": [
        "#Questão 95\n",
        "def divi_soma_13():\n",
        "  x=int(input(\"digite o primeiro valor\"))\n",
        "  y=int(input(\"digite o segundo valor\"))\n",
        "  soma=0\n",
        "  for i in range(x,y+1):\n",
        "    if i%13 !=0:\n",
        "      soma=soma+i\n",
        "  return soma\n"
      ],
      "metadata": {
        "id": "YE9lj1XCzR-8"
      },
      "execution_count": null,
      "outputs": []
    },
    {
      "cell_type": "code",
      "source": [
        "divi_soma_13()"
      ],
      "metadata": {
        "id": "QZsMnog5vn3J"
      },
      "execution_count": null,
      "outputs": []
    },
    {
      "cell_type": "markdown",
      "source": [
        "\n",
        "\n",
        "---\n",
        "\n"
      ],
      "metadata": {
        "id": "Pyu6ukP0wFXZ"
      }
    },
    {
      "cell_type": "code",
      "source": [
        "#Questão 96\n",
        "def resto_5_2_or_3():\n",
        "  x=int(input('digite o primeiro numero\\n'))\n",
        "  y=int(input('digite o degundo numero\\n'))\n",
        "  for z in range(x,y):\n",
        "    if z % 5 == 3 or z % 5==2:\n",
        "      print(z)"
      ],
      "metadata": {
        "id": "KdU-XGA1wHIo"
      },
      "execution_count": null,
      "outputs": []
    },
    {
      "cell_type": "code",
      "source": [
        "resto_5_2_or_3()"
      ],
      "metadata": {
        "id": "nK0VTraWJfPL"
      },
      "execution_count": null,
      "outputs": []
    },
    {
      "cell_type": "markdown",
      "source": [
        "\n",
        "\n",
        "---\n",
        "\n"
      ],
      "metadata": {
        "id": "wXbTmNolJ4xz"
      }
    }
  ],
  "metadata": {
    "colab": {
      "collapsed_sections": [],
      "name": "102_problemas_em_python.py",
      "provenance": [],
      "authorship_tag": "ABX9TyPybBGMTVWVKuMsiyunMfwA",
      "include_colab_link": true
    },
    "kernelspec": {
      "display_name": "Python 3",
      "name": "python3"
    },
    "language_info": {
      "name": "python"
    }
  },
  "nbformat": 4,
  "nbformat_minor": 0
}