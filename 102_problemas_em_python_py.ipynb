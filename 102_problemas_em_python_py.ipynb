{
  "cells": [
    {
      "cell_type": "markdown",
      "metadata": {
        "id": "view-in-github",
        "colab_type": "text"
      },
      "source": [
        "<a href=\"https://colab.research.google.com/github/sandroccosta/102-problemas-resolvidos-em-python/blob/main/102_problemas_em_python_py.ipynb\" target=\"_parent\"><img src=\"https://colab.research.google.com/assets/colab-badge.svg\" alt=\"Open In Colab\"/></a>"
      ]
    },
    {
      "cell_type": "markdown",
      "source": [
        "\n",
        "6- Gisele é uma menina que gosta muito de fazer compras mas tem muita dificuldade com os números. Na última vez que saiu para fazer compras Gisele observou que havia uma loja com a promoção compre três peças de roupa e pague somente duas. Neste caso, das três peças, Gisele não precisaria pagar a peça de menor valor. Gisele ficou curiosa em saber o quanto ela estaria ganhando de desconto levando em consideração o valor da sua compra. Como você é amigo de Gisele ela pediu a sua ajuda para escrever um algoritmo que, dado o valor total da compra e o valor que ela pagou, **informe qual o\n",
        "desconto que Gisele obteve**. "
      ],
      "metadata": {
        "id": "IR5iFjYIlJ14"
      }
    },
    {
      "cell_type": "code",
      "execution_count": 3,
      "metadata": {
        "id": "ZmuC6xYIKx4Y",
        "colab": {
          "base_uri": "https://localhost:8080/"
        },
        "outputId": "1d003cba-fa2f-4e3a-c052-4a7c1f9fb328"
      },
      "outputs": [
        {
          "output_type": "stream",
          "name": "stdout",
          "text": [
            "Digite o valor total que seria pago\n",
            "210\n",
            "Digite o valor a ser pago\n",
            "140\n",
            "o desconto a ser pado será de 0.33\n"
          ]
        }
      ],
      "source": [
        "#Questao06\n",
        "valor_total=float(input(\"Digite o valor total que seria pago\\n\"))#usuario deve inserir o valor total \n",
        "valor_pago=float(input(\"Digite o valor a ser pago\\n\"))#usuario deve inserir o valor que será \n",
        "porcentagem=float(valor_pago*100)/valor_total#nesta linha mostrar qual a porcertangem que sera pagor em relaçao ao valor total\n",
        "desconto=float(100-porcentagem)/100#nesta linha mostra a porcentagen do desconto\n",
        "desconto=\"%.2f\"%desconto\n",
        "print(\"o desconto a ser pado será de\",desconto) \n",
        "#finalizado-Alexsandro costa"
      ]
    },
    {
      "cell_type": "markdown",
      "source": [
        "\n",
        "\n",
        "---\n",
        "\n"
      ],
      "metadata": {
        "id": "QwAXKRu0zI-_"
      }
    },
    {
      "cell_type": "code",
      "execution_count": null,
      "metadata": {
        "id": "MRmIwKiqhOC-"
      },
      "outputs": [],
      "source": [
        "#Questao09\n",
        "def dindin_nota():\n",
        "  n1,n2,n3,n4,n5,n6=[float(x) for x in input(\"digite as notas separadas por espaço\\n\").split()]\n",
        "  soma=(n1*0.3)+(n2*0.3)+(n3*0.3)+(n4*0.3)+(n5*0.3)+(n6*0.3)\n",
        "  soma=\"%.2f\"%soma\n",
        "  print(\"A quantia que joaquina receberá é de R$\",soma)\n",
        "  #FINALIZADO-ALEXSANDRO COSTA"
      ]
    },
    {
      "cell_type": "markdown",
      "source": [
        "\n",
        "\n",
        "---\n",
        "\n"
      ],
      "metadata": {
        "id": "DNmorAsoiteT"
      }
    },
    {
      "cell_type": "code",
      "execution_count": null,
      "metadata": {
        "id": "sOsxUaZpinBd"
      },
      "outputs": [],
      "source": [
        "#Questão 13\n",
        "def emprestimo():\n",
        "  V_empres=float(input(\"digite o valor do emprestado\\n\"))\n",
        "  temp=int(input(\"digite a quantidade de prestações\\n\"))\n",
        "  J=V_empres * 0.08 * temp\n",
        "  mont=V_empres+J\n",
        "  mont=\"%.2f'\"%mont\n",
        "  print(\"o montante a ser pago é de R$\",mont)\n",
        "  #Finalizado Alexsandro costa"
      ]
    },
    {
      "cell_type": "code",
      "execution_count": null,
      "metadata": {
        "id": "IyjBnTWAkEzY",
        "colab": {
          "base_uri": "https://localhost:8080/"
        },
        "outputId": "e62ba172-c8c9-46b2-d49d-cd0d6b8d58e2"
      },
      "outputs": [
        {
          "output_type": "stream",
          "name": "stdout",
          "text": [
            "digite o valor do emprestado\n",
            "1000\n",
            "digite a quantidade de prestações\n",
            "3\n",
            "o montante a ser pago é de R$ 1240.00'\n"
          ]
        }
      ],
      "source": [
        "emprestimo()"
      ]
    },
    {
      "cell_type": "markdown",
      "metadata": {
        "id": "qdtbjuWyD4J3"
      },
      "source": [
        "\n",
        "\n",
        "---\n",
        "\n",
        "\n",
        "\n",
        "\n"
      ]
    },
    {
      "cell_type": "code",
      "source": [
        "#QUESTÃO 16\n",
        "def tam_popu_x():\n",
        "  import math as m\n",
        "  x=float(input(\"digite o tempo em que vc quer o tamanho populacional\\n\"))\n",
        "  tamanho=(20-(1/2**x))*1000\n",
        "  tamanho=m.floor(tamanho)\n",
        "  print(\"o tamanho da população em\",x,\"anos sera de\",tamanho)\n",
        "  #finalizado-Alexsandro costa"
      ],
      "metadata": {
        "id": "BZAQqAcm8uq7"
      },
      "execution_count": null,
      "outputs": []
    },
    {
      "cell_type": "code",
      "source": [
        "tam_popu_x()"
      ],
      "metadata": {
        "id": "evPeUBQ9-KUH"
      },
      "execution_count": null,
      "outputs": []
    },
    {
      "cell_type": "markdown",
      "source": [
        "\n",
        "\n",
        "---\n",
        "\n"
      ],
      "metadata": {
        "id": "h5oBir7l8vFK"
      }
    },
    {
      "cell_type": "code",
      "execution_count": null,
      "metadata": {
        "id": "lhW0PXtOX3ch"
      },
      "outputs": [],
      "source": [
        "#Questão 23\n",
        "def porcent_juros():\n",
        " cap=float(input(\"digite o capital a ser investido\\n\"))\n",
        " mont=float(input(\"digite o montante que deseja antigir\\n\"))\n",
        " tempo=float(input(\"digite por quanto tempo deseja investir em mezes\\n\"))\n",
        " tx=(mont/cap)**(1/tempo)\n",
        " taxa=(tx-1)*100\n",
        " taxa=\"%.2f\"%taxa\n",
        " print(\"vc precizará de um investimente que renda\",taxa,\"%\",\"para atingir o montante de\",mont,\"em\",tempo,\"meses\")\n",
        " #FINALIZADO-ALEXANDRO COSTA \n",
        " "
      ]
    },
    {
      "cell_type": "markdown",
      "source": [
        "\n",
        "\n",
        "---\n",
        "\n"
      ],
      "metadata": {
        "id": "k96iyFVKzjrb"
      }
    },
    {
      "cell_type": "code",
      "source": [
        "#QUESTÃO 24\n",
        "def invest():\n",
        "  import math as m\n",
        "  c=float(input(\"digite o valor investido\\n\"))\n",
        "  i=float(input(\"digite o valor da taxa anual\\n\"))\n",
        "  mont=float(input(\"digite o valor montante\\n\"))\n",
        "  t=(m.log10(mont/c))/(m.log10(1+i))\n",
        "  temp=m.ceil(t)\n",
        "  print(temp)\n",
        "  #Finalizado-Alexsandro costa"
      ],
      "metadata": {
        "id": "YShz_s5lzpU7"
      },
      "execution_count": null,
      "outputs": []
    },
    {
      "cell_type": "markdown",
      "source": [
        "\n",
        "\n",
        "---\n",
        "\n"
      ],
      "metadata": {
        "id": "GwvCxM7azqF7"
      }
    },
    {
      "cell_type": "code",
      "execution_count": null,
      "metadata": {
        "id": "IvgrZS8UzCqG"
      },
      "outputs": [],
      "source": [
        "#Questão 25\n",
        "def comprar_casa():\n",
        "  k=float(input(\"digite o valor investido\\n\"))\n",
        "  x=float(input(\"digite o vslor da taxa anual\\n\"))\n",
        "  y=float(input(\"digite o valor da casa\\n\"))\n",
        "  z=float(input(\"digite a taxa de valorização anual da casa\\n\"))\n",
        "  t=0\n",
        "  while True:\n",
        "    m1=int(k*(1+x)**t)\n",
        "    m2=int(y*(1+z)**t)\n",
        "    if m1>m2:\n",
        "       print(\"Serão decorridos\",t,\"anos para comprar a casa\")\n",
        "       break\n",
        "    t=t+1\n",
        "#FINALIZADO-ALEXSANDRO COSTA"
      ]
    },
    {
      "cell_type": "code",
      "execution_count": null,
      "metadata": {
        "id": "kjlYJf5ynw_n"
      },
      "outputs": [],
      "source": [
        "comprar_casa()"
      ]
    },
    {
      "cell_type": "markdown",
      "metadata": {
        "id": "jI7B8_-ZYLJc"
      },
      "source": [
        "\n",
        "\n",
        "---\n",
        "\n"
      ]
    },
    {
      "cell_type": "code",
      "execution_count": null,
      "metadata": {
        "id": "ak0qEQ7hX5zB"
      },
      "outputs": [],
      "source": [
        "#Questão 40\n",
        "def menor_nume_notas(valor):\n",
        "  cen=int(valor/100)  \n",
        "  valor=valor-(cen*100)\n",
        "\n",
        "  ciquen=int(valor/50)\n",
        "  valor=valor-(ciquen*50)\n",
        "\n",
        "  vinte = int(valor/20)\n",
        "  valor=valor-(vinte*20)\n",
        "\n",
        "  dez=int(valor/10)\n",
        "  valor=valor-(dez*10)\n",
        "\n",
        "  cinco=int(valor/5)\n",
        "  valor=valor-(cinco*5)\n",
        "\n",
        "  dois=int(valor/2)\n",
        "  valor=valor-(dois*2)\n",
        "\n",
        "  um=int(valor/1)\n",
        "  valor=valor-(um*1)\n",
        "  print(cen,'nota(s) de R$ 100,00')\n",
        "  print(ciquen,'nota(s) de R$ 50,00')\n",
        "  print(vinte,'nota(s) de R$ 20,00')\n",
        "  print(dez,'nota(s) de R$ 10,00')\n",
        "  print(cinco,'nota(s) de R$ 5,00')\n",
        "  print(dois,'nota(s) de R$ 2,00')\n",
        "  print(um,'nota(s) de R$ 1,00')\n",
        "  print(\"----------------------------------------------------\")\n",
        "def menu():\n",
        "  n=input(\"vc deseja continuar\\n\")\n",
        "  return n\n",
        "def programa40():\n",
        "  s=\"sim\"\n",
        "  while s =='sim':\n",
        "    valor=int(input('digite o valor\\n'))\n",
        "    divisao=menor_nume_notas(valor)\n",
        "    print(divisao)\n",
        "    s=menu()\n",
        "#finalizado-Alexsandro costa"
      ]
    },
    {
      "cell_type": "markdown",
      "metadata": {
        "id": "CLau_ZCtb4rH"
      },
      "source": [
        "--------------------\n",
        "\n"
      ]
    },
    {
      "cell_type": "code",
      "execution_count": null,
      "metadata": {
        "id": "ls0yqvR5YWEz"
      },
      "outputs": [],
      "source": [
        "#Questão 69\n",
        "def pos_dama():\n",
        "  import math as  m\n",
        "  x1,y1,x2,y2=[int(x) for x in input(\"digite od valores\").split()]\n",
        "  quant_mov=0\n",
        "  while (x1!=0 and y1!=0 and x2!=0 and y2!=0 ):\n",
        "    if x1==x2 and y1==y2:#origem igual a destino\n",
        "      quant_mov=0\n",
        "    elif x1==x2 or y1==y2 or (m.fabs(x1-x2)==m.fabs(y1-y2)):#mesma coluna ,linha ou diagonal\n",
        "      quant_mov=1\n",
        "    else:\n",
        "      quant_mov=2\n",
        "    return quant_mov\n",
        "    print(quant_mov)\n",
        "\n"
      ]
    },
    {
      "cell_type": "code",
      "execution_count": null,
      "metadata": {
        "id": "aI0s6NhcZUov"
      },
      "outputs": [],
      "source": [
        "pos_dama()\n"
      ]
    },
    {
      "cell_type": "markdown",
      "metadata": {
        "id": "6Ud07ezaYZpL"
      },
      "source": [
        "\n",
        "\n",
        "---\n",
        "\n",
        "\n",
        "\n"
      ]
    },
    {
      "cell_type": "code",
      "execution_count": null,
      "metadata": {
        "id": "Wgz4jQ-NpoZn"
      },
      "outputs": [],
      "source": [
        "#Questão 73\n",
        "def real_p_dolar(valor_dolar,montante):\n",
        "  conver=valor_dolar*montante\n",
        "  desconte=0\n",
        "  if conver > (valor_dolar*1000):\n",
        "    desconte=conver*(3/100)\n",
        "    conver=conver-desconte\n",
        "  return conver\n",
        "def menu():\n",
        "  v=input(\"deseja continuar\\n\")\n",
        "  return v\n",
        "def programa73():\n",
        "  cont='sim'\n",
        "  while cont =='sim':\n",
        "    valor_dolar=float(input(\"digite a cotaçao atual do dolar\\n\"))\n",
        "    montante=float(input(\"digite o montante que deseja converter\\n\"))\n",
        "    valor_convertido= real_p_dolar(valor_dolar,montante)\n",
        "    valor_convertido='%.2f'% valor_convertido\n",
        "    print(\"o montante convertido é\",valor_convertido)\n",
        "    cont=menu()\n",
        "#Finalizado-Aleexsandro costa\n",
        "  "
      ]
    },
    {
      "cell_type": "markdown",
      "metadata": {
        "id": "C-0y3KR2fdWY"
      },
      "source": [
        "\n",
        "\n",
        "---\n",
        "\n"
      ]
    },
    {
      "cell_type": "code",
      "execution_count": null,
      "metadata": {
        "id": "_rqFtDyubupl"
      },
      "outputs": [],
      "source": [
        "#Questao 86\n",
        "def media_elemetos(v):\n",
        "  soma=0\n",
        "  cont=0\n",
        "  for z in v:\n",
        "    soma=soma+z\n",
        "    cont=cont+1\n",
        "    media=soma/cont\n",
        "  return media\n",
        "def programa86():\n",
        "  v=[int(z) for z in input(\"digite os valores\\n\").split()]\n",
        "  media =media_elemetos(v)\n",
        "  media= str('%.2f'%media )\n",
        "  print(\"A media dos elementos é \",media)\n",
        "  #Finalizado-Alexsandro costa"
      ]
    },
    {
      "cell_type": "markdown",
      "metadata": {
        "id": "rqhukPdoFZh8"
      },
      "source": [
        "\n",
        "\n",
        "---\n",
        "\n"
      ]
    },
    {
      "cell_type": "code",
      "execution_count": null,
      "metadata": {
        "id": "P5lTZXolgOuS"
      },
      "outputs": [],
      "source": [
        "#Questão 91\n",
        "def op_maior_menor(list):\n",
        "  maior=list[0]\n",
        "  menor=list[0]\n",
        "  soma,sub,mult,div=0,0,0,0\n",
        "  N=len(list)\n",
        "  for x in range(N):\n",
        "    if list[x] > maior:\n",
        "      maior=list[x]\n",
        "    if list[x]< menor:\n",
        "      menor=list[x]\n",
        "  soma=maior+menor\n",
        "  sub=maior-menor\n",
        "  mult=maior*menor\n",
        "  div=maior/menor\n",
        "  print(maior,\"+\",menor,\"=\",soma)\n",
        "  print(maior,\"-\",menor,\"=\",sub)\n",
        "  print(maior,\"*\",menor,\"=\",mult)\n",
        "  print(maior,\"/\",menor,\"=\",div)\n",
        "def programa91():\n",
        "  list=[int(x) for x in input(\"digite os elementos\\n\").split()]\n",
        "  print(op_maior_menor(list))\n",
        "  #finalizado-Alexsandro costa"
      ]
    },
    {
      "cell_type": "markdown",
      "metadata": {
        "id": "2GX90tszXiXV"
      },
      "source": [
        "\n",
        "\n",
        "---\n",
        "\n"
      ]
    },
    {
      "cell_type": "code",
      "source": [
        "#Questão 95\n",
        "def divi_soma_13():\n",
        "  x=int(input(\"digite o primeiro valor\"))\n",
        "  y=int(input(\"digite o segundo valor\"))\n",
        "  soma=0\n",
        "  for i in range(x,y+1):\n",
        "    if i%13 !=0:\n",
        "      soma=soma+i\n",
        "  return soma\n"
      ],
      "metadata": {
        "id": "YE9lj1XCzR-8"
      },
      "execution_count": null,
      "outputs": []
    },
    {
      "cell_type": "code",
      "source": [
        "divi_soma_13()"
      ],
      "metadata": {
        "id": "QZsMnog5vn3J"
      },
      "execution_count": null,
      "outputs": []
    },
    {
      "cell_type": "markdown",
      "source": [
        "\n",
        "\n",
        "---\n",
        "\n"
      ],
      "metadata": {
        "id": "Pyu6ukP0wFXZ"
      }
    },
    {
      "cell_type": "code",
      "source": [
        "#Questão 96\n",
        "def resto_5_2_or_3():\n",
        "  x=int(input('digite o primeiro numero\\n'))\n",
        "  y=int(input('digite o degundo numero\\n'))\n",
        "  for z in range(x,y):\n",
        "    if z % 5 == 3 or z % 5==2:\n",
        "      print(z)"
      ],
      "metadata": {
        "id": "KdU-XGA1wHIo"
      },
      "execution_count": null,
      "outputs": []
    },
    {
      "cell_type": "code",
      "source": [
        "resto_5_2_or_3()"
      ],
      "metadata": {
        "id": "nK0VTraWJfPL"
      },
      "execution_count": null,
      "outputs": []
    },
    {
      "cell_type": "markdown",
      "source": [
        "\n",
        "\n",
        "---\n",
        "\n"
      ],
      "metadata": {
        "id": "wXbTmNolJ4xz"
      }
    }
  ],
  "metadata": {
    "colab": {
      "collapsed_sections": [],
      "name": "102_problemas_em_python.py",
      "provenance": [],
      "authorship_tag": "ABX9TyOveUFU2105BaPPa7DNH1tL",
      "include_colab_link": true
    },
    "kernelspec": {
      "display_name": "Python 3",
      "name": "python3"
    },
    "language_info": {
      "name": "python"
    }
  },
  "nbformat": 4,
  "nbformat_minor": 0
}