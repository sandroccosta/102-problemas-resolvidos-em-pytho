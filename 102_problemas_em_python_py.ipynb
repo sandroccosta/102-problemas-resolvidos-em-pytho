{
  "cells": [
    {
      "cell_type": "markdown",
      "metadata": {
        "colab_type": "text",
        "id": "view-in-github"
      },
      "source": [
        "<a href=\"https://colab.research.google.com/github/sandroccosta/102-problemas-resolvidos-em-python/blob/main/102_problemas_em_python_py.ipynb\" target=\"_parent\"><img src=\"https://colab.research.google.com/assets/colab-badge.svg\" alt=\"Open In Colab\"/></a>"
      ]
    },
    {
      "cell_type": "markdown",
      "metadata": {
        "id": "7ahkNvkYoCja"
      },
      "source": [
        "1- João pretende viajar de carro de Paragominas para Belém e gostaria de sua ajuda para saber o quanto ele irá gastar. Considerando que a distância de Belém para Paragominas\n",
        "é de 312 km, escreva um algoritmo que dado o preço do litro da gasolina e a autonomia\n",
        "do carro em km/l calcule o gasto de João."
      ]
    },
    {
      "cell_type": "code",
      "execution_count": 2,
      "metadata": {
        "colab": {
          "base_uri": "https://localhost:8080/"
        },
        "id": "7BoHqa6H1JZx",
        "outputId": "1687f564-984c-4e1c-db42-d41daa4d2fed"
      },
      "outputs": [
        {
          "name": "stdout",
          "output_type": "stream",
          "text": [
            "o gasto total de João sera de R$ 150.49\n"
          ]
        }
      ],
      "source": [
        "#Questao 01\n",
        "preco_gaso=float(input(\"digite o preço do litro da gasolina\\nR$ \"))\n",
        "auto_car=float(input(\"digite a autonomia de consumo do veículo\\nkm/l \"))\n",
        "Distance=float(input(\"digite a distancia precorrida pelo veículo\\nkm 4\"))\n",
        "total_l_car= Distance/auto_car#calcula o total de litros que o veiculo necessitara para percorre toda a distância\n",
        "total_pago=total_l_car*preco_gaso#calculo do total a ser pago\n",
        "total_pago=\"%.2f\"%total_pago\n",
        "print(\"o gasto total de João sera de R$\",total_pago)\n",
        "#Alexsandro costa"
      ]
    },
    {
      "cell_type": "markdown",
      "metadata": {
        "id": "3C7kYgSxoJZ4"
      },
      "source": [
        "\n",
        "\n",
        "---\n",
        "\n"
      ]
    },
    {
      "cell_type": "markdown",
      "metadata": {
        "id": "P4RJXIlJr8g8"
      },
      "source": [
        "2- Mario é um pedreiro e foi contratado para “lajotar” a sala de uma casa. Mario está\n",
        "com dificuldade de informar ao seu cliente a quantidade de lajotas que devem ser\n",
        "compradas e pediu sua ajuda para escrever um algoritmo que, dado a largura e\n",
        "comprimento da sala e a largura e comprimento da lajota, informe a quantidade mínima\n",
        "de lajotas que devem ser compradas. As medidas da sala devem ser informadas em\n",
        "metros e as da lajota em centímetros."
      ]
    },
    {
      "cell_type": "code",
      "execution_count": 6,
      "metadata": {
        "colab": {
          "base_uri": "https://localhost:8080/"
        },
        "id": "gwsYHAUoy9NK",
        "outputId": "81f1d047-e196-4f1b-9ed5-604b358af6c9"
      },
      "outputs": [
        {
          "name": "stdout",
          "output_type": "stream",
          "text": [
            "Devem ser compradas 10000 lajotas para sala de 100.0 m²\n"
          ]
        }
      ],
      "source": [
        "##Questão 02\n",
        "import math \n",
        "l_sala,c_sala=[float(x) for x in input(\"digite a lagura e o comprimento da sala em metros\\n\").split()]\n",
        "area_sala=l_sala*c_sala#calculo da area da sala\n",
        "#--------------------------------------------------------------------\n",
        "l_lajo,c_lajo=[float(x) for x in input(\"digite a lagura e o coprimento da lajota em cm\\n\").split()]\n",
        "area_lajo=(l_lajo*c_lajo)/10000 #calculo da area da lajota e conversao de cm² para m²\n",
        "total=area_sala/area_lajo# calculo para saber o total necessario de lajotas\n",
        "total=math.ceil(total)# arredondar para cima\n",
        "\n",
        "print(\"Devem ser compradas\",total,\"lajotas para sala de\",area_sala,\"m²\")\n",
        "#Alexsandro costa"
      ]
    },
    {
      "cell_type": "markdown",
      "metadata": {
        "id": "zAvOYGQaBAsu"
      },
      "source": [
        "\n",
        "\n",
        "---\n",
        "\n"
      ]
    },
    {
      "attachments": {},
      "cell_type": "markdown",
      "metadata": {
        "id": "jMSZouuG71ME"
      },
      "source": [
        "3- Mariazinha está muito contente porque irá viajar pela primeira vez aos Estados\n",
        "Unidos. Para realizar todos os seus passeios e compras, a agencia de turismo informou\n",
        "que Mariazinha precisa levar no mínimo 15 mil dólares. Mariazinha não é muito boa\n",
        "com os números e pediu a sua ajuda para escrever um algoritmo que, dado o valor de\n",
        "um dólar em reais, informe quantos reais Mariazinha deve guardar para a sua viagem."
      ]
    },
    {
      "cell_type": "code",
      "execution_count": 7,
      "metadata": {
        "colab": {
          "base_uri": "https://localhost:8080/"
        },
        "id": "p-KcuQyb-1It",
        "outputId": "3fa9d5dd-12d9-4dd0-a52c-45f1d5b83fdb"
      },
      "outputs": [
        {
          "name": "stdout",
          "output_type": "stream",
          "text": [
            "Mariazinha deve guarda R$ 56250.0 para a viagem\n"
          ]
        }
      ],
      "source": [
        "#Questão 03\n",
        "cota_dolar=float(input(\"Qual a cotação atual do dolar\\nR$\"))\n",
        "valor_dolar=float(input(\"Digite a o valor que deseja converte para real\\n$\"))\n",
        "valor_real=valor_dolar*cota_dolar\n",
        "print(\"Mariazinha deve guarda R$\",valor_real,\"para a viagem\")\n",
        "#Alexsandro costa"
      ]
    },
    {
      "cell_type": "markdown",
      "metadata": {
        "id": "sfBPPV2LsCF4"
      },
      "source": [
        "\n",
        "\n",
        "---\n",
        "\n"
      ]
    },
    {
      "cell_type": "markdown",
      "metadata": {
        "id": "PWWIpkPh9bD3"
      },
      "source": [
        "4- Em sua primeira viagem para os Estados Unidos Mariazinha gastou além do esperado\n",
        "e infelizmente teve que usar o seu cartão de crédito. Ao verificar sua fatura Mariazinha\n",
        "percebeu que a cobrança estava sendo feita em dólar e que, por se tratar de compra\n",
        "internacional, o cartão de crédito cobrou uma taxa de 2% sobre o valor da compra.\n",
        "Mariazinha mais uma vez pediu a sua ajuda para escrever um algoritmo que, dado o\n",
        "valor da fatura e o valor de um dólar, escreva um algoritmo que calcule quanto\n",
        "Mariazinha terá que pagar em reais."
      ]
    },
    {
      "cell_type": "code",
      "execution_count": 9,
      "metadata": {
        "colab": {
          "base_uri": "https://localhost:8080/"
        },
        "id": "GT_0PzOc9agY",
        "outputId": "3fd0ae8e-2140-422f-f7bd-efe95d154f1c"
      },
      "outputs": [
        {
          "name": "stdout",
          "output_type": "stream",
          "text": [
            "Mariazinha terá que pagar R$ 3589.76\n"
          ]
        }
      ],
      "source": [
        "#Questão 04\n",
        "c_dolar=float(input(\"Qual a cotação atual do dolar\\nR$\"))\n",
        "fatura=float(input(\"Digite o valor da fatura\\nR$ \"))\n",
        "fatura=fatura+(fatura*0.02)#adição da taxa de 2%\n",
        "total=fatura*c_dolar\n",
        "total=\"%0.2f\"%total#comando para imprimar ate duas casa após a vírgula\n",
        "print('Mariazinha terá que pagar R$',total) \n",
        "#Alexsandro costa"
      ]
    },
    {
      "cell_type": "markdown",
      "metadata": {
        "id": "2x4cjdGEAUzZ"
      },
      "source": [
        "\n",
        "\n",
        "---\n",
        "\n"
      ]
    },
    {
      "cell_type": "markdown",
      "metadata": {
        "id": "ZikBagA2AWNq"
      },
      "source": [
        "5- Mario é um pedreiro e foi contratado para “lajotar” a sala de uma casa. Mário irá\n",
        "utilizar uma massa especial para a fixação das lajotas. Esta massa é vendida em um tubo\n",
        "e, com um tubo, Mario consegue fixar trinta lajotas. Considerando as medidas de largura\n",
        "e comprimento da sala e largura e comprimento da lajota, Mário gostaria de sua ajuda\n",
        "para escrever um algoritmo que informe a quantidade mínima de tubos que ele irá ter\n",
        "que usar. As medidas da sala devem ser informadas em metros e as da lajota em\n",
        "centímetros"
      ]
    },
    {
      "cell_type": "code",
      "execution_count": 16,
      "metadata": {
        "colab": {
          "base_uri": "https://localhost:8080/"
        },
        "id": "GVP3ZYMcAT3L",
        "outputId": "50f005a5-e033-451e-985b-051f77edf787"
      },
      "outputs": [
        {
          "name": "stdout",
          "output_type": "stream",
          "text": [
            "será preciso 334 tubos\n"
          ]
        }
      ],
      "source": [
        "#Questão 05\n",
        "import math \n",
        "lg_sala,cp_sala=[float(x) for x in input(\"digite a lagura e comprimento da sala em metros separados por espaço\\n\").split()]\n",
        "area_sala=lg_sala*cp_sala#calculo da area da sala\n",
        "#--------------------------------------------------------------------------------------------------------\n",
        "lg_lajo,cp_lajo=[float(x) for x in input(\"digite a lagura e comprimento da lajota em  centímetro separados por espaço\\n\").split()]\n",
        "area_lajo=(lg_lajo*cp_lajo)/10000 #calculo da area da lajota e conversao de cm² para m²\n",
        "#--------------------------------------------------------------------------------------------------------\n",
        "total=math.ceil(area_sala/area_lajo)# calculo para saber o total necessario de lajotas e arredondar para cima\n",
        "tubos=math.ceil(total/30)\n",
        "print(\"será preciso\",tubos,\"tubos\")\n",
        "#Alexsandro costa"
      ]
    },
    {
      "cell_type": "markdown",
      "metadata": {
        "id": "yFZfgVFu9iT3"
      },
      "source": [
        "\n",
        "\n",
        "---\n",
        "\n"
      ]
    },
    {
      "cell_type": "markdown",
      "metadata": {
        "id": "IR5iFjYIlJ14"
      },
      "source": [
        "\n",
        "6- Gisele é uma menina que gosta muito de fazer compras mas tem muita dificuldade com os números. Na última vez que saiu para fazer compras Gisele observou que havia uma loja com a promoção compre três peças de roupa e pague somente duas. Neste caso, das três peças, Gisele não precisaria pagar a peça de menor valor. Gisele ficou curiosa em saber o quanto ela estaria ganhando de desconto levando em consideração o valor da sua compra. Como você é amigo de Gisele ela pediu a sua ajuda para escrever um algoritmo que, dado o valor total da compra e o valor que ela pagou, **informe qual o\n",
        "desconto que Gisele obteve**. "
      ]
    },
    {
      "cell_type": "code",
      "execution_count": 23,
      "metadata": {
        "colab": {
          "base_uri": "https://localhost:8080/"
        },
        "id": "ZmuC6xYIKx4Y",
        "outputId": "bfeaa42b-3e7e-4e31-f032-87ecb5628598"
      },
      "outputs": [
        {
          "name": "stdout",
          "output_type": "stream",
          "text": [
            "o desconto a ser pago será de 41 %\n"
          ]
        }
      ],
      "source": [
        "#Questao06\n",
        "valor_total=float(input(\"Digite o valor total que seria pago\\nR$\"))#usuario deve inserir o valor total \n",
        "valor_pago=float(input(\"Digite o valor a ser pago\\nR$\"))#usuario deve inserir o valor pago\n",
        "porcentagem=float(valor_pago*100)/valor_total#nesta linha mostrar qual a porcertangem que sera pagor em relaçao ao valor total\n",
        "desconto=100-porcentagem #nesta linha mostra a porcentagen do desconto\n",
        "desconto=\"%2.f\"%desconto\n",
        "print(\"o desconto a ser pago será de\",desconto,\"%\") \n",
        "#finalizado-Alexsandro costa"
      ]
    },
    {
      "cell_type": "markdown",
      "metadata": {
        "id": "QwAXKRu0zI-_"
      },
      "source": [
        "\n",
        "\n",
        "---\n",
        "\n"
      ]
    },
    {
      "cell_type": "markdown",
      "metadata": {
        "id": "4YIpkET2jmSh"
      },
      "source": [
        "7- Ricardinho ganhou um porquinho de moedas. Ao conversar com o seu avô, Ricardinho\n",
        "o convenceu a colocar em seu porquinho uma moeda de um real todos os dias da\n",
        "semana. Quando foi falar com a sua avó, Ricardinho a convenceu a colocar dois reais\n",
        "todos os sábados e domingos. Com o seu pai Ricardinho não foi muito feliz, ele falou\n",
        "que iria depositar somente quando possível. Após N semanas Ricardinho quebrou o seu\n",
        "porquinho e observou que possuía X reais. Ricardinho está curioso em saber quantos\n",
        "reais o seu pai depositou. Como você é amigo de Ricardinho, você irá escrever um\n",
        "algoritmo que dado os valores informados diga para Ricardinho quantos reais seu pai\n",
        "depositou em seu porquinho."
      ]
    },
    {
      "cell_type": "code",
      "execution_count": 24,
      "metadata": {
        "colab": {
          "base_uri": "https://localhost:8080/"
        },
        "id": "SJBW_xhEjldq",
        "outputId": "72f55e82-3bda-4c49-c3f3-1f676affbb98"
      },
      "outputs": [
        {
          "name": "stdout",
          "output_type": "stream",
          "text": [
            "o pai de Ricardinho depositou R$ 35.0\n"
          ]
        }
      ],
      "source": [
        "semanas=float(input(\"Digite por quantas semanas foram depositados dinheiro no porquinho\\n\"))\n",
        "valor_total_porquinho=float(input(\"Digite o valor total no cofrinho\\nR$\"))\n",
        "sab_Dom=semanas*2\n",
        "avô_depo=(semanas*7)+(sab_Dom*2)\n",
        "valor_pai_depositou=valor_total_porquinho-avô_depo\n",
        "print(\"o pai de Ricardinho depositou R$\",valor_pai_depositou)\n",
        "#Finalizado Alexsandro costa"
      ]
    },
    {
      "cell_type": "markdown",
      "metadata": {
        "id": "f7VzkQ9hmraa"
      },
      "source": [
        "\n",
        "\n",
        "---\n",
        "\n"
      ]
    },
    {
      "cell_type": "markdown",
      "metadata": {
        "id": "d6iAEP9Y3yT8"
      },
      "source": [
        "8- Ricardinho ganhou outro porquinho de moedas. Desta vez, convenceu o seu avô a\n",
        "depositar um real de segunda a sexta, e cinco reais no sábado. Já com a sua avó o acordo\n",
        "de depositar dois reais todos os sábados e domingos foi mantido. Com o seu pai,\n",
        "Ricardinho o convenceu a depositar seis reais a cada semana. Agora Ricardinho quer a\n",
        "sua ajuda para escrever um algoritmo que, dado o número de semanas, informe quantos\n",
        "reais ele vai ter."
      ]
    },
    {
      "cell_type": "code",
      "execution_count": 25,
      "metadata": {
        "colab": {
          "base_uri": "https://localhost:8080/"
        },
        "id": "us87HYgU3xtn",
        "outputId": "dce37426-c92d-4f2e-f18b-67c79d5e68b6"
      },
      "outputs": [
        {
          "name": "stdout",
          "output_type": "stream",
          "text": [
            "Ricardinho ira ter R$ 300.0\n"
          ]
        }
      ],
      "source": [
        "semanas=float(input(\"digite o valor total de semanas\\n\"))\n",
        "avô =10 * semanas\n",
        "avó= 4 * semanas\n",
        "pai= 6* semanas\n",
        "total=avô + avó + pai\n",
        "print(\"Ricardinho ira ter R$\",total)\n",
        "#Finalizado Alexsandro costa\n"
      ]
    },
    {
      "cell_type": "markdown",
      "metadata": {
        "id": "JLjuWUKZ7zxG"
      },
      "source": [
        "\n",
        "\n",
        "\n",
        "\n",
        "\n",
        "\n",
        "\n",
        "---\n",
        "\n"
      ]
    },
    {
      "cell_type": "markdown",
      "metadata": {
        "id": "jRo56NKA8IUx"
      },
      "source": [
        "9- Joaquina é uma menina muito inteligente e que tira boas notas. Conversando com a\n",
        "sua mãe, Joaquina fez a seguinte proposta: “Mãe no meu próximo boletim que tal a\n",
        "senhora me dar, em reais, 30% de cada nota que eu tirar?”. Sua mãe concordou e você\n",
        "terá que ajudar Joaquina escrevendo um algoritmo que receba as notas das disciplinas\n",
        "de Matemática, Português, Inglês, Ciências, História e Geografia e informe quantos reais\n",
        "ela vai ganhar"
      ]
    },
    {
      "cell_type": "code",
      "execution_count": 28,
      "metadata": {
        "id": "MRmIwKiqhOC-"
      },
      "outputs": [
        {
          "name": "stdout",
          "output_type": "stream",
          "text": [
            "A quantia que joaquina receberá é de R$ 16.20\n"
          ]
        }
      ],
      "source": [
        "#Questao09\n",
        "n1,n2,n3,n4,n5,n6=[float(x) for x in input(\"digite as notas separadas por espaço\\n\").split()]#utiliza-se este estilo de input para que o ususario insira os dados e gere automaticamente uma lista que será interada pelo x a parti do laço for . \n",
        "soma=(n1*0.3)+(n2*0.3)+(n3*0.3)+(n4*0.3)+(n5*0.3)+(n6*0.3)#de acordo com a sequencia que o usuário digite os valores,seram alocados nas variaveis declaradas \n",
        "soma=\"%.2f\"%soma\n",
        "print(\"A quantia que joaquina receberá é de R$\",soma)\n",
        "  #FINALIZADO-ALEXSANDRO COSTA"
      ]
    },
    {
      "cell_type": "markdown",
      "metadata": {
        "id": "DNmorAsoiteT"
      },
      "source": [
        "\n",
        "\n",
        "---\n",
        "\n"
      ]
    },
    {
      "cell_type": "markdown",
      "metadata": {
        "id": "78Sgx6h_-IX8"
      },
      "source": [
        "10- Todo equipamento elétrico possui uma potência apresentada em Watts cujo\n",
        "símbolo é W. Normalmente esta informação vem estampada no produto ou na\n",
        "embalagem. Exemplos: lâmpada incandescente=100W, chuveiro=3.600W. Para calcular\n",
        "o consumo de um equipamento multiplique sua potência pelo tempo de funcionamento\n",
        "em horas. Sabe-se que 1kW equivale a 1000W. Considerando as informações prévias,\n",
        "escreva um algoritmo que, dado o valor em reais de 1KW e o consumo mensal de uma\n",
        "casa em Watts, informe quantos reais será cobrado na fatura."
      ]
    },
    {
      "cell_type": "code",
      "execution_count": 30,
      "metadata": {
        "colab": {
          "base_uri": "https://localhost:8080/"
        },
        "id": "vyHyBm_E_rKv",
        "outputId": "cd034a4d-e241-4e22-f907-cfb116a3d2f1"
      },
      "outputs": [
        {
          "name": "stdout",
          "output_type": "stream",
          "text": [
            "Será cobrado R$ 280.0 na Fatura\n"
          ]
        }
      ],
      "source": [
        "valor=float(input(\"DIGITE O VALOR COBRADO POR KW\\nR$\"))\n",
        "consumo=float(input(\"DIGITE O CONSUMO MENSAL EM WATTS\\n\"))/1000\n",
        "total=consumo*valor\n",
        "print(\"Será cobrado R$\",total,\"na Fatura\")\n",
        "#Finalizado Alexsandro costa"
      ]
    },
    {
      "cell_type": "markdown",
      "metadata": {
        "id": "QIwjG8U7Au5d"
      },
      "source": [
        "\n",
        "\n",
        "---\n",
        "\n"
      ]
    },
    {
      "cell_type": "markdown",
      "metadata": {
        "id": "TckUH2R2AzeM"
      },
      "source": [
        "11- Considerando as informações da questão (10), escreva um algoritmo que, dado o\n",
        "valor em reais de 1kW e o valor da fatura de uma casa, informe quantos Watts foram\n",
        "consumidos. Vale ressaltar que a fatura é cobrada em kW."
      ]
    },
    {
      "cell_type": "code",
      "execution_count": 31,
      "metadata": {
        "colab": {
          "base_uri": "https://localhost:8080/"
        },
        "id": "Y4s2DjElAyC0",
        "outputId": "1f64b776-5ce8-4f08-a0fe-777308a40e64"
      },
      "outputs": [
        {
          "name": "stdout",
          "output_type": "stream",
          "text": [
            "foram consumidos 200000 w\n"
          ]
        }
      ],
      "source": [
        "valor=float(input(\"DIGITE O VALOR COBRADO POR KW\\nR$\"))\n",
        "total=float(input(\"DIGITE O VALOR DA FATURA\\nR$\"))\n",
        "consumo=(total/valor)*1000\n",
        "consumo=\"%.0f\"%consumo\n",
        "print(\"foram consumidos\",consumo,\"w\")\n",
        "#Finalido Alexsandro costa"
      ]
    },
    {
      "cell_type": "markdown",
      "metadata": {
        "id": "PnIoGGKiJO70"
      },
      "source": [
        "\n",
        "\n",
        "---\n",
        "\n"
      ]
    },
    {
      "cell_type": "markdown",
      "metadata": {
        "id": "008mIoayJO1b"
      },
      "source": [
        "12- Considerando que uma lâmpada tem 100W de potência, Batista gostaria de saber\n",
        "quantos reais será cobrado se X lâmpadas ficarem acesas oito horas por dia durante N\n",
        "dias. Para ajudar Batista, você deve escrever um algoritmo que, dado o valor de 1kW em\n",
        "reais; a quantidade de X e a quantidade de N, informe quantos reais será cobrado por\n",
        "este consumo.\n"
      ]
    },
    {
      "cell_type": "code",
      "execution_count": 32,
      "metadata": {
        "colab": {
          "base_uri": "https://localhost:8080/"
        },
        "id": "ssn4-YeLJOhE",
        "outputId": "d763021a-9416-4929-9364-4143c6376bec"
      },
      "outputs": [
        {
          "name": "stdout",
          "output_type": "stream",
          "text": [
            "o valor a ser pago será de R$ 203.52\n"
          ]
        }
      ],
      "source": [
        "V_watts=float(input(\"Digite o valor em reais de 1 kw\\nR$\"))\n",
        "quant_lamp=int(input(\"digite a quantidade de lâmpadas\\n\"))*100 #multiplica-se por pois cada lampada consome 100 watts\n",
        "dias=float(input(\"Digites a quantidades de dias\\n\"))*8 #mutiplique por 8 o numeros dias para transformar em horas\n",
        "consumo =(quant_lamp * dias)/1000\n",
        "valor= consumo * V_watts\n",
        "print(\"o valor a ser pago será de R$\",valor)\n",
        "#FINALIZADO ALEXSANDRO COSTA"
      ]
    },
    {
      "cell_type": "markdown",
      "metadata": {
        "id": "grp84TDjYQOE"
      },
      "source": [
        "\n",
        "\n",
        "---\n",
        "\n"
      ]
    },
    {
      "cell_type": "markdown",
      "metadata": {
        "id": "G8LWPdk9YSgT"
      },
      "source": [
        "13- Joana estava em uma situação difícil e precisou realizar um empréstimo bancário.\n",
        "Joana realizou um empréstimo de X reais e deve pagar este empréstimo em N meses\n",
        "com uma taxa de juros de 8% a.m. Joana pediu a sua ajuda para escrever um algoritmo\n",
        "que calcule o montante que deve ser pago ao banco."
      ]
    },
    {
      "cell_type": "code",
      "execution_count": 33,
      "metadata": {
        "colab": {
          "base_uri": "https://localhost:8080/"
        },
        "id": "sOsxUaZpinBd",
        "outputId": "1a8ecbc6-e1a3-4be6-d3cd-96bef32a4ea6"
      },
      "outputs": [
        {
          "name": "stdout",
          "output_type": "stream",
          "text": [
            "o montante a ser pago é de R$ 2440.00'\n"
          ]
        }
      ],
      "source": [
        "#Questão 13\n",
        "valor_empres=float(input(\"digite o valor do emprestado\\n\"))\n",
        "temp=int(input(\"digite a quantidade de prestações\\n\"))\n",
        "Juros=valor_empres * 0.08 * temp #0.8 é a taxa de 8% ao mês : Fomula:J = C × i × t\n",
        "mont=valor_empres+Juros # para saber o montante some o juros eo o valor inicial\n",
        "mont=\"%.2f'\"%mont\n",
        "print(\"o montante a ser pago é de R$\",mont)\n",
        "#Finalizado Alexsandro costa"
      ]
    },
    {
      "cell_type": "markdown",
      "metadata": {
        "id": "qdtbjuWyD4J3"
      },
      "source": [
        "\n",
        "\n",
        "---\n",
        "\n",
        "\n",
        "\n",
        "\n"
      ]
    },
    {
      "cell_type": "markdown",
      "metadata": {
        "id": "yqb7hygegQsd"
      },
      "source": [
        "14- Joana melhorou de situação e agora gostaria de realizar uma aplicação de X reais a\n",
        "uma taxa de juros anual de 8%. Desta vez, Joana pediu a sua ajuda para escrever um\n",
        "algoritmo que, dado o valor X da aplicação e a quantidade de dias que o valor ficará\n",
        "aplicado, calcule o montante após os N dias da aplicação."
      ]
    },
    {
      "cell_type": "code",
      "execution_count": 2,
      "metadata": {
        "colab": {
          "base_uri": "https://localhost:8080/"
        },
        "id": "qo7N_pyXgblM",
        "outputId": "54c2a771-3b3c-4396-d6be-e948651830d5"
      },
      "outputs": [
        {
          "name": "stdout",
          "output_type": "stream",
          "text": [
            "o montante acumulado será de R$ 2440.0\n"
          ]
        }
      ],
      "source": [
        "valor_investido=float(input(\"Digite o valor que será Aplicado\\nR$\"))\n",
        "taxa=8/100\n",
        "tempo=float(input(\"digite por quanto tempo o dinheiro ficará aplicado\\n\"))\n",
        "juros=valor_investido*taxa*tempo#Aplicação da famula de juros simples Juros=C*I*T\n",
        "montante=valor_investido+juros\n",
        "print(\"o montante acumulado será de R$\",montante) \n",
        "#FINALIZADO ALEXSANDRO COSTA"
      ]
    },
    {
      "cell_type": "markdown",
      "metadata": {
        "id": "25sfxXKygb6j"
      },
      "source": [
        "\n",
        "\n",
        "---\n",
        "\n"
      ]
    },
    {
      "cell_type": "markdown",
      "metadata": {
        "id": "IAus7IAOpxJH"
      },
      "source": [
        "15- Joana ficou tão empolada com suas aplicações que agora gostaria de saber em\n",
        "quantos anos ela consegue triplicar um capital considerando uma taxa anual de x%.\n",
        "Como você já é amigo da Joana, escreva um algoritmo que, dado a taxa anual de x%,\n",
        "informe em quantos anos ela consegue triplicar o capital aplicado. O valor do juros deve\n",
        "ser informado na escala de 0 a 1"
      ]
    },
    {
      "cell_type": "code",
      "execution_count": 3,
      "metadata": {
        "colab": {
          "base_uri": "https://localhost:8080/"
        },
        "id": "_wLvYkGopyCt",
        "outputId": "45e6efe2-ee60-4844-80d3-a57636a01a94"
      },
      "outputs": [
        {
          "name": "stdout",
          "output_type": "stream",
          "text": [
            "Joana triplicará o valor investido em 12.5 Anos\n"
          ]
        }
      ],
      "source": [
        "valor_investido=float(input(\"Digite o valor que será Aplicado\\nR$\"))\n",
        "taxa=float(input(\"qual a taxa de juros Anual\\n\"))\n",
        "montante=valor_investido*3 #Para obter o valor triplicado\n",
        "juros=montante-valor_investido #Para obter a apenas o valor do juros visto que a fomula do montante em juros é m= j+c logo para obter o juros será J=m-C\n",
        "tempo=(juros-valor_investido)/(valor_investido*taxa) # a fomula para obter o tempo de investimento Será M = C + C x i x n fazendo o distribuiçao obteremos a seguinte fórmula J-C/C*I\n",
        "tempo='%.1f'%tempo \n",
        "print('Joana triplicará o valor investido em',tempo,\"Anos\")\n",
        "#FINALIZADO ALEXSANDRO COSTA"
      ]
    },
    {
      "cell_type": "markdown",
      "metadata": {
        "id": "o1RFMS23ONLf"
      },
      "source": [
        "16- Considerando que a população de uma certa cidade seja estimada, para daqui a X\n",
        "anos, por![image.png](data:image/png;base64,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) . Escreva um algoritmo que, dado o valor de X estime\n",
        "o tamanho da população após X anos."
      ]
    },
    {
      "cell_type": "markdown",
      "metadata": {
        "id": "fgCP7wIQOLof"
      },
      "source": [
        "\n",
        "\n",
        "---\n",
        "\n"
      ]
    },
    {
      "cell_type": "code",
      "execution_count": 4,
      "metadata": {
        "colab": {
          "base_uri": "https://localhost:8080/"
        },
        "id": "BZAQqAcm8uq7",
        "outputId": "8b275057-8b70-4c4c-a002-e674649a8c53"
      },
      "outputs": [
        {
          "name": "stdout",
          "output_type": "stream",
          "text": [
            "o tamanho da população em 2.0 anos sera de 19750\n"
          ]
        }
      ],
      "source": [
        "import math as m #Importação da função math\n",
        "x=float(input(\"digite o tempo em que vc quer o tamanho populacional\\n\"))\n",
        "tamanho=(20-(1/2**x))*1000 #fomula apresentada acima\n",
        "tamanho=m.floor(tamanho) # funçao que retorna o menor inteiro\n",
        "print(\"o tamanho da população em\",x,\"anos sera de\",tamanho)\n",
        "#Finalizado-Alexsandro costa"
      ]
    },
    {
      "cell_type": "markdown",
      "metadata": {
        "id": "hN96Z2awQOog"
      },
      "source": [
        "\n",
        "\n",
        "---\n",
        "\n"
      ]
    },
    {
      "cell_type": "markdown",
      "metadata": {
        "id": "C0jxYls1QQaP"
      },
      "source": [
        "17- Seu Pedro é um taxista muito famoso na cidade e gostaria de sua ajuda para reprogramar o seu taxímetro. Considerando que o taxi de seu Pedro cobra R$ 4,50\n",
        "          de bandeirada (valor fixo) mais R$ 0,70 a cada 450 metros (valor variável). Para ajudar o seu Pedro a reprogramar o seu taxímetro, você deve escrever um algoritmo para calcular o valor a ser pago por uma corrida relativa a um percurso de X quilômetros."
      ]
    },
    {
      "cell_type": "code",
      "execution_count": 6,
      "metadata": {
        "colab": {
          "base_uri": "https://localhost:8080/"
        },
        "id": "evPeUBQ9-KUH",
        "outputId": "7eb70bc3-1d23-4a6d-ca4b-94d2630e767e"
      },
      "outputs": [
        {
          "name": "stdout",
          "output_type": "stream",
          "text": [
            "o valor total da corrida será R$ 17.10\n"
          ]
        }
      ],
      "source": [
        "import math as m\n",
        "quilometros_rodados=float(input(\"Digite o total de quilômetros rodados\\n\"))*1000\n",
        "taxa_cobrada=quilometros_rodados/450\n",
        "taxa_cobrada=m.floor(taxa_cobrada)#Aplica-se a função math.floor para se retorna o menor inteiro\n",
        "valor_total=(taxa_cobrada*0.7) + 4.5#o menor inteiro multiplicar por 0.7 pois esses sao os 450 m + a taxa fixa\n",
        "print(\"o valor total da corrida será R$\",'%.2f'%valor_total)\n",
        "#FINALIZADO-ALEXSANDRO COSTA"
      ]
    },
    {
      "cell_type": "markdown",
      "metadata": {
        "id": "h5oBir7l8vFK"
      },
      "source": [
        "\n",
        "\n",
        "---\n",
        "\n"
      ]
    },
    {
      "cell_type": "markdown",
      "metadata": {
        "id": "26nxVsn1VmGq"
      },
      "source": [
        "18- Atevaldo, um exímio vendedor de livros, vende seus livros a um valor de X reais a unidade. Sabendo que o custo de fabricação dos livros corresponde a um valor fixo de R$ 4,00\n",
        " mais\n",
        "  \n",
        "\n",
        "R$ 6,00 por unidade, escreva um algoritmo que determine o lucro líquido de Atevaldo na venda de N livros."
      ]
    },
    {
      "cell_type": "code",
      "execution_count": 7,
      "metadata": {
        "colab": {
          "base_uri": "https://localhost:8080/"
        },
        "id": "neAlmBNXVkNE",
        "outputId": "c725d367-c200-4e75-8930-084a5ac6c269"
      },
      "outputs": [
        {
          "name": "stdout",
          "output_type": "stream",
          "text": [
            "O lucro líquido será de R$ 1896.0\n"
          ]
        }
      ],
      "source": [
        "valor_do_livro=float(input(\"Qual o valor do livro?\\nR$\"))\n",
        "quantidade_de_livros_vendidos=int(input(\"Quantos livros foram vendidos?\\n\"))\n",
        "lucro_liquido=(valor_do_livro * quantidade_de_livros_vendidos)-(quantidade_de_livros_vendidos*6)-4\n",
        "print(\"O lucro líquido será de R$\",lucro_liquido)\n",
        "#FINALIZADO-ALEXSANDRO COSTA"
      ]
    },
    {
      "cell_type": "markdown",
      "metadata": {
        "id": "_kkhRkvjkoEQ"
      },
      "source": [
        "\n",
        "\n",
        "---\n",
        "\n"
      ]
    },
    {
      "cell_type": "markdown",
      "metadata": {
        "id": "oDx4jYwjkqTV"
      },
      "source": [
        "19- Pablo é um empresário do ramo comercial e está pensando em dar aumento para\n",
        "os seus funcionários levando em consideração o desempenho de cada um em relação\n",
        "às vendas mensais. Pablo deseja que o funcionário tenha um acréscimo salarial de 9,5%\n",
        "em relação a venda mensal realizada por este funcionário. Como Pablo possui muitos\n",
        "funcionários, pediu a sua ajuda para escrever um algoritmo que, dado o salário base e o\n",
        "montante vendido por este funcionário, determine o salário ajustado deste funcionário."
      ]
    },
    {
      "cell_type": "code",
      "execution_count": 9,
      "metadata": {
        "colab": {
          "base_uri": "https://localhost:8080/"
        },
        "id": "tjGGtOOhkwPJ",
        "outputId": "a307c600-5fcc-4060-c5ee-8b7591205952"
      },
      "outputs": [
        {
          "name": "stdout",
          "output_type": "stream",
          "text": [
            "Com o aumento o salário do funcionário será de R$ 1040.0\n"
          ]
        }
      ],
      "source": [
        "salario_funcionario=float(input(\"Qual o salário do funcionário?\\nR$\"))\n",
        "total_vendas=float(input(\"Qual o total de vendas efetuadas pelo funcionário?\\nR$\"))\n",
        "porcentagem_vendas=total_vendas*(9.5/100)\n",
        "aumento=salario_funcionario+porcentagem_vendas\n",
        "print(\"Com o aumento o salário do funcionário será de R$\",aumento)\n",
        "#FINALIZADO-ALEXSANDRO COSTA"
      ]
    },
    {
      "cell_type": "markdown",
      "metadata": {
        "id": "rHY6CS6UkwAd"
      },
      "source": [
        "\n",
        "\n",
        "---\n",
        "\n"
      ]
    },
    {
      "cell_type": "markdown",
      "metadata": {
        "id": "IRjC68hq88Yt"
      },
      "source": [
        "20- Pablo está tendo muito sucesso na sua empresa e resolveu aplicar suas economias.\n",
        "Antes de realizar a aplicação, Pablo gostaria da sua ajuda para escrever um algoritmo\n",
        "que, dado o valor a ser aplicado X, e o tempo da aplicação Y em meses, calcule o\n",
        "montante resultante quando aplicado a uma taxa de juros composta de 1,5% ao ano"
      ]
    },
    {
      "cell_type": "code",
      "execution_count": 10,
      "metadata": {
        "colab": {
          "base_uri": "https://localhost:8080/"
        },
        "id": "BnrtVltM92K5",
        "outputId": "ca93a908-8885-4a02-cf47-dd4b5ac9882c"
      },
      "outputs": [
        {
          "name": "stdout",
          "output_type": "stream",
          "text": [
            "O montando do capital investido será de R$ 6274.07\n"
          ]
        }
      ],
      "source": [
        "valor_aplicado=float(input(\"Digite o valor que será Aplicado\\nR$\"))\n",
        "tempo_aplicacao=float(input(\"Por quanto meses o valor ficará aplicado\\n\"))/12 #se divide pois a taxa se dar ao ano entao devemos mudar o tempo de meses para anos\n",
        "montante=valor_aplicado*(1+(1.5/100))**tempo_aplicacao #Aplica-se a formula de juros composto M=c+(1+i)^tempo\n",
        "montante=\"%.2f\"%montante\n",
        "print(\"O montando do capital investido será de R$\",montante)\n",
        "#FINALIZADO-ALEXSANDRO COSTA"
      ]
    },
    {
      "cell_type": "markdown",
      "metadata": {
        "id": "pXE1HLWE915H"
      },
      "source": [
        "\n",
        "\n",
        "---\n",
        "\n"
      ]
    },
    {
      "cell_type": "markdown",
      "metadata": {
        "id": "ARnq47I093UG"
      },
      "source": [
        "21- Pablo gostaria de saber em quanto tempo uma aplicação financeira que rende x% a\n",
        "juros compostos necessita para dobrar de valor. Pablo pediu sua ajuda para escrever um\n",
        "algoritmo que, dado o valor x% a juros composto, determine o tempo mínimo de meses\n",
        "para que o montante aplicado seja dobrado. O valor de x deve ser entre 1 a 100.\n"
      ]
    },
    {
      "cell_type": "code",
      "execution_count": 12,
      "metadata": {
        "colab": {
          "base_uri": "https://localhost:8080/"
        },
        "id": "WCKy0rEV96su",
        "outputId": "adc6a64a-87b4-4259-964d-771ff9a2354e"
      },
      "outputs": [
        {
          "name": "stdout",
          "output_type": "stream",
          "text": [
            "o tempo mínimo para dobra o capital aplicado será de 35 meses\n"
          ]
        }
      ],
      "source": [
        "import math as m \n",
        "valor_aplicado=float(input(\"Digite o valor que será Aplicado\\nR$\"))\n",
        "taxa=float(input(\"Digite a taxa de juros\\n\"))/100\n",
        "montante=valor_aplicado*2#pois será o dobro\n",
        "tempo_aplicaçao= m.floor(m.log(montante/valor_aplicado)/m.log(1+taxa))#m.floor para retorna o menor inteiro.\n",
        "print(\"o tempo mínimo para dobra o capital aplicado será de\",tempo_aplicaçao,'meses')\n",
        "#FINALIZADO-ALEXSANDRO COSTA"
      ]
    },
    {
      "cell_type": "markdown",
      "metadata": {
        "id": "CevQydlL97QM"
      },
      "source": [
        "\n",
        "\n",
        "---\n",
        "\n"
      ]
    },
    {
      "cell_type": "markdown",
      "metadata": {
        "id": "GBospINa-gtV"
      },
      "source": [
        "22- Uma pessoa aplicou a importância de R$ 500,00                                                                                \n",
        "\n",
        " numa instituição bancária que paga juros mensais de x% ao mês no regime de juros compostos. Escreva um algoritmo para determinar quanto tempo após a aplicação o montante será de R$ 3 500,00. O valor de x deve ser entre 1 a 100q"
      ]
    },
    {
      "cell_type": "code",
      "execution_count": 16,
      "metadata": {
        "colab": {
          "base_uri": "https://localhost:8080/"
        },
        "id": "E8goH9yq_Pt6",
        "outputId": "4725a184-b10a-4e65-b6e2-a4dfaad6efba"
      },
      "outputs": [
        {
          "name": "stdout",
          "output_type": "stream",
          "text": [
            "o tempo mínimo para alcançar o montante de R$ 3500.0 será de 98 meses\n"
          ]
        }
      ],
      "source": [
        "import math as m \n",
        "valor_aplicado=float(input(\"Digite o valor que será Aplicado\\nR$\"))\n",
        "taxa=float(input(\"Digite a taxa de juros\\n\"))/100\n",
        "montante=float(input(\"Digite o valor do montante que deseja alcançar\\nR$\"))\n",
        "tempo_aplicaçao= m.floor(m.log(montante/valor_aplicado)/m.log(1+taxa))#m.floor para retorna o menor inteiro.#aplicação da fomula t=log(m/c)/log(1+i)\n",
        "print(\"o tempo mínimo para alcançar o montante de R$\",montante,\"será de\",tempo_aplicaçao,'meses')\n",
        "#FINALIZADO-ALEXSANDRO COSTA"
      ]
    },
    {
      "cell_type": "markdown",
      "metadata": {
        "id": "rc7mZg_C_R1t"
      },
      "source": [
        "\n",
        "\n",
        "---\n",
        "\n"
      ]
    },
    {
      "cell_type": "markdown",
      "metadata": {
        "id": "N4raIfxU_Tz9"
      },
      "source": [
        "23- O banco da Betalândia perdeu seu banco de dados e você foi contratado para\n",
        "escrever um algoritmo que determina qual é a taxa de juros empregada sobre o capital\n",
        "de R$ 8.000,00\n",
        "\n",
        " durante X meses que gerou o montante de R$ 10.145,93."
      ]
    },
    {
      "cell_type": "code",
      "execution_count": 17,
      "metadata": {
        "colab": {
          "base_uri": "https://localhost:8080/"
        },
        "id": "74JFHEUT_j9e",
        "outputId": "be0098b0-bd52-465c-a13d-5c0a79b5f8cc"
      },
      "outputs": [
        {
          "name": "stdout",
          "output_type": "stream",
          "text": [
            "vc precisará de um investimente que renda 3.45 % para atingir o montante de 10145.93 em 7.0 meses\n"
          ]
        }
      ],
      "source": [
        "capital=float(input(\"Digite o valor do capital\\nR$\"))\n",
        "montante=float(input(\"Digite o valor do montante\\nR$\"))\n",
        "tempo=float(input(\"Digite por quanto o capital ficou aplicado?\\n\"))\n",
        "taxa=(((montante/capital)**(1/tempo))-1)*100\n",
        "taxa='%.2f'%taxa\n",
        "print(\"vc precisará de um investimente que renda\",taxa,\"%\",\"para atingir o montante de\",montante,\"em\",tempo,\"meses\")\n",
        "#FINALIZADO-ALEXSANDRO COSTA"
      ]
    },
    {
      "cell_type": "markdown",
      "metadata": {
        "id": "HFcaiVvV_jkv"
      },
      "source": [
        "\n",
        "\n",
        "---\n",
        "\n"
      ]
    },
    {
      "cell_type": "markdown",
      "metadata": {
        "id": "k96iyFVKzjrb"
      },
      "source": [
        "24- Marcos deseja saber por quanto tempo ele deve aplicar um capital de R$ 1.800,00 a\n",
        "uma taxa de juros de 3% ao mês para que produza um montante de X reais? Para ajudalo,\n",
        "escreva um algoritmo que, dado o valor de X, determine por quanto tempo Marcos\n",
        "deve realizar sua aplicação."
      ]
    },
    {
      "cell_type": "code",
      "execution_count": 20,
      "metadata": {
        "colab": {
          "base_uri": "https://localhost:8080/"
        },
        "id": "Y46Pc-e_GyD-",
        "outputId": "3f16882a-793f-4dba-91e8-acf612b88c86"
      },
      "outputs": [
        {
          "name": "stdout",
          "output_type": "stream",
          "text": [
            "A aplicação deve ter um tempo mínimo 35 meses\n"
          ]
        }
      ],
      "source": [
        "import math as m\n",
        "capital=float(input(\"digite o valor investido\\n\"))\n",
        "taxa=float(input(\"digite o valor da taxa \\n\"))/100\n",
        "montante=float(input(\"digite o valor montante\\n\"))\n",
        "tempo=(m.log10(montante/capital))/(m.log10(1+taxa))#utiliza-se a formula de juros composto para encontrar o tempo t=log(montante/capital)/(log(1+taxa))\n",
        "tempo=m.ceil(tempo)#função para Arredondar o valor\n",
        "print(\"A aplicação deve ter um tempo mínimo\",tempo,\"meses\")\n",
        "#Finalizado-Alexsandro costa"
      ]
    },
    {
      "cell_type": "markdown",
      "metadata": {
        "id": "XpQlrAwUGw7n"
      },
      "source": [
        "\n",
        "\n",
        "---\n",
        "\n"
      ]
    },
    {
      "cell_type": "markdown",
      "metadata": {
        "id": "VDS9Fla7GNvO"
      },
      "source": [
        "25- Faustino aplicou R$ K\n",
        "\n",
        " em um fundo de investimento que rende X% ao ano. Seu\n",
        "objetivo é usar o montante dessa aplicação para comprar uma casa que, na data da\n",
        "aplicação, custava R$ Y e se valoriza à taxa anual de Z%. Nessas condições, escreva um\n",
        "algoritmo que, a partir da data da aplicação, determine quantos anos serão decorridos\n",
        "até que Faustino consiga comprar tal casa. Os valores de X e Z devem estar entre 0 e 1.\n"
      ]
    },
    {
      "cell_type": "code",
      "execution_count": 21,
      "metadata": {
        "colab": {
          "base_uri": "https://localhost:8080/"
        },
        "id": "IvgrZS8UzCqG",
        "outputId": "4c44cc7e-27cc-4b5e-9241-a0466e9d5178"
      },
      "outputs": [
        {
          "name": "stdout",
          "output_type": "stream",
          "text": [
            "Serão decorridos 29 anos para comprar a casa\n"
          ]
        }
      ],
      "source": [
        "valor_investido=float(input(\"digite o valor investido\\n\"))\n",
        "taxa=float(input(\"digite o valor da taxa anual\\n\"))\n",
        "valor_casa=float(input(\"digite o valor da casa\\n\"))\n",
        "taxa_casa=float(input(\"digite a taxa de valorização anual da casa\\n\"))\n",
        "tempo=0\n",
        "while True:#enquanto a arfimação a baixo for verdadeira irar executar a operação\n",
        "    montante_valor_investido=int(valor_investido*(1+taxa)**tempo)#juros composto\n",
        "    montante_casa=int(valor_casa*(1+taxa_casa)**tempo)#juros composto\n",
        "    if montante_valor_investido>montante_casa: #condiçao para  interromper a função\n",
        "       print(\"Serão decorridos\",tempo,\"anos para comprar a casa\")\n",
        "       break\n",
        "    tempo+=1#soma-se 1 ao valor do tempo\n",
        "#FINALIZADO-ALEXSANDRO COSTA"
      ]
    },
    {
      "cell_type": "markdown",
      "metadata": {
        "id": "N_NP0KUNRRVw"
      },
      "source": [
        "\n",
        "\n",
        "---\n",
        "\n"
      ]
    },
    {
      "cell_type": "markdown",
      "metadata": {
        "id": "ZXHEMqPIGNnn"
      },
      "source": [
        "26- Escreva um programa para ler dois números inteiros e calcular a soma desses\n",
        "números. Imprima X como mostrado abaixo."
      ]
    },
    {
      "cell_type": "code",
      "execution_count": 22,
      "metadata": {
        "colab": {
          "base_uri": "https://localhost:8080/"
        },
        "id": "WcytFkcWRS4j",
        "outputId": "da21c8bf-5df7-48f7-b119-f710fe841142"
      },
      "outputs": [
        {
          "name": "stdout",
          "output_type": "stream",
          "text": [
            "x = 19\n"
          ]
        }
      ],
      "source": [
        "primeiro_numero=int(input(\"digite o primeiro número da operação\\n\"))\n",
        "segundo_numero=int(input(\"digite o segundo número da operação\\n\"))\n",
        "soma=primeiro_numero+segundo_numero\n",
        "print(\"x =\",soma)\n",
        "#FINALIZADO-ALEXSANDRO COSTA"
      ]
    },
    {
      "cell_type": "markdown",
      "metadata": {
        "id": "iIEir8uKSJGK"
      },
      "source": [
        "\n",
        "\n",
        "---\n",
        "\n"
      ]
    },
    {
      "cell_type": "markdown",
      "metadata": {
        "id": "m12JuhCxGNgH"
      },
      "source": [
        "27- Escreva um programa para calcular a área de uma circunferência é definida como\n",
        "![image.png](data:image/png;base64,iVBORw0KGgoAAAANSUhEUgAAAE0AAAARCAYAAACYRSE8AAAE+klEQVRYhe2Xa0xURxiGn10WFrui0sqt1KL+UAElXBRsMWpKU7WiaDUaqya2xHppmnhNg7ZKo0ZRI7Zo8RLUYmuk2lij1gpWiVq0wlIxeBdEFBWQwLLILrDnfP0hNeBlOWk01YTn55zve2fmnZlv5uhERGinBSrlRxKZsiyXgMg+WE8f4l7IcjJSJ+Crbw6Rdh5DkXvHN8r3R+6KIiJ1fy2WII/RsrdWfRRh0OZ+NQcWTSL51ji2b59OgMaslw+FosNJrEjLo0YF0OHiasKrRzhjPpnOB71NgB6fobOZBYBK9Y0SJGgAQe4tZLR4X3tmiYR5uIl3r/mSZ1fbTniJURpy5IvAjtJr9FYpq62RiqI/JWVykHj6TZB9dxytYusup8nYqLGSfsHeql3/lOVohShXSU38g8gpg1Cs1dS+4hVQGm9zu1KlzzuD8fHojFfPd4mfMw6/qkwyT9gexdmLdzFz+gFGpKYzNcjYSqONg6ZS+vMyDvvOY3PkT2TstGBVXsRUtKHWFZG5Zx+5N+twPHF/6fAIGsecif2cTspWmE+h1ZcJkd1waW5z1Fqw0onOni7N/Zzi689+pP/aDKaHdeD6gXRuhk8mxv/hd6emKbXHWZlczbTdo/HK3QuN97HUqWBycZb2bzbnt83my903cOaz3tCbGZvWM/Zt55pNFUdY+PFSrnh1ofhQIf5xsfQyqZSezMCsH0pctD9uwe7onKqo3MnNp8IYQkTYwyIljiLSU35FHxrPpMHugIO/UxaxMaeQLmN6k0QTtpogVl+cTEyzihPTGjibvJxbw5L4rqcB+2UP3HXFWKoFfJyOrBkdvuGxTHGtQXUWpe9Kn05tVglUmzuj1maxyrSZmFN+LNqSynuuBSyO+gXTlG/ZNLc7bavUk3f2EkrHQE5vWcOFujIKsrOp6PY5u/bPJ8RdBxiISDhBfcKzVZ5pWkPxNpb84ErM+gfkZGfTcKMWF7FiqXY4S2uBHu/QUUwO1RCqAWPAEGIC4O7OXKoChxBi1NF04xjZV3yIHeirwTBQGws5m19Dj0EjGRzsjTltC/nEsz9tIX07ON+jLXnq7EWtYM83qdijR2EzZ3McUKsqUaUWS43Wm0Dl5tFN7DhZ7nynufgzfGY8A721HPl6Tp88x1v95/O6Hu7nnKGoQzgR/YxtpwKOcjP5JS5EJUwlNtaTmIBr7ItMZtOh2WwY31mTBjzDtOpTq1l3fgRbc5YT0bwC9qtr+D3NjNWi9SYQ7JZK7pSVOa1pOoMbdRol1YY8sk48IHhlEAYaKDBfoGO/GYS+pm2XWHNzueTow8QoDwCMvaII817FuVMFNI0fjKu2YTz5TlNseZIQ2VWGJ56Xlq8W26VVEmE0yvj1paK8kBdU21QcnCHdTO/LjjKHqFIlG0Z6SfinB6Wm5Jhkmi0iIlJ/cYPEhYbJ7G0lj43TLlnz+oqn9zTJqn/41lSVckkZ6SX+USvkepO2MahKpbQyTanLk3Uf9RY3nV56RH8lJ8sf2qbYCiR1Ul9x0+nEKzBefivR2MNzRGkyS8IAT3kzPFEuNYqI2CVzQYiYunSXgcPmysHiRhERqc9bKsFGN4lLutZi0RUpPbpUor0NYjAGy6z0AmkQERGH5K8cJG4uPvLhgn1yU8O0VEeR6ERe4R92tZ7Kchud/N5AW1V7Przapv1PaLmp23mMdtP+A/8AedTBj7xNtfkAAAAASUVORK5CYII=)'. Considerando que π = 3,14159. Apresente a mensagem \"A =\" seguida do\n",
        "valor da variável, como no exemplo abaixo, com quatro posições após o ponto decimal."
      ]
    },
    {
      "cell_type": "code",
      "execution_count": 23,
      "metadata": {
        "colab": {
          "base_uri": "https://localhost:8080/"
        },
        "id": "KyhqFJ6wSKUT",
        "outputId": "5a9573d7-4078-468e-8cb8-51199f2dd367"
      },
      "outputs": [
        {
          "name": "stdout",
          "output_type": "stream",
          "text": [
            "À area da circuferência será de 31819.3103\n"
          ]
        }
      ],
      "source": [
        "pi=3.14159\n",
        "raio=float(input(\"digite o valor do raio\\n\"))\n",
        "area=pi*(raio**2)\n",
        "area=\"%.4f\"%area\n",
        "print(\"À area da circuferência será de\",area)\n",
        "#FINALIZADO-ALEXSANDRO COSTA"
      ]
    },
    {
      "cell_type": "markdown",
      "metadata": {
        "id": "QkkjiX0NTlR5"
      },
      "source": [
        "\n",
        "\n",
        "---\n",
        "\n"
      ]
    },
    {
      "cell_type": "markdown",
      "metadata": {
        "id": "NxeWi2GVGNZz"
      },
      "source": [
        "28- Escreva um programa para ler dois valores inteiros. Depois disso, calcule o produto\n",
        "entre eles e armazene o resultado em uma variável chamada PROD. Imprima o resultado\n",
        "como no exemplo abaixo."
      ]
    },
    {
      "cell_type": "code",
      "execution_count": 31,
      "metadata": {
        "colab": {
          "base_uri": "https://localhost:8080/"
        },
        "id": "-FwfBb2gTmRQ",
        "outputId": "a1934202-1a34-47eb-bfb9-68fbe478aeea"
      },
      "outputs": [
        {
          "name": "stdout",
          "output_type": "stream",
          "text": [
            "PROD = -300\n"
          ]
        }
      ],
      "source": [
        "primeiro_numero=int(input(\"digite o primeiro número da operação\\n\"))\n",
        "segundo_numero=int(input(\"digite o segundo número da operação\\n\"))\n",
        "prod=primeiro_numero*segundo_numero\n",
        "print(\"PROD =\",prod)\n",
        "#FINALIZADO-ALEXSANDRO COSTA"
      ]
    },
    {
      "cell_type": "markdown",
      "metadata": {
        "id": "PEnrcL09UPRB"
      },
      "source": [
        "\n",
        "\n",
        "---\n",
        "\n"
      ]
    },
    {
      "cell_type": "markdown",
      "metadata": {
        "id": "jkNRzoVIGNTH"
      },
      "source": [
        "\n",
        "29- Escreva um programa para ler dois números reais correspondentes às notas de um\n",
        "aluno. Depois disso, calcule a média do aluno, considerando que a nota A tem peso 3,5\n",
        "e B tem peso 7,5. Cada nota pode ser de zero a dez, sempre com um dígito após o ponto\n",
        "decimal. De acordo com os exemplos, informe a média do aluno com 5 dígitos após o\n",
        "ponto decimal e com um espaço em branco antes e depois do sinal de igual.\n",
        "\n"
      ]
    },
    {
      "cell_type": "code",
      "execution_count": 32,
      "metadata": {
        "colab": {
          "base_uri": "https://localhost:8080/"
        },
        "id": "h946EvxZUZls",
        "outputId": "0dcf4517-d579-45fe-cf48-5fa4b4dd30c8"
      },
      "outputs": [
        {
          "name": "stdout",
          "output_type": "stream",
          "text": [
            "média = 6.43182\n"
          ]
        }
      ],
      "source": [
        "primeiro_nota=float(input(\"digite o primeira nota\\n\"))\n",
        "peso_a = 3.5\n",
        "segundo_nota=float(input(\"digite o segunda nota\\n\"))\n",
        "peso_b = 7.5\n",
        "media=((primeiro_nota*peso_a)+(segundo_nota*peso_b))/(peso_a+peso_b)\n",
        "media=\"%.5f\"%media\n",
        "print(\"média =\",media)\n",
        "#FINALIZADO-ALEXSANDRO COSTA"
      ]
    },
    {
      "cell_type": "markdown",
      "metadata": {
        "id": "ZD4RBKgUWqNm"
      },
      "source": [
        "\n",
        "\n",
        "---\n",
        "\n"
      ]
    },
    {
      "cell_type": "markdown",
      "metadata": {
        "id": "3-SQkqN9GNMf"
      },
      "source": [
        "30- Escreva um programa para ler três valores (variáveis A, B e C), que são as três notas\n",
        "do aluno. Então, calcule a média, considerando que a nota A tem peso 2, a nota B tem\n",
        "peso 3 e a nota C tem peso 5. Considere que cada nota pode ir de 0 a 10.0, sempre com\n",
        "uma casa decimal. De acordo com os exemplos, informe a média do aluno com uma casa\n",
        "decimal e com um espaço em branco antes e depois do sinal de igual"
      ]
    },
    {
      "cell_type": "code",
      "execution_count": 39,
      "metadata": {
        "colab": {
          "base_uri": "https://localhost:8080/"
        },
        "id": "isBzXwBRWtg0",
        "outputId": "38483240-f4cc-42e6-e884-4facc50a01c7"
      },
      "outputs": [
        {
          "name": "stdout",
          "output_type": "stream",
          "text": [
            "A média do Aluno será 9.0\n"
          ]
        }
      ],
      "source": [
        "primeira_nota=float(input(\"digite o primeira nota\\n\"))\n",
        "peso_a = 2\n",
        "#--------------------------------------------------------\n",
        "segunda_nota=float(input(\"digite o segunda nota\\n\"))\n",
        "peso_b = 3\n",
        "#------------------------------------------------------\n",
        "terceira_nota=float(input(\"digite o terceira nota\\n\"))\n",
        "peso_c = 5\n",
        "#-----------------------------------------------------\n",
        "media=((primeira_nota*peso_a) + (segunda_nota*peso_b) +  (terceira_nota*peso_c)) / (peso_a+peso_b+peso_c)\n",
        "print(\"A média do Aluno será\",media)\n",
        "#FINALIZADO-ALEXSANDRO COSTA"
      ]
    },
    {
      "cell_type": "markdown",
      "metadata": {
        "id": "AfLPX1wXms1v"
      },
      "source": [
        "\n",
        "\n",
        "---\n",
        "\n"
      ]
    },
    {
      "cell_type": "markdown",
      "metadata": {
        "id": "EvzoYw-pGNFn"
      },
      "source": [
        "31- Escreva um programa para ler quatro valores inteiros denominados A, B, C e D.\n",
        "Calcule e imprima a diferença do produto A e B pelo produto de C e D. Imprima a palavra\n",
        "DIFERENCA com todas as letras maiúsculas, de acordo com os exemplos, com um espaço\n",
        "em branco antes e depois do sinal de igual."
      ]
    },
    {
      "cell_type": "code",
      "execution_count": 40,
      "metadata": {
        "colab": {
          "base_uri": "https://localhost:8080/"
        },
        "id": "Mytb4Otimt7Y",
        "outputId": "e312f525-0bfa-4746-9702-e673df40c782"
      },
      "outputs": [
        {
          "name": "stdout",
          "output_type": "stream",
          "text": [
            "DIFERENÇA = -26\n"
          ]
        }
      ],
      "source": [
        "A = int(input(\"digite o primeiro número\\n\"))\n",
        "B = int(input(\"digite o segundo número\\n\"))\n",
        "C = int(input(\"digite o terceiro número\\n\"))\n",
        "D = int(input(\"digite o quarto número\\n\"))\n",
        "\n",
        "produto_A_B= A * B\n",
        "produto_C_D= C * D\n",
        "diferença = produto_A_B - produto_C_D\n",
        "print(\"DIFERENÇA =\",diferença)\n",
        "#FINALIZADO-ALEXSANDRO COSTA"
      ]
    },
    {
      "cell_type": "markdown",
      "metadata": {
        "id": "wAbqEKeTGM9_"
      },
      "source": [
        "32- Escreva um programa que leia o número de um empregado, seu número de horas\n",
        "trabalhadas em um mês, e a quantia que ele recebeu por hora. Imprima o número do\n",
        "empregado e o salário que ele receberá no final do mês, com duas casas decimais. Seu\n",
        "programa deve gerar a saída conforme os exemplos.\n"
      ]
    },
    {
      "cell_type": "code",
      "execution_count": 44,
      "metadata": {
        "id": "YShz_s5lzpU7"
      },
      "outputs": [
        {
          "name": "stdout",
          "output_type": "stream",
          "text": [
            "number = 6\n",
            "Salary = U$ 2254.75\n"
          ]
        }
      ],
      "source": [
        "número_empregado=int(input(\"Digite o número do empregado\"))\n",
        "\n",
        "horas_trabalhadas=float(input(\"Digite a quantidade de horas trabalhadas\"))\n",
        "\n",
        "quantia_por_hora=float(input(\"Digite o valar que ele recebe por hora trabalhada\"))\n",
        "\n",
        "salario_funcionario=horas_trabalhadas*quantia_por_hora\n",
        "\n",
        "print(\"number =\",número_empregado)\n",
        "\n",
        "print(\"Salary =\",\"U$\",salario_funcionario)\n",
        "\n",
        "#FINALIZADO-ALEXSANDRO COSTA"
      ]
    },
    {
      "cell_type": "markdown",
      "metadata": {
        "id": "GwvCxM7azqF7"
      },
      "source": [
        "\n",
        "\n",
        "---\n",
        "\n"
      ]
    },
    {
      "cell_type": "markdown",
      "metadata": {
        "id": "31aVYuKKkmN4"
      },
      "source": [
        "33- Escreva um programa que leia o nome de um vendedor, seu salário fixo e o total da\n",
        "venda feito por ele no mês (em dinheiro). Considerando que este vendedor recebe 15%\n",
        "sobre todos os produtos vendidos, calcule o salário total deste vendedor ao final do mês,\n",
        "apresente o resultado com duas casas decimais. Seu programa deve gerar a saída\n",
        "conforme os exemplos."
      ]
    },
    {
      "cell_type": "code",
      "execution_count": 46,
      "metadata": {
        "colab": {
          "base_uri": "https://localhost:8080/"
        },
        "id": "CbDRkTijwgOM",
        "outputId": "653d9853-4337-46b1-c351-e5229d479168"
      },
      "outputs": [
        {
          "name": "stdout",
          "output_type": "stream",
          "text": [
            "O salário do vendedor será de R$ 684.54\n"
          ]
        }
      ],
      "source": [
        "nome_vendendor=str(input(\"Digite o nome do vendedor\\nnome:\"))\n",
        "\n",
        "salario_fixo=float(input(\"Digite o salário fixo do vendedor\\nR$\"))\n",
        "\n",
        "vendas=float(input(\"Digite o valor do total de vendas no mês\\nR$\"))\n",
        "\n",
        "salario_total=salario_fixo+(vendas*(15/100))\n",
        "\n",
        "print(\"O salário do vendedor será de R$\",\"%.2f\"%salario_total)\n",
        "#FINALIZADO-ALEXSANDRO COSTA"
      ]
    },
    {
      "cell_type": "markdown",
      "metadata": {
        "id": "zad-ZmcTwfWC"
      },
      "source": [
        "\n",
        "\n",
        "---\n",
        "\n"
      ]
    },
    {
      "cell_type": "markdown",
      "metadata": {
        "id": "yaKkANkpkmJB"
      },
      "source": [
        "34- Neste problema, a tarefa é ler um código de um produto 1, o número de unidades\n",
        "do produto 1, o preço de uma unidade do produto 1, o código de um produto 2, o\n",
        "número de unidades do produto 2 e o preço para uma unidade do produto 2. Depois\n",
        "disso, calcule e mostre a quantia a ser paga. Seu programa deve ler duas linhas de\n",
        "entrada. Em cada linha o usuário digitará três números. A saída deve exibir uma\n",
        "mensagem como o exemplo a seguir. O valor deve ser apresentado com 2 dígitos após\n",
        "o ponto. Seu programa deve gerar a saída conforme os exemplos.\n",
        "\n",
        "\n",
        "![image.png](data:image/png;base64,iVBORw0KGgoAAAANSUhEUgAAAtgAAABeCAYAAAAZpWPpAAAgAElEQVR4nO3deVTUVf8H8PdsMCD7LhIJKi1qgpr7gnsSPXZySU3L0lxyLTNTH0t9MK1MH80kzdQs08fMXEjFFQUEEnIJTEI2gYFhWGSRAWaY+f3B4ftzHNAZnLL0/Tqnc/hu936+Q97vZ+733otIr9frQUREREREFiF+0AEQERERET1MmGATEREREVkQE2wiIiIiIgtigk1EREREZEFMsImIiIiILIgJNhERERGRBTHBJiIiIiKyICbYREREREQWxASbiIiIiMiCmGATEREREVkQE2wiIiIiIgtigk1EREREZEHSkydPPugYiIiIiIj+Mfz9/eHv79/kcZFer9f/hfEQERERET3UOESEiIiIiMiCmGATEREREVkQE2wiIiIiIgtigk10nziNgYjon4dtN/2ZmGDTP86tW7dQXV39oMPAyZMnMXHiRMybN+9Bh0JED7Fbt249FMmgRqNBeXn5A7+X8vJyzJgxA6GhocjNzX2gsdDDS/qgA6C/j4MHD2LPnj1wcnJCeHj4X1KnUqlEZGQk8vPzsXDhwibP02q12LZtG37++Weo1WoAgLu7OyZMmIDhw4f/JbHeqaCgAEqlEo6Ojg+kfiJ6eJWVlWHLli2Ii4tDZWUlpFIpAgICMGXKFHTo0MHkck6dOoVr166hY8eO6Nevn0VjNLXsuLg4bN26FTk5OcI+Hx8fTJ06FT169LBoTKaora1Feno6APZi05+HCTYJKioqUFxcDI1G85fVmZaWhu+++w4SieSuCfY333yDffv2AQBEIhH0ej1UKhUqKyv/qlCJiP4SJSUlmDZtGsrKyoR9Wq0WV69exTvvvIOFCxdi0KBBJpW1d+9eZGZmwtnZ2eJxmlJ2RkYGli9fDp1OB+D/2+/c3FzU1tZaPCaivwsm2NSk2tpaHD58GPn5+bh58ybq6urg5+eHkSNHokWLFgCAM2fOIDU1FSqVCiKRCD4+Phg+fDg8PT0BAImJibhy5Qp8fHwwdOhQ5OXlITIyEiKRCK+//rpQl06nw7Zt2wAAnTt3RmBgoEEsMTExAIAuXbogLCwMWq0WFy5cQMeOHYVzzp8/j7i4OJSUlEAikeCpp57CSy+9BGtra9TW1iIiIgK5ubnC8cDAQLRq1QoxMTEoKSmBv78/Ro8eDRsbGwDA4cOHcePGDRQVFcHKygq+vr4IDQ29Z491fHw8YmNjUVlZiTZt2mDkyJFCmYWFhfjpp5+Qm5sLKysreHt7Y8KECbC2tr6fXxURPUTWr1+PsrIySCQSzJ49G3379kV2djbWrl2L3NxcfPHFF3j22Wdha2uLnTt3AgBeeOEFuLu7IyIiAoWFhUbtaFJSEqqrqyEWizFp0iRkZmbi3LlzKCgoQFVVFby8vBAYGIiePXsCqE/om1v27X755Rchuf7222/h7u6O8vJyJCYmolevXgCAyspK7NmzB3l5eaiuroa7uzuGDRuG9u3bAwCuXr2K+Ph4KJVKqNVqeHh4YNCgQbh8+TLS0tJga2uL4OBgdOnSBQCQkpKChIQEKJVK1NTUwNvbGz179jR4XjSmsLAQBw4cQE5ODry8vDB06FC0a9cOQH1P9+nTp3HhwgVUVFTA1dUV/fr1Q9euXZv3S6aHHhNsalJ5eTk2b95ssC82NhZnzpzB1q1bIZFI8PXXX6OwsNDgnH379iEsLAyBgYH49ddfsW/fPjz77LMYOnQocnJysGfPHqMEW6/XY8+ePQAAuVxulGDL5XIAQHp6Os6ePYt+/fqhT58+BuckJycjMjJS2I6Pj8elS5fw8ccfo7y8HF9++aXB+dHR0Qbb58+fx8WLF7Fu3ToAwMaNG41eH+7fvx/r1q2Dr69vo5/Zd999JzyUGj6v06dPY8uWLdDpdJg7dy6Ki4uF49bW1gafAxE92rRaLRISEgAAL730EkJCQgAAHTp0wLvvvot58+ahsrISFy9eRLdu3YR2s1evXnB3d8fRo0eRlpYGKysrg3b0t99+w2+//QaJRIJJkyYhNjYWu3btMqj7p59+QmhoKObMmQONRtPssm8nk8mEnw8cOIBRo0bB1dUVgwcPFvZLJBLs3bvX4Lpjx45h7dq16NChAyIjI3H06FGD44cOHTLYjoyMxOrVq9G5c2ccP37c6Px9+/bhzTffxOjRoxv93LOysjBnzhyD+T2HDh3C6tWrERQUhIMHD2LTpk0G13h7ezPBpiZxkiOZZPbs2ZgyZQoAIC8vD0lJSQbHn3vuOSxatAg+Pj6ora3F559/blb5IpEIc+fOxdy5c9G9e3ej4y+++CIA4ObNm1i9ejXGjh2LXbt2QavVCuf069cP//73v7F+/XqMHTsWAHDx4kVUVFQY3ctzzz0nbL/55psYMWIEgPqeD6VSaXD++PHj8c4778DR0REVFRVGXzoaKJVKfPvttwCA1157DStWrICDgwNyc3MRGRmJrKwsIblesmQJPv/8c7z33nsQi/nPkIjq3bhxQ+jxbeiRbfD000/DyspKOM8cPXv2FNrY23l5eWHFihUYOHAgACAiIgLXrl2zSNkAMGDAADg5OQEAfvzxR4wbNw6zZ8/GoUOHhA4MGxsbzJkzB2vWrMHHH38MLy8vAMC5c+cMynr66aexZMkS4S1iu3btsGTJEri5uQEATp8+bXT+smXL0LlzZwDA119/jaKiokbvITw8HNXV1Xj66aexZs0adOvWDXq9XugwaXjmderUCZs3b8ayZcssPqadHi58spNJAgMDMWbMGKFhy8/PNzju7++PAQMGCEl4Tk4Obt26ZXL5YrEYzz//PJ5//nm0adPG6PiwYcMQFhYmvDIsLy/HN998gxUrVgjn2Nra4sqVK9i5cyeuXr0q7C8pKTG6l4kTJwrbQUFBeO2114RtlUplcP5TTz2F5557DuPGjQNQ31vTmJSUFOGBUVxcjF9++QX29vYAgNzcXHh5eUEikQCo7x2Pj49Hp06d7vHJENGj5PY5MI19+W7YV1dXZ1a5TzzxBJ5//nmDzgUAcHBwQI8ePbBgwQKhvWqqjTO3bABwcXFBeHg4hg0bJnw5SE1NxcaNG4W3ijqdDnq9HgcPHsSuXbuELxh3tt0eHh7o37+/MIzFzc0N/fv3R9++fQEYt90eHh7o1asXli5dKtTz+++/G8Wo1+uRnJwMoL7HPSoqSjjWMBnSx8cHAHD58mV89dVXwhA/oqYwwSazNIy9bmoipIeHh/Dz7RMQb+9pbowpM7m7deuGdevW4euvvxZm0cfHx0OhUODmzZuYO3cuDh06hJSUFIMvAI2VbWtrK/xcV1dnsN1UrA29JNXV1cID4HalpaXCzxEREYiIiEBeXh6A+s/CwcEBS5YsgbOzM8rKyrBr1y5MnTrV4DoierS1bt1a+DklJcXgWFZWljCEoSHha3C/baxEIoGLiwsACCs1WapsV1dXzJ8/Hz/88INBZ0ZERAQAYMeOHfj8888RHR2N/Px84a1jU+U2tNcNXzIatpuKs0WLFkJyX15ebnS8trZWeKZdvnwZERER+OWXXwBA+LwnTJggDEtMTEzE4sWLjYbYEN2OCTZZREPCmZiYCKB+yIebm5uQkGdnZzfa+DUc1+l0RkMzbpecnCysV/rYY48hODhYOJaZmYnk5GShx3z37t1mNXwikeiuxxsa+UuXLgGo75ERi8XCdaWlpdDpdGjVqpVwzbp16xAZGYnIyEgcOHAA77zzDnQ6Hbp164bvv/8eCxYsgEgkQklJiTCBk4jI2tpa6EDYu3cvLly4AL1ej8LCQnz66acAAKlUik6dOkEulws92g09rXdqaGPvfOvYoKF9U6lUQoeAq6urRcoG6hPauLg46HQ62NjYYMSIEcKkb41GA41GYzDmfNeuXRg1alST5d3uXm13w3Pp2rVrwool3t7eBm8GiouLYW1tDTs7OwD1EzqPHDkijPs+fPgwgPrP/IMPPsCOHTuE8ecHDx40KU56NHGSI1nEli1b8NNPPwlJcnBwsLBSxzfffIOSkhK88sorwhCJBn5+fhCLxdDpdHjrrbfg6OiI7t27Y9q0aQbnbdq0CdevX4eVlRXs7OyEV4fOzs7o1q0bsrKyhHPfe+89o96d+xEWFgZHR0fh9eOwYcMA1K/DDdQ/mGbNmoUNGzbA29sbCoUCb7/9NlxdXWFlZYWCggIcPnwY2dnZmDdvHgICAiCTyYQHm4ODg8ViJaJ/vnnz5mH69OlQq9VYsmQJJBKJwZCQSZMmCe1Pw2Ty8PBwg7dmDdq2bYvk5GQcP34cqampKCoqMuiASEtLw/jx41FRUQGtVgsbGxv069cPIpGo2WXf/kbw9OnT2LRpE8RiMRwdHVFZWSn0Fje0hZ6ensjMzMSxY8egUqnMHl/elHPnzmHixInC3BcPDw907NgRIpEIMpkMGo0GH3zwAT755BO8+OKL+O6773D48GFERkaiZcuWUCqVmDx5MkaMGIGVK1ciMzMTPj4+wufAtpvuhj3YJLizN6Cx3oGmegxu74Hu0qULZs6cCQBo3749Jk2aBLFYjNLSUmGCScMkFicnJ8yaNQtSqRQVFRXIzc01WpVEq9XC0dERIpEItbW1QnLdtm1bLF++HDKZDO3atcO4ceMgk8mQlpaGM2fOAKifPGNlZWXSvTWltrZWWIZw4MCBGD9+PABg4MCBwjJTtra2kEqlWLlypTBOvLi4GPn5+ZDJZCguLkZBQQG0Wi1SUlKE3vDBgwdzogwRGfD19UV4eDieeeYZAP8/FMLV1RULFy7EmDFjhHNnzZoFPz8/6HQ64U2hlZWVMNxj7NixeOKJJwDUv0lUq9VGPc5FRUWoqamBi4sLPvzwQ2EstiXKFovFaNGiBXQ6HUpLS4XkulOnTli0aBEAYMqUKXj88cdRVVWF6OhoZGdnA4Aw56e57bdIJIJSqYRWq4WPjw+WLVsGqVQKiUSCuXPnQi6Xo7q6Gi4uLhg/fjzGjBkDiUSC2tpaZGdno7q6Whguo1QqoVQqkZSUBJVKBRcXF7z99tsmxUGPJpGef8aI7sOECRNQWFiI6dOno2/fvrC3txeW1LudRqOBUqmETCaDk5OT0brPdXV1UKlUkMlkcHFxabQBrampQX5+PnQ6Hdzd3YWHwJ31lJaWQq/Xw97e3qAnxVzDhg2DXq/HsmXL0KZNG7i4uBgsOdWgqqoKtbW1wkx5oH4Mo0KhgI2NDTw9PYWe++rqauTn50Ov18PDw0N4LUlE1BiNRoO8vDy4uro22uY1KCkpQVVVFezs7ODg4GA0QbKiogKVlZVwdnaGXC4XlhQNCAjAqlWroNFohMT5fsu+k16vh1KpREVFBRwdHeHs7NxoW1pWVoaqqirI5XI4ODgYvfE01bp163D06FEEBwfjrbfegkgkavTvF9TV1aGoqAgeHh7CM0en00GhUECj0cDT01N4hjT8cbOysjLY29vD3d292fHRo4FDRMgixGKx8MqyMTKZ7K7DNiQSidCr3RRra2uDCUBN1XP7REtLkEgkwh/OaYytra1RIm9jY9PoaihyuRx+fn4WjY+IHl4ymeye7R5QPzekqQQZAOzt7ZtM0O+WuN9v2UB9T7KXl9c923hHR8d7/iEvc93e8XGnxtp2sVjc6LNKJBLBw8PD4s8Xengxwab7MmjQIFRUVDyUSWNoaCj0ev1dk2sion+igIAAhIaGPpTt2zPPPAOJRIKAgIAHHQo9wjhEhIiIiIjIgjjJkYiIiIjIgphgExERERFZkPTkyZMPOgYiIiIion8Mf39/+Pv7N3lcVFpayjHYRER/IwqFAkD9X50jIqK/H7lc3uiylA04RISIiIiIyIKYYBMRERERWRATbCIiIiIiC2KCTURERERkQUywiYiIiIgsiAk2EREREZEFMcEmIiIiIrIgJthERERERBbEBJuIiOghc+HChQcdAtEjTXrnjrq6Ovz2229ITEyEm5sbXnzxRaOLsrOzsXPnTpSWlsLZ2RlvvPEGWrVqZVbFmZmZSEhIQEFBAebNm2d24BqNBmFhYQb7hgwZgj59+phcRkVFBXbu3Im0tDSIxWL06NEDo0ePhkgkEs4pLi7Gpk2boFQq4evri+nTp8PBwcHseImILCE/Px9arRYikQitWrWCSCRCaWkpKisrAQDu7u6QSCQoKCgQrvHy8oJMJhO21Wo1ioqKhG1bW1u4uro2Wp9CoUBWVhZ8fX3h4+Mj7FepVKiurha2W7RoARcXF7PuRaPR3DVOU1RUVODmzZvCtlwuh5ubm0E7npeXB51OBwBwdnaGnZ2dUTl6vR6pqakoLi6Gt7c3vL29odfrIZfL7xnnnTHIZDJ4eHhALLZcH1ZVVRWKi4uFbYlEAg8PD0ilRo9xKBQKbNu2DTY2NvD19TX7mXWv53NCQgKOHDkibItEIixYsAAtWrQwuQ6VSoWNGzca7BszZgzat28vbFdVVSE8PByZmZlwd3fH9OnT4enpada9ED0oRv8y4+Pjce3aNXh5eUGlUhldoFarsWHDBrz33nvw9PRERkYG1q5di08//dTkxiQ3NxcREREIDAxEUlJSswLX6XSwtrbGokWLhH23N6imiIuLQ1BQEGbOnAmdTocvvvgCsbGxBkn65s2bMXz4cHTt2hVRUVHYsWMH5syZ06yYiYju188//4y4uDj06dMH48ePh7W1NS5evIizZ89Co9HgjTfegFwux/Hjx5GdnY3s7GxMmDABQ4YMEcrIyMhAfHw8EhMTERQUBB8fH4SEhBjUo9Vq8eWXX6KyshJt27bFyZMn4ebmhunTp0MsFiM6OhonTpxAUFAQJBIJSkpKUFpaivfff9/khE6pVN41TlOkpKTg0KFDsLOzg6enJ6qqqpCZmYmZM2eiTZs2qKurw/Hjx3Hr1i38+uuvCAwMNGrDS0pKsHr1arRq1Qre3t6Ij49HSkoKRo0ahZCQkHvGeWcMarUa169fx4wZM/DEE0+YdT9NSU9Px4EDB1BbW4vWrVujtrYWqampeOWVV/Dss88K5505cwanTp3C8OHDceLECcTFxWHv3r0m12PK81mlUmHw4MEGz0pzn79qtRq+vr544403mixj165daN++PebPn4+UlBRs3LgR//nPf8yqh+hBMUqwe/fujd69eyM7OxunT582uqCiogITJ04UvkX6+/vD19cXhYWF8PLyMqlSHx8fzJ49G0D9w+J+mPuP+nZDhw4VfhaLxejWrRtyc3OFfWVlZaiurkbXrl0BAP3798e+ffug0WjM7mUhIrKEKVOmID09HaNHj4a1tTUAYODAgUhOTkZISAjatm0LAJg8eTI2bNiAESNG4KeffjJICNu3b4/27dujoKAAr732mlDO7Q4fPgwnJyfMmjULQH0Pb3h4OI4dO4aQkBC89NJLuHbtmsH158+fxw8//IDJkyebdC8+Pj53jdMUPXr0QF5eHnx9fYVEU6FQ4PPPP8eqVasgkUjw+uuv48SJE3jssccQExMDtVoNGxsboYxNmzbhpZdeQo8ePYR9hw4dEp4v94qzsRgKCwuxZs0afPLJJ0Yx31m/KTp27IiysjLcvHkToaGhAIDKykosWbIEXbp0ETq4jhw5grCwMOF34ufnZ1Y9pj6fRSLRfT1/by+nMXq9HpcvX8aUKVMA1P8/K5FIUFhYCA8Pj/uul+jPZvb7Kw8PDwQGBgrb5eXlyMrKavL14p+poKAA69evx9KlS7Fjxw6o1epml5OYmIgDBw6gW7duwv78/HwEBAQI2yKRCP7+/igpKbnv2ImImis4OBhRUVHCdlVVFXJycoTkGqhP4nJyctClSxfY2dlBoVCYVceZM2fw8ssvC9sikQivvvoqTp482eQ1jo6OwlAVU91vnI1p2bIlbt26ZbDv3Llz6N+/P/r06YPo6Ghh/82bN1FeXm6QXANAaGioQSeMuXHa29ujqqrKaP+ePXvw2muv4dixY825NQNyuRw6nQ5arVbY5+npicjISJSWlgJAo8M8LSEmJgZhYWFYuXIlzp0716wyrl+/js8++wwffvgh9u7da3AfN2/ehL+/v0EC3rZtW4OhOkR/Z8aDt8xw69YtfPTRR3j11Vf/8h5dmUyG/v37o2fPnvDw8MDp06exYcMGLFy40OyyEhISEB8fD3t7e4NeeLVaDblcbnCuk5MTampq7jt+IqLm6tevHz788EOhJ/PcuXPo27evwTmxsbHo1auXcP6ZM2fwyiuvmFR+ZWUlWrZsadSu29nZQSKRQKfTCT2mCQkJ0Ov1yMnJQXx8PBYsWGDWvdxPnLdrSDSVSiX279+PLl26CMeUSiXkcjmcnJwQHByMTz75REiei4qK8PTTTxuVd+eQR1Pi/P3331FbW4uCggJER0cbfEFp4OLighYtWjR7Lk9WVhbi4uKgVCoRGxuLIUOGwMrKSjg+e/ZsnDp1Clu2bEFhYSEGDx6M4cOHN6uupjzxxBOwsbFBz549odVqsX79elhbW6N79+4ml+Hs7IwePXqgT58+sLe3x48//oidO3cKQ0bUarXRmO4WLVoYjPsn+jtr9gyMsrIyLF++HCNHjkRQUJAlYzKJWCzGyJEj4e3tDalUiqFDh6KsrAwajcbsskaMGIFVq1ahY8eO2LZtm7BfKpUaJdM1NTWNTiohIvqrNExeS0tLAwCcPXsWwcHBBudER0ejsrISERERUKlUOHv2rDDRryklJSXIy8uDRCJBXV1do+fo9XqDbZVKBZVKhZMnT2Lq1Kl4/PHHzbqX5sTZmL1792LVqlXYs2cPOnTogIkTJwrHoqKiIJFIEBERgejoaBQXFyMvLw+AcSJ98OBBrFy5EitXrsSaNWvMirO8vBxFRUU4f/48evbsafSlB6gfmrh9+3YhWTdXZWUlCgsLkZSUBF9fX7zwwgsGx62trRESEoKFCxdi9erVSExMRE5OTrPqakq7du0waNAg2NrawsHBAZMnT8Yvv/xiVhn29vYYMWIEXF1dYWVlhbFjxyI5OVk4LpVKjd5Ka7VaPn/pH6NZCXZRURFWrFiBcePGGUyueNCkUqlR42+OkJAQpKamCttubm4GY7IBICcnB25ubs2ug4jIEgYOHIhTp07hxo0bcHV1NegRValU0Gg0aN26NRwdHeHi4oK2bdvi0qVLdy3z2rVrSExMhI2NDYqLi40SnJKSEkgkEoOkNDQ0FKNGjcKnn36K7du3m/UKv7lxNmbs2LFYunQp5s+fjwEDBggx6vV6JCQkoHfv3nB0dISjo6PQAw0A3t7eSE9PN7ifBQsWoHv37njyySfNirN79+5Ch01aWhpiYmLMvo976dChA0aMGIHly5dDIpHg4MGDwrGGcd8NZDIZHB0djYbLWJpUKjUY3tEcIpHI4Pnt7OyMGzduGJyTn5/PVUToH8PsBFuhUOCjjz7C5MmThZ7r7Oxs1NbWWjy4u4mMjDT4Vp6RkQGtVmvwqgyon929ePFixMbGGpURExNj0CjExcUZjGH08vKCQqEQlrO6fv06rKysjOogIvqrPfXUU0hPT8eRI0eMeq+joqLw3HPPoW/fvsJ/Y8aMMWusbEhICL766iuhl1ar1QqrKjXG3d0d06ZNw+bNm02uwxJx3svvv/+OgIAAgzpefvllJCUlQafTQS6Xw9HREadOnQJQv/ydlZUVZDKZMP7X3DitrKzw9ttvY//+/UbJbUJCAhYtWoQrV67c132JxWJMnToVsbGxwpcanU6H1NRUzJ8/H9u3b8fKlSthY2NjsZVMgPqhGz/88IPBM//o0aONDrPZvXs3li1b1ui8pf379xssO5iYmIjHHntM2JbJZHB2dhY6vVQqFbKystCyZUuL3QvRn0ny/vvvL7t9R3R0NLZt24bz588jPT0diYmJuHLlijAB5NChQ8jIyEBWVhaioqIQFRWFo0ePIigoCE5OTiZVmpubi7Vr1+LMmTPIysrClStXcPbsWQQFBRmNeW6KXq/Hl19+iUuXLuHixYuIjIzErFmz4OjoaHBefHw8oqKiYGtra9Tbfv78eWzbtg2ZmZk4c+YMUlNTMWPGDCGBFolE8PHxwfr163H9+nUcO3YMM2bMMPk+iYiao6KiAkD9a/SmiEQiVFVV4ezZs5g6daqQDJ48eRI//vgjCgoKYGdnBx8fH2RmZmLHjh24fPkyamtrUV1djS1btiA9PR2XL1/G2bNnERUVhaSkJPj5+eHJJ5+Ev78/bty4ge3btyM7Oxu7d+9GYGAghg8fDpFIhM2bN+Py5cu4fPkybG1t4ePjAzc3NyQnJ+Po0aPo37//XVeZMCXOjh073vOzioyMxNGjR3H16lXExcWhqqpKmJyelpaGDRs2QKVSoaKiAh06dIBWq8VHH30EhUKBS5cuITg4GEFBQTh27BgiIiKQlZWF2NhYJCQkYMCAAbhy5co948zPzxdiKCsrQ4cOHWBlZQVra2ts3LgRnTp1En6Xx44dQ2JiIry8vBpNSpuSkJCA//3vf0hLS8ONGzfQtWtXiMVitGrVCmvWrIGfnx/8/PwwfPhw9OrVC7t378a7776LPn36mLXax72ez1KpFOnp6di6dSsyMjIQEREBkUiEcePGGdWzbds2ZGRkoGvXrnB3dzc4plarER4eLvzeLly4gJkzZxqsrtK6dWt88cUXSEtLw4EDB/DGG2+YvFoZ0Z9NKpXedciSqLS0tPljKv4GysrKhAk5ja3D3TD5plWrVpBIJI0eVygUkMvlTa6EUlNTA6VS2eikHyIiS2tYocLb2/sBRwJUV1cjLy8Pnp6ejf6BlodJw73a2dnBw8PDIsvQ3amurg65ubnw9fX9U8pvsGjRIqxatepPK7/h2WlnZ2fUsdVArVbj5s2bd+11Li4uhlarbfLz1mq1UCgU8PT0bHQ5SaIHRS6X37VT+B+fYBMRPWz+Tgk2/TNlZ2ebPeGUiEx3rwTbcn/HlYiIiP4WmFwTPVhMsImIiIiILCEzurYAAAUiSURBVIgJNhERERGRBTHBJiIiIiKyICbYREREREQWxASbiIiIiMiCmGATEREREVkQE2wiIiIiIgtigk1EREREZEFGf0S9rq4Ov/32GxITE+Hm5oYXX3yx0Qv1ej2OHTuGmJgYVFVVYciQIQgJCTG54uTkZOzbtw8VFRXw9PTEm2++CWdnZ5Ov12g0CAsLM9g3ZMgQ9OnTx+Qy1Go1Lly4gKSkJAwYMACBgYFG5xQXF2PTpk1QKpXw9fXF9OnT4eDgYHIdRERERPRoMUqw4+Pjce3aNXh5eUGlUjV54dq1a2Fvb48PPvgA1tbWZlVaUFCA7777DosXL4aDgwN+/fVX/Pe//8Xy5ctNLkOn08Ha2hqLFi0S9olEIrPiOHjwIMRiMWxsbFBVVdXoOZs3b8bw4cPRtWtXREVFYceOHZgzZ45Z9RARERHRo8NoiEjv3r0xefJkdOzYscmLYmJiIBaLMXXqVLOTawCorKzElClThJ7gzp07o7a2FnV1dWaXJRKJhP/MNXbsWIwZMwbe3t6NHi8rK0N1dTW6du0KAOjfvz/++OMPaDQas+siIiIiokeDUQ+2KWJiYjBp0iQoFAoUFBSgffv2ZiXabdu2NdhWKBTQ6XSQSCRmxVFQUID169ejqKgIbdq0wcsvvwwbGxuzyrib/Px8BAQECNsikQj+/v4oKSmBp6enxeohIiIioodHsyY5FhUVYd++ffj+++/x+++/Y/Hixbh161azAlCpVFi7di2mT59u1nUymQz9+/fH6NGj8eGHH8Lb2xsbNmxoVgxNUavVkMvlBvucnJxQU1Nj0XqIiIiI6OHRrB5smUwGiUSCd999FwDQsmVLHD16FKNGjTKrHIVCgc8++wzTpk2Dn5+fWdeKxWKMHDlS2B46dCiioqKg0Wggk8nMKqspUqnUKJmuqamBVNqsj42IiIiIHgHN6sH29fVFcHCwsN2uXTsUFxebVUZWVhY++eQTzJw502AYxv2QSqXQ6/UWKQsA3NzckJuba7AvJycHbm5uFquDiIiIiB4uzUqwu3XrhlOnTgnbv/76K3x9fU2+PjU1FRs2bMD8+fPh7+8PAEhLSzMrOY6MjEROTo6wnZGRAa1WCysrK4PzUlJSsHjxYsTGxppcdgMvLy8oFAoUFRUBAK5fvw4rKyujOoiIiIiIGhiNdYiOjsbJkyehVqtRVlaGrKwsuLi4YO7cucI5Xbp0QVJSElasWAEHBweUlJRg6dKlJlf6888/Q6PRYOvWrcK+7OxshIeHmzxJ0d/fHxs3boSbmxtsbGyQkZGBefPmGZ2Xnp6O69ev48qVK+jdu7fBsV27duGPP/5AUVERpFIpIiMj0aVLF/zrX/8CUD+pccqUKQgLC0Pbtm1x/fp1vP322ybfJxERERE9ekSlpaXNHlNRVFQEjUYDLy+vZi2TZwllZWWorKxEy5YtIRYbd8jr9Xrk5OSgVatWZq9S0qCmpgZKpRItW7a02PhuIqKmKBQKAGhyCVEiInqw5HK50UIYt7uvBJuIiCyPCTYR0d/bvRLsZo3BJiIiIiKixjHBJiIiIiKyICbYREREREQWxASbiIiIiMiCmGATEREREVkQE2wiIiIiIgtigk1EREREZEFMsImIiIiILIgJNhERERGRBYlOnDjBv+RIRERERGQif39/+Pv7N3lcpNfrmWATEREREVkIh4gQEREREVkQE2wiIiIiIgtigk1EREREZEFMsImIiIiILIgJNhERERGRBf0fe3EjdE6IVUwAAAAASUVORK5CYII=)"
      ]
    },
    {
      "cell_type": "code",
      "execution_count": 47,
      "metadata": {
        "colab": {
          "base_uri": "https://localhost:8080/"
        },
        "id": "iTYUZbsI01zB",
        "outputId": "8f47847d-adcc-4af7-b6c1-c8da39da27ae"
      },
      "outputs": [
        {
          "name": "stdout",
          "output_type": "stream",
          "text": [
            "VALOR A PAGAR R$: 15.5\n"
          ]
        }
      ],
      "source": [
        "codigo_prod_1=input(\"Digite o código do Produto 1\\ncódigo:\")\n",
        "unidades_prod_1=float(input(\"Digite número de unidades do Produto 1\\n\"))\n",
        "preço_prod_1=float(input(\"Digite o preço de cada unidade do Produto 1\\nR$\"))\n",
        "\n",
        "\n",
        "codigo_prod_2=input(\"Digite o código do Produto 2\\ncódigo:\")\n",
        "unidades_prod_2=float(input(\"Digite número de unidades do Produto 2\\n\"))\n",
        "preço_prod_2=float(input(\"Digite o preço de cada unidade do Produto 2\\nR$ \"))\n",
        "\n",
        "total_pagar=(unidades_prod_1*preço_prod_1)+(unidades_prod_2*preço_prod_2)\n",
        "\n",
        "print(\"VALOR A PAGAR R$:\",total_pagar)\n",
        "#FINALIZADO-ALEXSANDRO COSTA"
      ]
    },
    {
      "cell_type": "markdown",
      "metadata": {
        "id": "oV0C_Cco5uLj"
      },
      "source": [
        "\n",
        "\n",
        "---\n",
        "\n"
      ]
    },
    {
      "cell_type": "markdown",
      "metadata": {
        "id": "mvDT_4MlkmCI"
      },
      "source": [
        "35- Escreva um programa que calcule e mostre o volume de uma esfera sendo fornecido\n",
        "o valor de seu raio R. Considere pi igual a 3,14159. A fórmula para calcular o volume é:\n",
        "![image.png](data:image/png;base64,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). A saída deve exibir uma mensagem \"VOLUME\", como nos exemplos, com\n",
        "um espaço antes e depois do sinal igual. O valor deve ser apresentado com 3 dígitos\n",
        "após o ponto decimal."
      ]
    },
    {
      "cell_type": "code",
      "execution_count": 48,
      "metadata": {
        "colab": {
          "base_uri": "https://localhost:8080/"
        },
        "id": "wHW_w7nj4C_Z",
        "outputId": "3382d0d2-5a77-4754-96f0-ad3621402dfd"
      },
      "outputs": [
        {
          "name": "stdout",
          "output_type": "stream",
          "text": [
            "o volume da espera será de 113.097\n"
          ]
        }
      ],
      "source": [
        "pi=3.14159\n",
        "raio=float(input(\"digite o valor do raio\\n\"))\n",
        "volume= (4/3) * pi* (raio**3)\n",
        "volume=\"%.3f\"%volume\n",
        "print(\"o volume da espera será de\",volume)\n",
        "#FINALIZADO-ALEXSANDRO COSTA"
      ]
    },
    {
      "cell_type": "markdown",
      "metadata": {
        "id": "YFsHav6D4DaW"
      },
      "source": [
        "\n",
        "\n",
        "---\n",
        "\n"
      ]
    },
    {
      "cell_type": "markdown",
      "metadata": {
        "id": "bW0x0CmQkl7x"
      },
      "source": [
        "36- Escreva um programa que leia três valores de ponto flutuante: A, B e C. Em seguida,\n",
        "calcule e mostre:\n",
        "\n",
        "\n",
        "a) a área do triângulo retângulo que tem base A e altura C.\n",
        "\n",
        "b) a área do círculo do raio C. (pi = 3,14159)\n",
        "\n",
        "c) a área do trapézio que tem A e B por base e C por altura.\n",
        "\n",
        "d) a área da praça que tem lado B.\n",
        "\n",
        "e) a área do retângulo que possui os lados A e B.\n",
        "\n",
        "A saída deve conter 5 linhas de dados. Cada linha corresponde a uma das áreas descritas\n",
        "acima. O valor calculado deve ser apresentado com 3 dígitos após o ponto decimal. Seu\n",
        "programa deve gerar a saída conforme os exemplos."
      ]
    },
    {
      "cell_type": "code",
      "execution_count": 49,
      "metadata": {
        "colab": {
          "base_uri": "https://localhost:8080/"
        },
        "id": "DJkEJAgj6R5X",
        "outputId": "b5c5d39a-80b3-4b8c-82f7-66de62836634"
      },
      "outputs": [
        {
          "name": "stdout",
          "output_type": "stream",
          "text": [
            "\n",
            "TRIÂNGULO: 7.800\n",
            "CIRCULO: 84.949\n",
            "TRAPÉZIO: 18.200\n",
            "QUADRADO: 16.000\n",
            "RETÃNGULO: 12.000\n",
            " \n"
          ]
        }
      ],
      "source": [
        "A,B,C=[float(x) for x in input(\"digite os valores\\n\").split()] # input para gerar uma lista\n",
        "\n",
        "area_triangulo = (A*C)/2 #QUESTÃO A\n",
        "area_triangulo = \"%.3f\"%area_triangulo\n",
        "#---------------------------------------------------------------\n",
        "pi= 3.14159\n",
        "area_circulo = pi*(C**2) #Questão B\n",
        "area_circulo = \"%.3f\"%area_circulo\n",
        "#---------------------------------------------------------------\n",
        "area_trapezio = ((A+B)*C)/2 #Questão C\n",
        "area_trapezio = \"%.3f\"%area_trapezio\n",
        "#---------------------------------------------------------------\n",
        "area_quadrado = B**2 #Questão D\n",
        "area_quadrado = \"%.3f\"%area_quadrado \n",
        "#---------------------------------------------------------------\n",
        "area_rentagulo = A * B #Questão E\n",
        "area_rentagulo = \"%.3f\"%area_rentagulo\n",
        "#---------------------------------------------------------------\n",
        "\n",
        "saida = f'''\n",
        "{\"TRIÂNGULO:\":} {area_triangulo}\n",
        "{\"CIRCULO:\":} {area_circulo}\n",
        "{\"TRAPÉZIO:\":} {area_trapezio}\n",
        "{\"QUADRADO:\":} {area_quadrado}\n",
        "{\"RETÃNGULO:\":} {area_rentagulo}\n",
        " '''\n",
        "\n",
        "print(saida)\n",
        "#FINALIZADO-ALEXSANDRO COSTA"
      ]
    },
    {
      "cell_type": "markdown",
      "metadata": {
        "id": "7m7Z9uX36T29"
      },
      "source": [
        "\n",
        "\n",
        "---\n",
        "\n"
      ]
    },
    {
      "cell_type": "markdown",
      "metadata": {
        "id": "FLtkh61oklyo"
      },
      "source": [
        "37- Escreva um programa que leia 3 valores inteiros e apresente o maior seguido pela\n",
        "mensagem \"eh o maior\". Seu programa deve gerar a saída conforme os exemplos.\n",
        "\n",
        "\n",
        "![image.png](data:image/png;base64,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)"
      ]
    },
    {
      "cell_type": "code",
      "execution_count": 50,
      "metadata": {
        "colab": {
          "base_uri": "https://localhost:8080/"
        },
        "id": "WSXuhoMBI2fx",
        "outputId": "b6aa0de5-847a-4aa4-dcbc-3533d8d9b5ae"
      },
      "outputs": [
        {
          "name": "stdout",
          "output_type": "stream",
          "text": [
            "106 eh o maior\n"
          ]
        }
      ],
      "source": [
        "valor_1,valor_2,valor_3=[int(x) for x in input(\"digite os valores\\n\").split()] # input para gerar uma lista\n",
        "if valor_1 > valor_2 and valor_1 > valor_3:\n",
        "  print(valor_1,\"eh o maior\")\n",
        "elif valor_2 > valor_1 and valor_2 > valor_3:\n",
        "  print(valor_2,\"eh o maior\")\n",
        "else:\n",
        "  print(valor_3,\"eh o maior\")\n",
        "  \n",
        "#FINALIZADO-ALEXSANDRO COSTA"
      ]
    },
    {
      "cell_type": "markdown",
      "metadata": {
        "id": "RHxzxf1nklsw"
      },
      "source": [
        "38- Escreva um programa para calcular o consumo médio de um carro fornecendo a\n",
        "distância total percorrida (em Km) e o total de combustível consumido (em litros). Seu\n",
        "programa deve exibir um valor que represente o consumo médio de um carro com 3\n",
        "dígitos após o ponto decimal, seguido da mensagem \"km / l\".\n",
        "\n",
        "![image.png](data:image/png;base64,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)"
      ]
    },
    {
      "cell_type": "code",
      "execution_count": 51,
      "metadata": {
        "colab": {
          "base_uri": "https://localhost:8080/"
        },
        "id": "s9WUbu0NIvvd",
        "outputId": "52792d31-082d-4b4e-a93a-5a298d4f22c8"
      },
      "outputs": [
        {
          "name": "stdout",
          "output_type": "stream",
          "text": [
            "14.286 KM/L\n"
          ]
        }
      ],
      "source": [
        "distancia=float(input(\"Digite a distância total percorrida\\n\"))\n",
        "consumo=float(input(\"Digite o consumo total\\n\"))\n",
        "consumo_medio=distancia/consumo\n",
        "consumo_medio=\"%.3f\"%consumo_medio\n",
        "print(consumo_medio,\"KM/L\")\n",
        "#FINALIZADO-ALEXSANDRO COSTA"
      ]
    },
    {
      "cell_type": "markdown",
      "metadata": {
        "id": "fZpMlzNPklmY"
      },
      "source": [
        "39- Dois carros (X e Y) saem na mesma direção. O carro X sai com uma velocidade\n",
        "constante de 60 km/h e o carro Y sai com uma velocidade constante de 90 km/h. Escreva\n",
        "um programa que leia uma distância (em km) e calcule quanto tempo leva (em minutos)\n",
        "para o carro Y estar a essa distância em relação ao carro X. \". Seu programa deve gerar\n",
        "a saída conforme os exemplos.\n",
        "\n",
        "![image.png](data:image/png;base64,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)"
      ]
    },
    {
      "cell_type": "code",
      "execution_count": 52,
      "metadata": {
        "colab": {
          "base_uri": "https://localhost:8080/"
        },
        "id": "2S6hFSMFQ8RH",
        "outputId": "b13e50ba-2779-4787-890e-39dcf1923539"
      },
      "outputs": [
        {
          "name": "stdout",
          "output_type": "stream",
          "text": [
            "60.0 minutos\n"
          ]
        }
      ],
      "source": [
        "distancia=float(input(\"Digite a distancia  desejada \"))\n",
        "#sabe -se que em 60 minutos o carro_x pecorrer 60 km eo carro_y percorrer 90 km obtendo uma diferença de 30 km ou seja a cada 2 minutos o  carro y se distância 1km\n",
        "#logo o carro y está 2 vezes a frente do carro_x em relação ao tempo\n",
        "tempo=distancia*2\n",
        "print(tempo,\"minutos\") \n",
        "#FINALIZADO-ALEXSANDRO COSTA"
      ]
    },
    {
      "cell_type": "markdown",
      "metadata": {
        "id": "LCStrbdVQ8ip"
      },
      "source": [
        "\n",
        "\n",
        "---\n",
        "\n"
      ]
    },
    {
      "cell_type": "markdown",
      "metadata": {
        "id": "2Ez4H0HVklgo"
      },
      "source": [
        "40- Escreva um programa para ler um valor inteiro e calcular o menor número possível\n",
        "de notas em que o valor pode ser decomposto. As notas possíveis são 100, 50, 20, 10,\n",
        "5, 2 e 1. Imprima o valor lido e a lista de notas conforme os exemplos."
      ]
    },
    {
      "cell_type": "code",
      "execution_count": 53,
      "metadata": {
        "colab": {
          "base_uri": "https://localhost:8080/"
        },
        "id": "XA2-DhZIV0ne",
        "outputId": "5ba2e605-559d-4b22-df10-e616e0b4ef1c"
      },
      "outputs": [
        {
          "name": "stdout",
          "output_type": "stream",
          "text": [
            "5 nota(s) de R$ 100,00\n",
            "1 nota(s) de R$ 50,00\n",
            "1 nota(s) de R$ 20,00\n",
            "0 nota(s) de R$ 10,00\n",
            "1 nota(s) de R$ 5,00\n",
            "0 nota(s) de R$ 2,00\n",
            "1 nota(s) de R$ 1,00\n",
            "----------------------------------------------------\n"
          ]
        }
      ],
      "source": [
        "valor=float(input(\"Digite o valor \"))\n",
        "\n",
        "cen=int(valor/100)#a divisão retornará apenas o valor inteiro \n",
        "valor=valor-(cen*100)\n",
        "#----------------------------------------------------------------------\n",
        "ciquen=int(valor/50)\n",
        "valor=valor-(ciquen*50)\n",
        "#---------------------------------------------------------------------\n",
        "vinte = int(valor/20)\n",
        "valor=valor-(vinte*20)\n",
        "#---------------------------------------------------------------------\n",
        "dez=int(valor/10)\n",
        "valor=valor-(dez*10)\n",
        "#---------------------------------------------------------------------\n",
        "cinco=int(valor/5)\n",
        "valor=valor-(cinco*5)\n",
        "#---------------------------------------------------------------------\n",
        "dois=int(valor/2)\n",
        "valor=valor-(dois*2)\n",
        "#---------------------------------------------------------------------\n",
        "um=int(valor/1)\n",
        "valor=valor-(um*1)\n",
        "#---------------------------------------------------------------------\n",
        "print(cen,'nota(s) de R$ 100,00')\n",
        "print(ciquen,'nota(s) de R$ 50,00')\n",
        "print(vinte,'nota(s) de R$ 20,00')\n",
        "print(dez,'nota(s) de R$ 10,00')\n",
        "print(cinco,'nota(s) de R$ 5,00')\n",
        "print(dois,'nota(s) de R$ 2,00')\n",
        "print(um,'nota(s) de R$ 1,00')\n",
        "print(\"----------------------------------------------------\")\n",
        "#finalizado-Alexsandro costa"
      ]
    },
    {
      "cell_type": "markdown",
      "metadata": {
        "id": "Iyz5qBfiGbbF"
      },
      "source": [
        "\n",
        "\n",
        "---\n",
        "\n"
      ]
    },
    {
      "cell_type": "markdown",
      "metadata": {
        "id": "Fch-iKwbklaB"
      },
      "source": [
        "41- Escreva um programa para ler um valor inteiro, que é a duração em segundos de um\n",
        "determinado evento em uma fábrica, e informe-o expresso em horas: minutos:\n",
        "segundos conforme os exemplos.\n",
        "\n",
        "![image.png](data:image/png;base64,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)"
      ]
    },
    {
      "cell_type": "code",
      "execution_count": 54,
      "metadata": {
        "colab": {
          "base_uri": "https://localhost:8080/"
        },
        "id": "V73QBeTBV_BN",
        "outputId": "84212993-8558-4d0f-fa6e-b7ad21bafba1"
      },
      "outputs": [
        {
          "name": "stdout",
          "output_type": "stream",
          "text": [
            "0:9:16\n"
          ]
        }
      ],
      "source": [
        "qnt_segundos= int(input(\"Digite a quantidade de segundos \"))\n",
        "#---------------------------------------------\n",
        "horas = int(qnt_segundos / 60**2)\n",
        "qnt_segundos = qnt_segundos - horas * 60**2\n",
        "#---------------------------------------------\n",
        "minutos = qnt_segundos // 60\n",
        "qnt_segundos = qnt_segundos - minutos*60\n",
        "#---------------------------------------------\n",
        "segundos=qnt_segundos\n",
        "#---------------------------------------------\n",
        "print(horas,minutos,segundos,sep=\":\")\n",
        "#FINALIZADO-ALEXSANDRO COSTA"
      ]
    },
    {
      "cell_type": "markdown",
      "metadata": {
        "id": "NgrJscIRGYqg"
      },
      "source": [
        "\n",
        "\n",
        "---\n",
        "\n"
      ]
    },
    {
      "cell_type": "markdown",
      "metadata": {
        "id": "TIdn2K97klOT"
      },
      "source": [
        "FACULDADE DE COMPUTAÇÃO\n",
        "\n",
        "42- Escreva um programa informar quantos salários mínimos um funcionário recebe. Se\n",
        "o valor do salário do funcionário for menor que um salário mínimo, então o programa\n",
        "deve exibir a mensagem “O seu salário é inferior a um salário mínimo”. Nesse programa,\n",
        "o usuário deve informar o seu nome; o valor do salário mínimo; e o valor do seu salário.\n",
        "O seu programa deve gerar as saídas conforme os exemplos.\n",
        "\n",
        "![image.png](data:image/png;base64,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)"
      ]
    },
    {
      "cell_type": "code",
      "execution_count": 55,
      "metadata": {
        "id": "ixlwqQD7sT_1"
      },
      "outputs": [],
      "source": [
        "def qnt_salarios_minimos():\n",
        "  nome_funcionario=input(\"Digite o nome do funcionário\\n\")\n",
        "  salario_minimo=float(input(\"Digite o valor do salário mínimo\\nR$\"))\n",
        "  salario_funcionario=float(input(\"Digite o salário do funcinário\\nR$\"))\n",
        "  #----------------------------------------------------------------------\n",
        "  if salario_funcionario > salario_minimo:\n",
        "    qnt_sala_minimos=int(salario_funcionario/salario_minimo)\n",
        "    print(nome_funcionario,\"você recebe\",qnt_sala_minimos,\"salario(s) mínimo(s)\")\n",
        "  else:\n",
        "    print(nome_funcionario,\"o seu salário é inferio a um salário mínimo\")\n",
        "  \n",
        "  #FINALIZADO-ALEXSANDRO COSTA"
      ]
    },
    {
      "cell_type": "code",
      "execution_count": 56,
      "metadata": {
        "colab": {
          "base_uri": "https://localhost:8080/"
        },
        "id": "1ljDjVgVvVHv",
        "outputId": "433a070c-8f22-40b9-e6b0-ebbad5b4f05d"
      },
      "outputs": [
        {
          "name": "stdout",
          "output_type": "stream",
          "text": [
            "Renato você recebe 5 salario(s) mínimo(s)\n"
          ]
        }
      ],
      "source": [
        "qnt_salarios_minimos()"
      ]
    },
    {
      "cell_type": "code",
      "execution_count": 57,
      "metadata": {
        "colab": {
          "base_uri": "https://localhost:8080/"
        },
        "id": "MWGZgsQMFyej",
        "outputId": "d9678b22-628f-45c0-d113-94e8d7b8acb7"
      },
      "outputs": [
        {
          "name": "stdout",
          "output_type": "stream",
          "text": [
            "Heitor o seu salário é inferio a um salário mínimo\n"
          ]
        }
      ],
      "source": [
        "qnt_salarios_minimos()"
      ]
    },
    {
      "cell_type": "markdown",
      "metadata": {
        "id": "ZrQwgGN3GVPQ"
      },
      "source": [
        "\n",
        "\n",
        "---\n",
        "\n"
      ]
    },
    {
      "cell_type": "markdown",
      "metadata": {
        "id": "LWgcyG81klUY"
      },
      "source": [
        "43- Escreva um programa para ler quatro números inteiros referentes as coordenadas\n",
        "de dois pontos P1(x1,y1) e P2(x2, y2). Programa deve receber dois números por linha.\n",
        "Os valores digitados na primeira linha são referentes as coordenadas x e y do ponto P1\n",
        "e os valores digitados na segunda linha são referentes as coordenadas x e y do ponto\n",
        "P2. O programa deve informar se os dois pontos formam uma reta horizontal. O seu\n",
        "programa deve gerar as saídas conforme os exemplos.\n",
        "\n",
        "\n",
        "\n",
        "\n",
        "\n",
        "![image.png](data:image/png;base64,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)"
      ]
    },
    {
      "cell_type": "code",
      "execution_count": 60,
      "metadata": {
        "id": "SKQdMtNCv36V"
      },
      "outputs": [],
      "source": [
        "def reta_horizontal():\n",
        "  x1,y1= [int(i) for i in input(\"digite as coordenadas de P1 \\n\").split()]\n",
        "  x2,y2=[int(x) for x in input(\"digite as coordenadas  de P2\\n\").split()]\n",
        "  if y1 == y2 :\n",
        "    print(\"Forma uma reta horizontal\")\n",
        "  else:\n",
        "    print(\"Não forma uma reta horinzontal\")\n",
        "#Finalizado - ALEXSANDRO COSTA"
      ]
    },
    {
      "cell_type": "code",
      "execution_count": 61,
      "metadata": {
        "colab": {
          "base_uri": "https://localhost:8080/"
        },
        "id": "gWi8AetGN4YO",
        "outputId": "a41ca797-25b0-4997-9509-e9c9a9cc632c"
      },
      "outputs": [
        {
          "name": "stdout",
          "output_type": "stream",
          "text": [
            "Não forma uma reta horinzontal\n"
          ]
        }
      ],
      "source": [
        "reta_horizontal()"
      ]
    },
    {
      "cell_type": "code",
      "execution_count": 62,
      "metadata": {
        "colab": {
          "base_uri": "https://localhost:8080/"
        },
        "id": "CIk2vJWTOBfP",
        "outputId": "3283894f-63af-4e06-f5f4-beb4fe963016"
      },
      "outputs": [
        {
          "name": "stdout",
          "output_type": "stream",
          "text": [
            "Forma uma reta horizontal\n"
          ]
        }
      ],
      "source": [
        "reta_horizontal()"
      ]
    },
    {
      "cell_type": "code",
      "execution_count": 63,
      "metadata": {
        "colab": {
          "base_uri": "https://localhost:8080/"
        },
        "id": "cdiGKiyVgKss",
        "outputId": "58211760-8602-4e26-d5ca-746113e1c06f"
      },
      "outputs": [
        {
          "name": "stdout",
          "output_type": "stream",
          "text": [
            "Forma uma reta horizontal\n"
          ]
        }
      ],
      "source": [
        "reta_horizontal()"
      ]
    },
    {
      "cell_type": "markdown",
      "metadata": {
        "id": "1hBeAifZgK40"
      },
      "source": [
        "\n",
        "\n",
        "---\n",
        "\n"
      ]
    },
    {
      "cell_type": "markdown",
      "metadata": {
        "id": "ijbVbQYmklHn"
      },
      "source": [
        "44- Escreva um programa para ler quatro números inteiros referentes as coordenadas\n",
        "de dois pontos P1(x1,y1) e P2(x2, y2). Programa deve receber dois números por linha.\n",
        "Os valores digitados na primeira linha são referentes as coordenadas x e y do ponto P1\n",
        "e os valores digitados na segunda linha são referentes as coordenadas x e y do ponto\n",
        "P2. O programa deve informar se os dois pontos, de P1 para P2, formam uma reta\n",
        "crescente. O seu programa deve gerar as saídas conforme os exemplos.\n",
        "\n",
        "![image.png](data:image/png;base64,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)"
      ]
    },
    {
      "cell_type": "code",
      "execution_count": 64,
      "metadata": {
        "id": "hMTx0zsD_jmI"
      },
      "outputs": [],
      "source": [
        "def reta_crescente():\n",
        "  x1,y1= [int(i) for i in input(\"digite as coordenadas de P1 \\n\").split()]\n",
        "  x2,y2=[int(x) for x in input(\"digite as coordenadas  de P2\\n\").split()]\n",
        "  \n",
        "  if y2 > x1 and y1!=y2 and x1!=x2:# para ser uma reta crescente y2 tem que maior q x1 ,além disto y1 tem q ser diferente de y2 assim com x1 com x2.\n",
        "    print(\"Forma uma reta crescente\")\n",
        "  else:\n",
        "    print(\"Não forma uma reta crescente\")"
      ]
    },
    {
      "cell_type": "code",
      "execution_count": 65,
      "metadata": {
        "colab": {
          "base_uri": "https://localhost:8080/"
        },
        "id": "SFwgpgORYiVs",
        "outputId": "e999a73a-be55-4c28-c5ec-29f26b433428"
      },
      "outputs": [
        {
          "name": "stdout",
          "output_type": "stream",
          "text": [
            "Não forma uma reta crescente\n"
          ]
        }
      ],
      "source": [
        "reta_crescente()"
      ]
    },
    {
      "cell_type": "code",
      "execution_count": 66,
      "metadata": {
        "colab": {
          "base_uri": "https://localhost:8080/"
        },
        "id": "c9pClrqsYnQf",
        "outputId": "2fde1a11-f8e6-410a-dfe2-f4a96232eafa"
      },
      "outputs": [
        {
          "name": "stdout",
          "output_type": "stream",
          "text": [
            "Não forma uma reta crescente\n"
          ]
        }
      ],
      "source": [
        "reta_crescente()"
      ]
    },
    {
      "cell_type": "code",
      "execution_count": 67,
      "metadata": {
        "colab": {
          "base_uri": "https://localhost:8080/"
        },
        "id": "fMawJN_UZxEb",
        "outputId": "fe0c4917-d8d8-45d7-f03e-16ed8e2e9cdc"
      },
      "outputs": [
        {
          "name": "stdout",
          "output_type": "stream",
          "text": [
            "Forma uma reta crescente\n"
          ]
        }
      ],
      "source": [
        "reta_crescente()"
      ]
    },
    {
      "cell_type": "code",
      "execution_count": 68,
      "metadata": {
        "colab": {
          "base_uri": "https://localhost:8080/"
        },
        "id": "Hi13zI3PYiTF",
        "outputId": "ca7d900b-6ee2-4c35-9f37-54678ca47bed"
      },
      "outputs": [
        {
          "name": "stdout",
          "output_type": "stream",
          "text": [
            "Forma uma reta crescente\n"
          ]
        }
      ],
      "source": [
        "reta_crescente()"
      ]
    },
    {
      "cell_type": "markdown",
      "metadata": {
        "id": "cEPhID8ev4ZN"
      },
      "source": [
        "\n",
        "\n",
        "---\n",
        "\n"
      ]
    },
    {
      "cell_type": "markdown",
      "metadata": {
        "id": "7DUs1L3dklAi"
      },
      "source": [
        "45- Escreva um programa para informar se a senha é igual ao confirmar senha. O seu\n",
        "programa deve gerar as saídas conforme os exemplos.\n",
        "\n",
        "![image.png](data:image/png;base64,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)"
      ]
    },
    {
      "cell_type": "code",
      "execution_count": 69,
      "metadata": {
        "colab": {
          "base_uri": "https://localhost:8080/"
        },
        "id": "eL6HSFsT_zgI",
        "outputId": "dfffb228-145c-4f94-c44f-c86cd25608d5"
      },
      "outputs": [
        {
          "name": "stdout",
          "output_type": "stream",
          "text": [
            "Tudo certo!\n"
          ]
        }
      ],
      "source": [
        "c ='sim'\n",
        "while c == 'sim':\n",
        "  senha=(input(\"\"))\n",
        "  senha_digitada=(input(\"Digite a senha \"))\n",
        "  if senha == senha_digitada:\n",
        "    print(\"Tudo certo!\")  \n",
        "    c='não'  \n",
        "  else:\n",
        "    print(\"senhas não coferem!\")\n",
        "    c=input('tenta novamente? sim ou não\\n')\n",
        "#FINALIZADO-ALEXSANDRO COSTA"
      ]
    },
    {
      "cell_type": "markdown",
      "metadata": {
        "id": "NtJJHPw2kk54"
      },
      "source": [
        "46- Considerando os pontos P1(x1, y1) e P2(x2, y2) pontos de um retângulo conforme a\n",
        "Figura 4, escreva um programa de computador para decidir se um ponto P(x, y)\n",
        "informado pelo usuário está dentro ou fora do retângulo. Na primeira linha o usuário\n",
        "deve informar quatro números inteiros referentes aos valores de x1, y1, x2 e y2. Na\n",
        "segunda linha o usuário deve informar dois número inteiros referentes aos valores x e y\n",
        "do ponto P. O seu programa deve gerar as saídas conforme os exemplos.\n",
        "\n",
        "\n",
        "\n",
        "\n",
        "\n",
        "\n",
        "![image.png](data:image/png;base64,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)\n",
        "\n",
        "\n",
        "OUTPUT:\n",
        "\n",
        "![image.png](data:image/png;base64,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)"
      ]
    },
    {
      "cell_type": "code",
      "execution_count": null,
      "metadata": {
        "id": "ZFGpgTiI1d-r"
      },
      "outputs": [
        {
          "ename": "",
          "evalue": "",
          "output_type": "error",
          "traceback": [
            "\u001b[1;31mRunning cells with 'c:\\Users\\Alexsandro.costa\\AppData\\Local\\Microsoft\\WindowsApps\\python3.11.exe' requires ipykernel package.\n",
            "\u001b[1;31mRun the following command to install 'ipykernel' into the Python environment. \n",
            "\u001b[1;31mCommand: 'c:/Users/Alexsandro.costa/AppData/Local/Microsoft/WindowsApps/python3.11.exe -m pip install ipykernel -U --user --force-reinstall'"
          ]
        }
      ],
      "source": [
        "def retangulo():\n",
        "  x1,y1x2,y2= [int(i) for i in input(\"digite os valores de x1,x2,y1 e y2 \\n\").split()]\n",
        "  valores=[int(x) for x in input(\"digite os valores de x e y\\n\").split()]\n",
        "\n"
      ]
    },
    {
      "cell_type": "markdown",
      "metadata": {
        "id": "0fnwMMDgBZFB"
      },
      "source": [
        "\n",
        "\n",
        "---\n",
        "\n"
      ]
    },
    {
      "attachments": {
        "image.png": {
          "image/png": "[encoded data removed]"
        }
      },
      "cell_type": "markdown",
      "metadata": {
        "id": "PhngB0nwkkqd"
      },
      "source": [
        "47- Escreva um programa que receba dois números inteiros digitados pelo usuário e\n",
        "informe se o maior número é ímpar. O seu programa deve gerar as saídas conforme os\n",
        "exemplos.\n",
        "\n",
        "![image.png](attachment:image.png)"
      ]
    },
    {
      "cell_type": "code",
      "execution_count": 2,
      "metadata": {},
      "outputs": [
        {
          "name": "stdout",
          "output_type": "stream",
          "text": [
            "o maior ñ é impar\n"
          ]
        }
      ],
      "source": [
        "v1,v2=[float(x) for x in input(\"digite os dois valores\\n\").split()]\n",
        "maior=0\n",
        "if v1>v2 or v2>v1 and v1%2!=0 or v2%2!=0 :\n",
        "    print(\"o maior é impar \")\n",
        "else:\n",
        "    print(\"o maior ñ é impar\")\n",
        "\n",
        "#FINALIZADO-ALEXSANDRO COSTA"
      ]
    },
    {
      "attachments": {},
      "cell_type": "markdown",
      "metadata": {},
      "source": [
        "---\n"
      ]
    },
    {
      "attachments": {
        "image.png": {
          "image/png": "[encoded data removed]"
        }
      },
      "cell_type": "markdown",
      "metadata": {
        "id": "DeKQODP7kkyQ"
      },
      "source": [
        "48- Escreva um programa de computador para decidir se a quantidade de lajotas\n",
        "disponíveis é suficiente para lajotar a sala de uma casa. Na primeira linha o programa\n",
        "deve receber dois números inteiros referentes as dimensões, em metros, de largura L e\n",
        "comprimento C da sala. Na segunda linha o programa deve receber as dimensões, em\n",
        "centímetros, de largura L e comprimento C da lajota. Por fim, na terceira linha o\n",
        "programa deve receber a quantidade de lajotas disponíveis. O seu programa deve gerar\n",
        "as saídas conforme os exemplos.\n",
        "\n",
        "![image.png](attachment:image.png)"
      ]
    },
    {
      "cell_type": "code",
      "execution_count": 2,
      "metadata": {},
      "outputs": [],
      "source": [
        "import math\n",
        "def quant_lajotas(): \n",
        "    lg_sala,cp_sala=[float(x) for x in input(\"digite a lagura e comprimento da sala em metros separados por espaço\\n\").split()]\n",
        "    area_sala=lg_sala*cp_sala#calculo da area da sala\n",
        "#--------------------------------------------------------------------------------------------------------\n",
        "    lg_lajo,cp_lajo=[float(x) for x in input(\"digite a lagura e comprimento da lajota em  centímetro separados por espaço\\n\").split()]\n",
        "    area_lajo=(lg_lajo*cp_lajo)/10000 #calculo da area da lajota e conversao de cm² para m²\n",
        "    total_lajotas=math.ceil(area_sala/area_lajo)\n",
        "#--------------------------------------------------------------------------------------------------------\n",
        "    quantidade_lajotas=float(input(\"digite a quantidades de lajotas\"))\n",
        "#--------------------------------------------------------------------------------------\n",
        "    if total_lajotas < quantidade_lajotas:\n",
        "        print(\"quantidade de lajotas é suficiente\")\n",
        "    else:\n",
        "        print(\"quantidade de lajotas é insuficiente\")\n",
        "# Finalizado-Alexsandro costa"
      ]
    },
    {
      "cell_type": "code",
      "execution_count": 15,
      "metadata": {},
      "outputs": [
        {
          "name": "stdout",
          "output_type": "stream",
          "text": [
            "quantidade de lajotas é suficiente\n"
          ]
        }
      ],
      "source": [
        "quant_lajotas()"
      ]
    },
    {
      "cell_type": "code",
      "execution_count": 3,
      "metadata": {},
      "outputs": [
        {
          "name": "stdout",
          "output_type": "stream",
          "text": [
            "quantidade de lajotas é insuficiente\n"
          ]
        }
      ],
      "source": [
        "quant_lajotas()"
      ]
    },
    {
      "cell_type": "markdown",
      "metadata": {
        "id": "CLau_ZCtb4rH"
      },
      "source": [
        "--------------------\n",
        "\n"
      ]
    },
    {
      "attachments": {
        "image.png": {
          "image/png": "[encoded data removed]"
        }
      },
      "cell_type": "markdown",
      "metadata": {},
      "source": [
        "49- Escreva um programa para receber três número digitados pelo usuário e informar \n",
        "se a soma dos dois maiores é um número divisível por 7. O seu programa deve gerar as \n",
        "saídas conforme os exemplos.\n",
        "![image.png](attachment:image.png)"
      ]
    },
    {
      "cell_type": "code",
      "execution_count": 91,
      "metadata": {},
      "outputs": [],
      "source": [
        "def maior_e_2ºmaior(x):\n",
        "    maior=max(x)\n",
        "    n=min(x)\n",
        "    segundo_maior=0\n",
        "    for i in x:\n",
        "        if i < maior and i> n:\n",
        "            segundo_maior=i\n",
        "    return maior,segundo_maior\n",
        "def programa():\n",
        "    valores=[float(x) for x in input(\"Digite os valores separado por espaço/n\").split()]\n",
        "    maior_e_2omaior(valores)\n",
        "    soma=maior+segundo_maior\n",
        "    if soma %7 == 0:\n",
        "        print(soma,\"é divisível por 7\")\n",
        "    else:\n",
        "        print(soma,\"ñ é divisível por 7\")\n",
        "\n",
        "\n",
        "    \n"
      ]
    },
    {
      "cell_type": "code",
      "execution_count": 92,
      "metadata": {},
      "outputs": [
        {
          "ename": "TypeError",
          "evalue": "maior_e_2omaior() missing 1 required positional argument: 'x'",
          "output_type": "error",
          "traceback": [
            "\u001b[1;31m---------------------------------------------------------------------------\u001b[0m",
            "\u001b[1;31mTypeError\u001b[0m                                 Traceback (most recent call last)",
            "Cell \u001b[1;32mIn[92], line 1\u001b[0m\n\u001b[1;32m----> 1\u001b[0m programa()\n",
            "Cell \u001b[1;32mIn[91], line 11\u001b[0m, in \u001b[0;36mprograma\u001b[1;34m()\u001b[0m\n\u001b[0;32m      9\u001b[0m \u001b[39mdef\u001b[39;00m \u001b[39mprograma\u001b[39m():\n\u001b[0;32m     10\u001b[0m     valores\u001b[39m=\u001b[39m[\u001b[39mfloat\u001b[39m(x) \u001b[39mfor\u001b[39;00m x \u001b[39min\u001b[39;00m \u001b[39minput\u001b[39m(\u001b[39m\"\u001b[39m\u001b[39mDigite os valores separado por espaço/n\u001b[39m\u001b[39m\"\u001b[39m)\u001b[39m.\u001b[39msplit()]\n\u001b[1;32m---> 11\u001b[0m     maior_e_2omaior()\n\u001b[0;32m     12\u001b[0m     soma\u001b[39m=\u001b[39mmaior\u001b[39m+\u001b[39msegundo_maior\n\u001b[0;32m     13\u001b[0m     \u001b[39mif\u001b[39;00m soma \u001b[39m%\u001b[39m\u001b[39m7\u001b[39m \u001b[39m==\u001b[39m \u001b[39m0\u001b[39m:\n",
            "\u001b[1;31mTypeError\u001b[0m: maior_e_2omaior() missing 1 required positional argument: 'x'"
          ]
        }
      ],
      "source": [
        "programa()"
      ]
    },
    {
      "cell_type": "code",
      "execution_count": null,
      "metadata": {
        "id": "ls0yqvR5YWEz"
      },
      "outputs": [
        {
          "ename": "",
          "evalue": "",
          "output_type": "error",
          "traceback": [
            "\u001b[1;31mRunning cells with 'c:\\Users\\Alexsandro.costa\\AppData\\Local\\Microsoft\\WindowsApps\\python3.11.exe' requires ipykernel package.\n",
            "\u001b[1;31mRun the following command to install 'ipykernel' into the Python environment. \n",
            "\u001b[1;31mCommand: 'c:/Users/Alexsandro.costa/AppData/Local/Microsoft/WindowsApps/python3.11.exe -m pip install ipykernel -U --user --force-reinstall'"
          ]
        }
      ],
      "source": [
        "#Questão 69\n",
        "def pos_dama():\n",
        "  import math as  m\n",
        "  x1,y1,x2,y2=[int(x) for x in input(\"digite od valores\").split()]\n",
        "  quant_mov=0\n",
        "  while (x1!=0 and y1!=0 and x2!=0 and y2!=0 ):\n",
        "    if x1==x2 and y1==y2:#origem igual a destino\n",
        "      quant_mov=0\n",
        "    elif x1==x2 or y1==y2 or (m.fabs(x1-x2)==m.fabs(y1-y2)):#mesma coluna ,linha ou diagonal\n",
        "      quant_mov=1\n",
        "    else:\n",
        "      quant_mov=2\n",
        "    return quant_mov\n",
        "    print(quant_mov)\n",
        "\n"
      ]
    },
    {
      "cell_type": "code",
      "execution_count": null,
      "metadata": {
        "id": "aI0s6NhcZUov"
      },
      "outputs": [
        {
          "ename": "",
          "evalue": "",
          "output_type": "error",
          "traceback": [
            "\u001b[1;31mRunning cells with 'c:\\Users\\Alexsandro.costa\\AppData\\Local\\Microsoft\\WindowsApps\\python3.11.exe' requires ipykernel package.\n",
            "\u001b[1;31mRun the following command to install 'ipykernel' into the Python environment. \n",
            "\u001b[1;31mCommand: 'c:/Users/Alexsandro.costa/AppData/Local/Microsoft/WindowsApps/python3.11.exe -m pip install ipykernel -U --user --force-reinstall'"
          ]
        }
      ],
      "source": [
        "pos_dama()\n"
      ]
    },
    {
      "cell_type": "markdown",
      "metadata": {
        "id": "6Ud07ezaYZpL"
      },
      "source": [
        "\n",
        "\n",
        "---\n",
        "\n",
        "\n",
        "\n"
      ]
    },
    {
      "cell_type": "code",
      "execution_count": null,
      "metadata": {
        "id": "Wgz4jQ-NpoZn"
      },
      "outputs": [
        {
          "ename": "",
          "evalue": "",
          "output_type": "error",
          "traceback": [
            "\u001b[1;31mRunning cells with 'c:\\Users\\Alexsandro.costa\\AppData\\Local\\Microsoft\\WindowsApps\\python3.11.exe' requires ipykernel package.\n",
            "\u001b[1;31mRun the following command to install 'ipykernel' into the Python environment. \n",
            "\u001b[1;31mCommand: 'c:/Users/Alexsandro.costa/AppData/Local/Microsoft/WindowsApps/python3.11.exe -m pip install ipykernel -U --user --force-reinstall'"
          ]
        }
      ],
      "source": [
        "#Questão 73\n",
        "def real_p_dolar(valor_dolar,montante):\n",
        "  conver=valor_dolar*montante\n",
        "  desconte=0\n",
        "  if conver > (valor_dolar*1000):\n",
        "    desconte=conver*(3/100)\n",
        "    conver=conver-desconte\n",
        "  return conver\n",
        "def menu():\n",
        "  v=input(\"deseja continuar\\n\")\n",
        "  return v\n",
        "def programa73():\n",
        "  cont='sim'\n",
        "  while cont =='sim':\n",
        "    valor_dolar=float(input(\"digite a cotaçao atual do dolar\\n\"))\n",
        "    montante=float(input(\"digite o montante que deseja converter\\n\"))\n",
        "    valor_convertido= real_p_dolar(valor_dolar,montante)\n",
        "    valor_convertido='%.2f'% valor_convertido\n",
        "    print(\"o montante convertido é\",valor_convertido)\n",
        "    cont=menu()\n",
        "#Finalizado-Aleexsandro costa\n",
        "  "
      ]
    },
    {
      "cell_type": "markdown",
      "metadata": {
        "id": "C-0y3KR2fdWY"
      },
      "source": [
        "\n",
        "\n",
        "---\n",
        "\n"
      ]
    },
    {
      "cell_type": "code",
      "execution_count": null,
      "metadata": {
        "id": "_rqFtDyubupl"
      },
      "outputs": [
        {
          "ename": "",
          "evalue": "",
          "output_type": "error",
          "traceback": [
            "\u001b[1;31mRunning cells with 'c:\\Users\\Alexsandro.costa\\AppData\\Local\\Microsoft\\WindowsApps\\python3.11.exe' requires ipykernel package.\n",
            "\u001b[1;31mRun the following command to install 'ipykernel' into the Python environment. \n",
            "\u001b[1;31mCommand: 'c:/Users/Alexsandro.costa/AppData/Local/Microsoft/WindowsApps/python3.11.exe -m pip install ipykernel -U --user --force-reinstall'"
          ]
        }
      ],
      "source": [
        "#Questao 86\n",
        "def media_elemetos(v):\n",
        "  soma=0\n",
        "  cont=0\n",
        "  for z in v:\n",
        "    soma=soma+z\n",
        "    cont=cont+1\n",
        "    media=soma/cont\n",
        "  return media\n",
        "def programa86():\n",
        "  v=[int(z) for z in input(\"digite os valores\\n\").split()]\n",
        "  media =media_elemetos(v)\n",
        "  media= str('%.2f'%media )\n",
        "  print(\"A media dos elementos é \",media)\n",
        "  #Finalizado-Alexsandro costa"
      ]
    },
    {
      "cell_type": "markdown",
      "metadata": {
        "id": "rqhukPdoFZh8"
      },
      "source": [
        "\n",
        "\n",
        "---\n",
        "\n"
      ]
    },
    {
      "cell_type": "code",
      "execution_count": null,
      "metadata": {
        "id": "P5lTZXolgOuS"
      },
      "outputs": [
        {
          "ename": "",
          "evalue": "",
          "output_type": "error",
          "traceback": [
            "\u001b[1;31mRunning cells with 'c:\\Users\\Alexsandro.costa\\AppData\\Local\\Microsoft\\WindowsApps\\python3.11.exe' requires ipykernel package.\n",
            "\u001b[1;31mRun the following command to install 'ipykernel' into the Python environment. \n",
            "\u001b[1;31mCommand: 'c:/Users/Alexsandro.costa/AppData/Local/Microsoft/WindowsApps/python3.11.exe -m pip install ipykernel -U --user --force-reinstall'"
          ]
        }
      ],
      "source": [
        "#Questão 91\n",
        "def op_maior_menor(list):\n",
        "  maior=list[0]\n",
        "  menor=list[0]\n",
        "  soma,sub,mult,div=0,0,0,0\n",
        "  N=len(list)\n",
        "  for x in range(N):\n",
        "    if list[x] > maior:\n",
        "      maior=list[x]\n",
        "    if list[x]< menor:\n",
        "      menor=list[x]\n",
        "  soma=maior+menor\n",
        "  sub=maior-menor\n",
        "  mult=maior*menor\n",
        "  div=maior/menor\n",
        "  print(maior,\"+\",menor,\"=\",soma)\n",
        "  print(maior,\"-\",menor,\"=\",sub)\n",
        "  print(maior,\"*\",menor,\"=\",mult)\n",
        "  print(maior,\"/\",menor,\"=\",div)\n",
        "def programa91():\n",
        "  list=[int(x) for x in input(\"digite os elementos\\n\").split()]\n",
        "  print(op_maior_menor(list))\n",
        "  #finalizado-Alexsandro costa"
      ]
    },
    {
      "cell_type": "markdown",
      "metadata": {
        "id": "2GX90tszXiXV"
      },
      "source": [
        "\n",
        "\n",
        "---\n",
        "\n"
      ]
    },
    {
      "cell_type": "code",
      "execution_count": null,
      "metadata": {
        "id": "YE9lj1XCzR-8"
      },
      "outputs": [
        {
          "ename": "",
          "evalue": "",
          "output_type": "error",
          "traceback": [
            "\u001b[1;31mRunning cells with 'c:\\Users\\Alexsandro.costa\\AppData\\Local\\Microsoft\\WindowsApps\\python3.11.exe' requires ipykernel package.\n",
            "\u001b[1;31mRun the following command to install 'ipykernel' into the Python environment. \n",
            "\u001b[1;31mCommand: 'c:/Users/Alexsandro.costa/AppData/Local/Microsoft/WindowsApps/python3.11.exe -m pip install ipykernel -U --user --force-reinstall'"
          ]
        }
      ],
      "source": [
        "#Questão 95\n",
        "def divi_soma_13():\n",
        "  x=int(input(\"digite o primeiro valor\"))\n",
        "  y=int(input(\"digite o segundo valor\"))\n",
        "  soma=0\n",
        "  for i in range(x,y+1):\n",
        "    if i%13 !=0:\n",
        "      soma=soma+i\n",
        "  return soma\n"
      ]
    },
    {
      "cell_type": "code",
      "execution_count": null,
      "metadata": {
        "id": "QZsMnog5vn3J"
      },
      "outputs": [
        {
          "ename": "",
          "evalue": "",
          "output_type": "error",
          "traceback": [
            "\u001b[1;31mRunning cells with 'c:\\Users\\Alexsandro.costa\\AppData\\Local\\Microsoft\\WindowsApps\\python3.11.exe' requires ipykernel package.\n",
            "\u001b[1;31mRun the following command to install 'ipykernel' into the Python environment. \n",
            "\u001b[1;31mCommand: 'c:/Users/Alexsandro.costa/AppData/Local/Microsoft/WindowsApps/python3.11.exe -m pip install ipykernel -U --user --force-reinstall'"
          ]
        }
      ],
      "source": [
        "divi_soma_13()"
      ]
    },
    {
      "cell_type": "markdown",
      "metadata": {
        "id": "Pyu6ukP0wFXZ"
      },
      "source": [
        "\n",
        "\n",
        "---\n",
        "\n"
      ]
    },
    {
      "cell_type": "code",
      "execution_count": null,
      "metadata": {
        "id": "KdU-XGA1wHIo"
      },
      "outputs": [
        {
          "ename": "",
          "evalue": "",
          "output_type": "error",
          "traceback": [
            "\u001b[1;31mRunning cells with 'c:\\Users\\Alexsandro.costa\\AppData\\Local\\Microsoft\\WindowsApps\\python3.11.exe' requires ipykernel package.\n",
            "\u001b[1;31mRun the following command to install 'ipykernel' into the Python environment. \n",
            "\u001b[1;31mCommand: 'c:/Users/Alexsandro.costa/AppData/Local/Microsoft/WindowsApps/python3.11.exe -m pip install ipykernel -U --user --force-reinstall'"
          ]
        }
      ],
      "source": [
        "#Questão 96\n",
        "def resto_5_2_or_3():\n",
        "  x=int(input('digite o primeiro numero\\n'))\n",
        "  y=int(input('digite o degundo numero\\n'))\n",
        "  for z in range(x,y):\n",
        "    if z % 5 == 3 or z % 5==2:\n",
        "      print(z)"
      ]
    },
    {
      "cell_type": "code",
      "execution_count": null,
      "metadata": {
        "id": "nK0VTraWJfPL"
      },
      "outputs": [
        {
          "ename": "",
          "evalue": "",
          "output_type": "error",
          "traceback": [
            "\u001b[1;31mRunning cells with 'c:\\Users\\Alexsandro.costa\\AppData\\Local\\Microsoft\\WindowsApps\\python3.11.exe' requires ipykernel package.\n",
            "\u001b[1;31mRun the following command to install 'ipykernel' into the Python environment. \n",
            "\u001b[1;31mCommand: 'c:/Users/Alexsandro.costa/AppData/Local/Microsoft/WindowsApps/python3.11.exe -m pip install ipykernel -U --user --force-reinstall'"
          ]
        }
      ],
      "source": [
        "resto_5_2_or_3()"
      ]
    },
    {
      "cell_type": "markdown",
      "metadata": {
        "id": "wXbTmNolJ4xz"
      },
      "source": [
        "\n",
        "\n",
        "---\n",
        "\n"
      ]
    }
  ],
  "metadata": {
    "colab": {
      "authorship_tag": "ABX9TyM+xQ8FuBb4HfUYhsZRsDgo",
      "collapsed_sections": [],
      "include_colab_link": true,
      "provenance": []
    },
    "kernelspec": {
      "display_name": ".venv",
      "language": "python",
      "name": "python3"
    },
    "language_info": {
      "codemirror_mode": {
        "name": "ipython",
        "version": 3
      },
      "file_extension": ".py",
      "mimetype": "text/x-python",
      "name": "python",
      "nbconvert_exporter": "python",
      "pygments_lexer": "ipython3",
      "version": "3.11.0 (main, Oct 24 2022, 18:26:48) [MSC v.1933 64 bit (AMD64)]"
    },
    "vscode": {
      "interpreter": {
        "hash": "50117f7f82ec490146c41a14fc3207a17ac6225c010f9690197f81dfc6132d0c"
      }
    }
  },
  "nbformat": 4,
  "nbformat_minor": 0
}
