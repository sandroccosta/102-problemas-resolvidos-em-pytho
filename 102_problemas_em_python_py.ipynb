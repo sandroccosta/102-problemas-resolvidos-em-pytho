{
  "cells": [
    {
      "cell_type": "markdown",
      "metadata": {
        "id": "view-in-github",
        "colab_type": "text"
      },
      "source": [
        "<a href=\"https://colab.research.google.com/github/sandroccosta/102-problemas-resolvidos-em-python/blob/main/102_problemas_em_python_py.ipynb\" target=\"_parent\"><img src=\"https://colab.research.google.com/assets/colab-badge.svg\" alt=\"Open In Colab\"/></a>"
      ]
    },
    {
      "cell_type": "markdown",
      "source": [
        "1- João pretende viajar de carro de Paragominas para Belém e gostaria de sua ajuda para saber o quanto ele irá gastar. Considerando que a distância de Belém para Paragominas\n",
        "é de 312 km, escreva um algoritmo que dado o preço do litro da gasolina e a autonomia\n",
        "do carro em km/l calcule o gasto de João."
      ],
      "metadata": {
        "id": "7ahkNvkYoCja"
      }
    },
    {
      "cell_type": "code",
      "source": [
        "#Questao 01\n",
        "preco_gaso=float(input(\"digite o preço do litro da gasolina\\nR$ \"))\n",
        "auto_car=float(input(\"digite a autonomia de consumo do veículo\\nkm/l \"))\n",
        "Distance=float(input(\"digite a distancia precorrida pelo veículo\\nkm 4\"))\n",
        "total_l_car= Distance/auto_car#calcula o total de litros que o veiculo necessitara para percorre toda a distância\n",
        "total_pago=total_l_car*preco_gaso#calculo do total a ser pago\n",
        "total_pago=\"%.2f\"%total_pago\n",
        "print(\"o gasto total de João sera de R$\",total_pago)\n",
        "#Alexsandro costa"
      ],
      "metadata": {
        "colab": {
          "base_uri": "https://localhost:8080/"
        },
        "id": "7BoHqa6H1JZx",
        "outputId": "1687f564-984c-4e1c-db42-d41daa4d2fed"
      },
      "execution_count": null,
      "outputs": [
        {
          "output_type": "stream",
          "name": "stdout",
          "text": [
            "digite o preço do litro da gasolina\n",
            "R$ 4.1\n",
            "digite a autonomia de consumo do veículo\n",
            "km/l 8.5\n",
            "digite a distancia precorrida pelo veículo\n",
            "km 312\n",
            "o gasto total de João sera de R$ 150.49\n"
          ]
        }
      ]
    },
    {
      "cell_type": "markdown",
      "source": [
        "\n",
        "\n",
        "---\n",
        "\n"
      ],
      "metadata": {
        "id": "3C7kYgSxoJZ4"
      }
    },
    {
      "cell_type": "markdown",
      "source": [
        "2- Mario é um pedreiro e foi contratado para “lajotar” a sala de uma casa. Mario está\n",
        "com dificuldade de informar ao seu cliente a quantidade de lajotas que devem ser\n",
        "compradas e pediu sua ajuda para escrever um algoritmo que, dado a largura e\n",
        "comprimento da sala e a largura e comprimento da lajota, informe a quantidade mínima\n",
        "de lajotas que devem ser compradas. As medidas da sala devem ser informadas em\n",
        "metros e as da lajota em centímetros."
      ],
      "metadata": {
        "id": "P4RJXIlJr8g8"
      }
    },
    {
      "cell_type": "code",
      "source": [
        "##Questão 02\n",
        "import math \n",
        "l_sala=float(input(\"digite a lagura da sala em metros\\n\"))\n",
        "c_sala=float(input(\"digite a comprimento da sala em metros\\n\"))\n",
        "\n",
        "area_sala=l_sala*c_sala#calculo da area da sala\n",
        "\n",
        "l_lajo=float(input(\"digite a lagura da lajota em cm\\n\"))\n",
        "c_lajo=float(input(\"digite a lagura da comprimentoe, cm\\n\"))\n",
        "\n",
        "area_lajo=(l_lajo*c_lajo)/10000 #calculo da area da lajota e conversao de cm² para m²\n",
        "\n",
        "total=area_sala/area_lajo# calculo para saber o total necessario de lajotas\n",
        "total=math.ceil(total)# arredondar para cima\n",
        "\n",
        "print(\"Devem ser compradas\",total,\"lajotas para sala de\",area_sala,\"m²\")\n",
        "#Alexsandro costa"
      ],
      "metadata": {
        "colab": {
          "base_uri": "https://localhost:8080/"
        },
        "id": "gwsYHAUoy9NK",
        "outputId": "81f1d047-e196-4f1b-9ed5-604b358af6c9"
      },
      "execution_count": null,
      "outputs": [
        {
          "output_type": "stream",
          "name": "stdout",
          "text": [
            "digite a lagura da sala em metros\n",
            "9\n",
            "digite a comprimento da sala em metros\n",
            "7\n",
            "digite a lagura da lajota em cm\n",
            "30\n",
            "digite a lagura da comprimentoe, cm\n",
            "14\n",
            "Devem ser compradas 1500 lajotas para sala de 63.0 m²\n"
          ]
        }
      ]
    },
    {
      "cell_type": "markdown",
      "source": [
        "\n",
        "\n",
        "---\n",
        "\n"
      ],
      "metadata": {
        "id": "zAvOYGQaBAsu"
      }
    },
    {
      "cell_type": "markdown",
      "source": [
        "3- Mariazinha está muito contente porque irá viajar pela primeira vez aos Estados\n",
        "Unidos. Para realizar todos os seus passeios e compras, a agencia de turismo informou\n",
        "que Mariazinha precisa levar no mínimo quinze mil dólares. Mariazinha não é muito boa\n",
        "com os números e pediu a sua ajuda para escrever um algoritmo que, dado o valor de\n",
        "um dólar em reais, informe quantos reais Mariazinha deve guardar para a sua viagem."
      ],
      "metadata": {
        "id": "jMSZouuG71ME"
      }
    },
    {
      "cell_type": "code",
      "source": [
        "#Questão 03\n",
        "cota_dolar=float(input(\"Qual a cotação atual do dolar\\nR$\"))\n",
        "valor_dolar=float(input(\"Digite a o valor que deseja converte para real\\n$\"))\n",
        "valor_real=valor_dolar*cota_dolar\n",
        "print(\"Mariazinha deve guarda R$\",valor_real,\"para a viagem\")\n",
        "#Alexsandro costa"
      ],
      "metadata": {
        "id": "p-KcuQyb-1It",
        "colab": {
          "base_uri": "https://localhost:8080/"
        },
        "outputId": "3fa9d5dd-12d9-4dd0-a52c-45f1d5b83fdb"
      },
      "execution_count": null,
      "outputs": [
        {
          "output_type": "stream",
          "name": "stdout",
          "text": [
            "Qual a cotação atual do dolar\n",
            "R$5.35\n",
            "Digite a o valor que deseja converte para real\n",
            "$15000\n",
            "Mariazinha deve guarda R$ 80250.0 para a viagem\n"
          ]
        }
      ]
    },
    {
      "cell_type": "markdown",
      "source": [
        "\n",
        "\n",
        "---\n",
        "\n"
      ],
      "metadata": {
        "id": "sfBPPV2LsCF4"
      }
    },
    {
      "cell_type": "markdown",
      "source": [
        "4- Em sua primeira viagem para os Estados Unidos Mariazinha gastou além do esperado\n",
        "e infelizmente teve que usar o seu cartão de crédito. Ao verificar sua fatura Mariazinha\n",
        "percebeu que a cobrança estava sendo feita em dólar e que, por se tratar de compra\n",
        "internacional, o cartão de crédito cobrou uma taxa de 2% sobre o valor da compra.\n",
        "Mariazinha mais uma vez pediu a sua ajuda para escrever um algoritmo que, dado o\n",
        "valor da fatura e o valor de um dólar, escreva um algoritmo que calcule quanto\n",
        "Mariazinha terá que pagar em reais."
      ],
      "metadata": {
        "id": "PWWIpkPh9bD3"
      }
    },
    {
      "cell_type": "code",
      "source": [
        "#Questão 04\n",
        "c_dolar=float(input(\"Qual a cotação atual do dolar\\nR$\"))\n",
        "fatura=float(input(\"Digite o valor da fatura\\nR$ \"))\n",
        "fatura=fatura+(fatura*0.02)#adição da taxa de 2%\n",
        "total=fatura*c_dolar\n",
        "total=\"%0.2f\"%total#comando para imprimar ate duas casa após a vírgula\n",
        "print(total) \n",
        "#Alexsandro costa"
      ],
      "metadata": {
        "colab": {
          "base_uri": "https://localhost:8080/"
        },
        "id": "GT_0PzOc9agY",
        "outputId": "3fd0ae8e-2140-422f-f7bd-efe95d154f1c"
      },
      "execution_count": null,
      "outputs": [
        {
          "output_type": "stream",
          "name": "stdout",
          "text": [
            "Qual a cotação atual do dolar\n",
            "R$5.35\n",
            "Digite o valor da fatura\n",
            "R$ 1500\n",
            "8185.50\n"
          ]
        }
      ]
    },
    {
      "cell_type": "markdown",
      "source": [
        "\n",
        "\n",
        "---\n",
        "\n"
      ],
      "metadata": {
        "id": "2x4cjdGEAUzZ"
      }
    },
    {
      "cell_type": "markdown",
      "source": [
        "5- Mario é um pedreiro e foi contratado para “lajotar” a sala de uma casa. Mário irá\n",
        "utilizar uma massa especial para a fixação das lajotas. Esta massa é vendida em um tubo\n",
        "e, com um tubo, Mario consegue fixar trinta lajotas. Considerando as medidas de largura\n",
        "e comprimento da sala e largura e comprimento da lajota, Mário gostaria de sua ajuda\n",
        "para escrever um algoritmo que informe a quantidade mínima de tubos que ele irá ter\n",
        "que usar. As medidas da sala devem ser informadas em metros e as da lajota em\n",
        "centímetros"
      ],
      "metadata": {
        "id": "ZikBagA2AWNq"
      }
    },
    {
      "cell_type": "code",
      "source": [
        "#Questão 05\n",
        "import math \n",
        "lg_sala=float(input(\"digite a lagura da sala em metros\\n\"))\n",
        "cp_sala=float(input(\"digite a comprimento da sala em metros\\n\"))\n",
        "\n",
        "area_sala=lg_sala*cp_sala#calculo da area da sala\n",
        "\n",
        "lg_lajo=float(input(\"digite a lagura da lajota em cm\\n\"))\n",
        "cp_lajo=float(input(\"digite a lagura da comprimentoe, cm\\n\"))\n",
        "\n",
        "area_lajo=(lg_lajo*cp_lajo)/10000 #calculo da area da lajota e conversao de cm² para m²\n",
        "\n",
        "total=area_sala/area_lajo# calculo para saber o total necessario de lajotas\n",
        "total=math.ceil(total)# arredondar para cima\n",
        "\n",
        "tubos=total/30\n",
        "tubos=math.ceil(tubos)\n",
        "\n",
        "print(\"será preciso\",tubos,\"tubos\")\n",
        "#Alexsandro costa"
      ],
      "metadata": {
        "id": "GVP3ZYMcAT3L",
        "colab": {
          "base_uri": "https://localhost:8080/"
        },
        "outputId": "50f005a5-e033-451e-985b-051f77edf787"
      },
      "execution_count": null,
      "outputs": [
        {
          "output_type": "stream",
          "name": "stdout",
          "text": [
            "digite a lagura da sala em metros\n",
            "5\n",
            "digite a comprimento da sala em metros\n",
            "9\n",
            "digite a lagura da lajota em cm\n",
            "20\n",
            "digite a lagura da comprimentoe, cm\n",
            "20\n",
            "será preciso 38 tubos\n"
          ]
        }
      ]
    },
    {
      "cell_type": "markdown",
      "source": [
        "\n",
        "\n",
        "---\n",
        "\n"
      ],
      "metadata": {
        "id": "yFZfgVFu9iT3"
      }
    },
    {
      "cell_type": "markdown",
      "source": [
        "\n",
        "6- Gisele é uma menina que gosta muito de fazer compras mas tem muita dificuldade com os números. Na última vez que saiu para fazer compras Gisele observou que havia uma loja com a promoção compre três peças de roupa e pague somente duas. Neste caso, das três peças, Gisele não precisaria pagar a peça de menor valor. Gisele ficou curiosa em saber o quanto ela estaria ganhando de desconto levando em consideração o valor da sua compra. Como você é amigo de Gisele ela pediu a sua ajuda para escrever um algoritmo que, dado o valor total da compra e o valor que ela pagou, **informe qual o\n",
        "desconto que Gisele obteve**. "
      ],
      "metadata": {
        "id": "IR5iFjYIlJ14"
      }
    },
    {
      "cell_type": "code",
      "execution_count": null,
      "metadata": {
        "id": "ZmuC6xYIKx4Y",
        "colab": {
          "base_uri": "https://localhost:8080/"
        },
        "outputId": "bfeaa42b-3e7e-4e31-f032-87ecb5628598"
      },
      "outputs": [
        {
          "output_type": "stream",
          "name": "stdout",
          "text": [
            "Digite o valor total que seria pago\n",
            "R$210\n",
            "Digite o valor a ser pago\n",
            "R$140\n",
            "o desconto a ser pago será de 33 %\n"
          ]
        }
      ],
      "source": [
        "#Questao06\n",
        "valor_total=float(input(\"Digite o valor total que seria pago\\nR$\"))#usuario deve inserir o valor total \n",
        "valor_pago=float(input(\"Digite o valor a ser pago\\nR$\"))#usuario deve inserir o valor que será \n",
        "porcentagem=float(valor_pago*100)/valor_total#nesta linha mostrar qual a porcertangem que sera pagor em relaçao ao valor total\n",
        "desconto=float((100-porcentagem)/100)*100 #nesta linha mostra a porcentagen do desconto\n",
        "desconto=\"%2.f\"%desconto\n",
        "print(\"o desconto a ser pago será de\",desconto,\"%\") \n",
        "#finalizado-Alexsandro costa"
      ]
    },
    {
      "cell_type": "markdown",
      "source": [
        "\n",
        "\n",
        "---\n",
        "\n"
      ],
      "metadata": {
        "id": "QwAXKRu0zI-_"
      }
    },
    {
      "cell_type": "markdown",
      "source": [
        "7- Ricardinho ganhou um porquinho de moedas. Ao conversar com o seu avô, Ricardinho\n",
        "o convenceu a colocar em seu porquinho uma moeda de um real todos os dias da\n",
        "semana. Quando foi falar com a sua avó, Ricardinho a convenceu a colocar dois reais\n",
        "todos os sábados e domingos. Com o seu pai Ricardinho não foi muito feliz, ele falou\n",
        "que iria depositar somente quando possível. Após N semanas Ricardinho quebrou o seu\n",
        "porquinho e observou que possuía X reais. Ricardinho está curioso em saber quantos\n",
        "reais o seu pai depositou. Como você é amigo de Ricardinho, você irá escrever um\n",
        "algoritmo que dado os valores informados diga para Ricardinho quantos reais seu pai\n",
        "depositou em seu porquinho."
      ],
      "metadata": {
        "id": "4YIpkET2jmSh"
      }
    },
    {
      "cell_type": "code",
      "source": [
        "semanas=float(input(\"Digite por quantas semanas foram depositados dinheiro no porquinho\\n\"))\n",
        "valor_total_porquinho=float(input(\"Digite o valor total no cofrinho\\nR$\"))\n",
        "sab_Dom=semanas*2\n",
        "avô_depo=(semanas*7)+(sab_Dom*2)\n",
        "valor_pai_depositou=valor_total_porquinho-avô_depo\n",
        "print(\"o pai de Ricardinho depositou R$\",valor_pai_depositou)\n",
        "#Finalizado Alexsandro costa"
      ],
      "metadata": {
        "colab": {
          "base_uri": "https://localhost:8080/"
        },
        "id": "SJBW_xhEjldq",
        "outputId": "72f55e82-3bda-4c49-c3f3-1f676affbb98"
      },
      "execution_count": null,
      "outputs": [
        {
          "output_type": "stream",
          "name": "stdout",
          "text": [
            "Digite por quantas semanas foram depositados dinheiro no porquinho\n",
            "7\n",
            "Digite o valor total no cofrinho\n",
            "R$98.5\n",
            "o pai de Ricardinho depositou R$ 21.5\n"
          ]
        }
      ]
    },
    {
      "cell_type": "markdown",
      "source": [
        "\n",
        "\n",
        "---\n",
        "\n"
      ],
      "metadata": {
        "id": "f7VzkQ9hmraa"
      }
    },
    {
      "cell_type": "markdown",
      "source": [
        "8- Ricardinho ganhou outro porquinho de moedas. Desta vez, convenceu o seu avô a\n",
        "depositar um real de segunda a sexta, e cinco reais no sábado. Já com a sua avó o acordo\n",
        "de depositar dois reais todos os sábados e domingos foi mantido. Com o seu pai,\n",
        "Ricardinho o convenceu a depositar seis reais a cada semana. Agora Ricardinho quer a\n",
        "sua ajuda para escrever um algoritmo que, dado o número de semanas, informe quantos\n",
        "reais ele vai ter."
      ],
      "metadata": {
        "id": "d6iAEP9Y3yT8"
      }
    },
    {
      "cell_type": "code",
      "source": [
        "semanas=float(input(\"digite o valor total de semanas\\n\"))\n",
        "avô =10 * semanas\n",
        "avó= 4 * semanas\n",
        "pai= 6* semanas\n",
        "total=avô + avó + pai\n",
        "print(\"Ricardinho ira ter R$\",total)\n",
        "#Finalizado Alexsandro costa\n"
      ],
      "metadata": {
        "colab": {
          "base_uri": "https://localhost:8080/"
        },
        "id": "us87HYgU3xtn",
        "outputId": "dce37426-c92d-4f2e-f18b-67c79d5e68b6"
      },
      "execution_count": null,
      "outputs": [
        {
          "output_type": "stream",
          "name": "stdout",
          "text": [
            "digite o valor total de semanas\n",
            "10\n",
            "Ricardinho ira ter R$ 200.0\n"
          ]
        }
      ]
    },
    {
      "cell_type": "markdown",
      "source": [
        "\n",
        "\n",
        "\n",
        "\n",
        "\n",
        "\n",
        "\n",
        "---\n",
        "\n"
      ],
      "metadata": {
        "id": "JLjuWUKZ7zxG"
      }
    },
    {
      "cell_type": "markdown",
      "source": [
        "9- Joaquina é uma menina muito inteligente e que tira boas notas. Conversando com a\n",
        "sua mãe, Joaquina fez a seguinte proposta: “Mãe no meu próximo boletim que tal a\n",
        "senhora me dar, em reais, 30% de cada nota que eu tirar?”. Sua mãe concordou e você\n",
        "terá que ajudar Joaquina escrevendo um algoritmo que receba as notas das disciplinas\n",
        "de Matemática, Português, Inglês, Ciências, História e Geografia e informe quantos reais\n",
        "ela vai ganhar"
      ],
      "metadata": {
        "id": "jRo56NKA8IUx"
      }
    },
    {
      "cell_type": "code",
      "execution_count": null,
      "metadata": {
        "id": "MRmIwKiqhOC-"
      },
      "outputs": [],
      "source": [
        "#Questao09\n",
        "def dindin_nota():\n",
        "  n1,n2,n3,n4,n5,n6=[float(x) for x in input(\"digite as notas separadas por espaço\\n\").split()]#utiliza-se este estilo de input para que o ususario insira os dados e gere automaticamente uma lista que será interada pelo x a parti do laço for . \n",
        "  soma=(n1*0.3)+(n2*0.3)+(n3*0.3)+(n4*0.3)+(n5*0.3)+(n6*0.3)#de acordo com a sequencia que o usuário digite os valores,seram alocados nas variaveis declaradas \n",
        "  soma=\"%.2f\"%soma\n",
        "  print(\"A quantia que joaquina receberá é de R$\",soma)\n",
        "  #FINALIZADO-ALEXSANDRO COSTA"
      ]
    },
    {
      "cell_type": "markdown",
      "source": [
        "\n",
        "\n",
        "---\n",
        "\n"
      ],
      "metadata": {
        "id": "DNmorAsoiteT"
      }
    },
    {
      "cell_type": "markdown",
      "source": [
        "10- Todo equipamento elétrico possui uma potência apresentada em Watts cujo\n",
        "símbolo é W. Normalmente esta informação vem estampada no produto ou na\n",
        "embalagem. Exemplos: lâmpada incandescente=100W, chuveiro=3.600W. Para calcular\n",
        "o consumo de um equipamento multiplique sua potência pelo tempo de funcionamento\n",
        "em horas. Sabe-se que 1kW equivale a 1000W. Considerando as informações prévias,\n",
        "escreva um algoritmo que, dado o valor em reais de 1KW e o consumo mensal de uma\n",
        "casa em Watts, informe quantos reais será cobrado na fatura."
      ],
      "metadata": {
        "id": "78Sgx6h_-IX8"
      }
    },
    {
      "cell_type": "code",
      "source": [
        "valor=float(input(\"DIGITE O VALOR COBRADO POR KW\\nR$\"))\n",
        "consumo=float(input(\"DIGITE O CONDUMO MENSAL EM WATTS\\n\"))/1000\n",
        "total=consumo*valor\n",
        "print(\"Será cobrado R$\",total,\"na Fatura\")\n",
        "#Finalizado Alexsandro costa"
      ],
      "metadata": {
        "colab": {
          "base_uri": "https://localhost:8080/"
        },
        "id": "vyHyBm_E_rKv",
        "outputId": "cd034a4d-e241-4e22-f907-cfb116a3d2f1"
      },
      "execution_count": null,
      "outputs": [
        {
          "output_type": "stream",
          "name": "stdout",
          "text": [
            "DIGITE O VALOR COBRADO POR KW\n",
            "R$1.40\n",
            "DIGITE O CONDUMO MENSAL EM WATTS\n",
            "200000\n",
            "Será cobrado R$ 280.0 na Fatura\n"
          ]
        }
      ]
    },
    {
      "cell_type": "markdown",
      "source": [
        "\n",
        "\n",
        "---\n",
        "\n"
      ],
      "metadata": {
        "id": "QIwjG8U7Au5d"
      }
    },
    {
      "cell_type": "markdown",
      "source": [
        "11- Considerando as informações da questão (10), escreva um algoritmo que, dado o\n",
        "valor em reais de 1kW e o valor da fatura de uma casa, informe quantos Watts foram\n",
        "consumidos. Vale ressaltar que a fatura é cobrada em kW."
      ],
      "metadata": {
        "id": "TckUH2R2AzeM"
      }
    },
    {
      "cell_type": "code",
      "source": [
        "valor=float(input(\"DIGITE O VALOR COBRADO POR KW\\nR$\"))\n",
        "total=float(input(\"DIGITE O VALOR DA FATURA\\nR$\"))\n",
        "consumo=(total/valor)*1000\n",
        "consumo=\"%.0f\"%consumo\n",
        "print(\"foram consumidos\",consumo,\"w\")\n",
        "#Finalido Alexsandro costa"
      ],
      "metadata": {
        "colab": {
          "base_uri": "https://localhost:8080/"
        },
        "id": "Y4s2DjElAyC0",
        "outputId": "1f64b776-5ce8-4f08-a0fe-777308a40e64"
      },
      "execution_count": null,
      "outputs": [
        {
          "output_type": "stream",
          "name": "stdout",
          "text": [
            "DIGITE O VALOR COBRADO POR KW\n",
            "R$1.4\n",
            "DIGITE O VALOR DA FATURA\n",
            "R$280\n",
            "foram consumidos 200000 w\n"
          ]
        }
      ]
    },
    {
      "cell_type": "markdown",
      "source": [
        "\n",
        "\n",
        "---\n",
        "\n"
      ],
      "metadata": {
        "id": "PnIoGGKiJO70"
      }
    },
    {
      "cell_type": "markdown",
      "source": [
        "12- Considerando que uma lâmpada tem 100W de potência, Batista gostaria de saber\n",
        "quantos reais será cobrado se X lâmpadas ficarem acesas oito horas por dia durante N\n",
        "dias. Para ajudar Batista, você deve escrever um algoritmo que, dado o valor de 1kW em\n",
        "reais; a quantidade de X e a quantidade de N, informe quantos reais será cobrado por\n",
        "este consumo.\n"
      ],
      "metadata": {
        "id": "008mIoayJO1b"
      }
    },
    {
      "cell_type": "code",
      "source": [
        "V_watts=float(input(\"Digite o valor em reais de 1 kw\\nR$\"))\n",
        "quant_lamp=int(input(\"digite a quantidade de lâmpadas\\n\"))*100 #multiplica-se por pois cada lampada consome 100 watts\n",
        "dias=float(input(\"Digites a quantidades de dias\\n\"))*8 #mutiplique por 8 o numeros dias para transformar em horas\n",
        "consumo =(quant_lamp * dias)/1000\n",
        "valor= consumo * V_watts\n",
        "print(\"o valor a ser pago será de R$\",valor)\n",
        "#FINALIZADO ALEXSANDRO COSTA"
      ],
      "metadata": {
        "id": "ssn4-YeLJOhE",
        "colab": {
          "base_uri": "https://localhost:8080/"
        },
        "outputId": "d763021a-9416-4929-9364-4143c6376bec"
      },
      "execution_count": null,
      "outputs": [
        {
          "output_type": "stream",
          "name": "stdout",
          "text": [
            "Digite o valor em reais de 1 kw\n",
            "R$1.06\n",
            "digite a quantidade de lâmpadas\n",
            "8\n",
            "Digites a quantidades de dias\n",
            "30\n",
            "o valor a ser pago será de R$ 203.52\n"
          ]
        }
      ]
    },
    {
      "cell_type": "markdown",
      "source": [
        "\n",
        "\n",
        "---\n",
        "\n"
      ],
      "metadata": {
        "id": "grp84TDjYQOE"
      }
    },
    {
      "cell_type": "markdown",
      "source": [
        "13- Joana estava em uma situação difícil e precisou realizar um empréstimo bancário.\n",
        "Joana realizou um empréstimo de X reais e deve pagar este empréstimo em N meses\n",
        "com uma taxa de juros de 8% a.m. Joana pediu a sua ajuda para escrever um algoritmo\n",
        "que calcule o montante que deve ser pago ao banco."
      ],
      "metadata": {
        "id": "G8LWPdk9YSgT"
      }
    },
    {
      "cell_type": "code",
      "execution_count": null,
      "metadata": {
        "id": "sOsxUaZpinBd",
        "colab": {
          "base_uri": "https://localhost:8080/"
        },
        "outputId": "1a8ecbc6-e1a3-4be6-d3cd-96bef32a4ea6"
      },
      "outputs": [
        {
          "output_type": "stream",
          "name": "stdout",
          "text": [
            "digite o valor do emprestado\n",
            "1000\n",
            "digite a quantidade de prestações\n",
            "18\n",
            "o montante a ser pago é de R$ 2440.00'\n"
          ]
        }
      ],
      "source": [
        "#Questão 13\n",
        "valor_empres=float(input(\"digite o valor do emprestado\\n\"))\n",
        "temp=int(input(\"digite a quantidade de prestações\\n\"))\n",
        "Juros=valor_empres * 0.08 * temp #0.8 é a taxa de 8% ao mês : Fomula:J = C × i × t\n",
        "mont=valor_empres+Juros # para saber o montante some o juros eo o valor inicial\n",
        "mont=\"%.2f'\"%mont\n",
        "print(\"o montante a ser pago é de R$\",mont)\n",
        "#Finalizado Alexsandro costa"
      ]
    },
    {
      "cell_type": "markdown",
      "metadata": {
        "id": "qdtbjuWyD4J3"
      },
      "source": [
        "\n",
        "\n",
        "---\n",
        "\n",
        "\n",
        "\n",
        "\n"
      ]
    },
    {
      "cell_type": "markdown",
      "source": [
        "14- Joana melhorou de situação e agora gostaria de realizar uma aplicação de X reais a\n",
        "uma taxa de juros anual de 8%. Desta vez, Joana pediu a sua ajuda para escrever um\n",
        "algoritmo que, dado o valor X da aplicação e a quantidade de dias que o valor ficará\n",
        "aplicado, calcule o montante após os N dias da aplicação."
      ],
      "metadata": {
        "id": "yqb7hygegQsd"
      }
    },
    {
      "cell_type": "code",
      "source": [
        "valor_investido=float(input(\"Digite o valor que será Aplicado\\nR$\"))\n",
        "taxa=float(input(\"qual a taxa de juros Anual\\n\"))/100\n",
        "tempo=float(input(\"digite por quanto tempo o dinheiro ficará aplicado\\n\"))\n",
        "juros=valor_investido*taxa*tempo#Aplicação da famula de juros simples Juros=C*I*T\n",
        "montante=valor_investido+juros\n",
        "print(\"o montante acumulado será de R$\",montante) \n",
        "#FINALIZADO ALEXSANDRO COSTA"
      ],
      "metadata": {
        "id": "qo7N_pyXgblM",
        "colab": {
          "base_uri": "https://localhost:8080/"
        },
        "outputId": "54c2a771-3b3c-4396-d6be-e948651830d5"
      },
      "execution_count": null,
      "outputs": [
        {
          "output_type": "stream",
          "name": "stdout",
          "text": [
            "Digite o valor que será Aplicado\n",
            "R$1000\n",
            "qual a taxa de juros Anual\n",
            "8\n",
            "digite por quanto tempo o dinheiro ficará aplicado\n",
            "18\n",
            "o montante acumulado será de R$ 2440.0\n"
          ]
        }
      ]
    },
    {
      "cell_type": "markdown",
      "source": [
        "\n",
        "\n",
        "---\n",
        "\n"
      ],
      "metadata": {
        "id": "25sfxXKygb6j"
      }
    },
    {
      "cell_type": "markdown",
      "source": [
        "15- Joana ficou tão empolada com suas aplicações que agora gostaria de saber em\n",
        "quantos anos ela consegue triplicar um capital considerando uma taxa anual de x%.\n",
        "Como você já é amigo da Joana, escreva um algoritmo que, dado a taxa anual de x%,\n",
        "informe em quantos anos ela consegue triplicar o capital aplicado. O valor do juros deve\n",
        "ser informado na escala de 0 a 1"
      ],
      "metadata": {
        "id": "IAus7IAOpxJH"
      }
    },
    {
      "cell_type": "code",
      "source": [
        "valor_investido=float(input(\"Digite o valor que será Aplicado\\nR$\"))\n",
        "taxa=float(input(\"qual a taxa de juros Anual\\n\"))\n",
        "montante=valor_investido*3 #Para obter o valor triplicado\n",
        "juros=montante-valor_investido #Para obter a apenas o valor do juros visto que a fomula do montante em juros é m= j+c logo para obter o juros será J=m-C\n",
        "tempo=(juros-valor_investido)/(valor_investido*taxa) # a fomula para obter o tempo de investimento Será M = C + C x i x n fazendo o distribuiçao obteremos a seguinte fórmula J-C/C*I\n",
        "tempo='%.1f'%tempo \n",
        "print('Joana triplicará o valor investido em',tempo,\"Anos\")\n",
        "#FINALIZADO ALEXSANDRO COSTA"
      ],
      "metadata": {
        "id": "_wLvYkGopyCt",
        "colab": {
          "base_uri": "https://localhost:8080/"
        },
        "outputId": "45e6efe2-ee60-4844-80d3-a57636a01a94"
      },
      "execution_count": null,
      "outputs": [
        {
          "output_type": "stream",
          "name": "stdout",
          "text": [
            "Digite o valor que será Aplicado\n",
            "R$7500\n",
            "qual a taxa de juros Anual\n",
            "0.095\n",
            "Joana triplicará o valor investido em 10.5 Anos\n"
          ]
        }
      ]
    },
    {
      "cell_type": "markdown",
      "source": [
        "16- Considerando que a população de uma certa cidade seja estimada, para daqui a X\n",
        "anos, por![image.png](data:image/png;base64,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) . Escreva um algoritmo que, dado o valor de X estime\n",
        "o tamanho da população após X anos."
      ],
      "metadata": {
        "id": "o1RFMS23ONLf"
      }
    },
    {
      "cell_type": "markdown",
      "source": [
        "\n",
        "\n",
        "---\n",
        "\n"
      ],
      "metadata": {
        "id": "fgCP7wIQOLof"
      }
    },
    {
      "cell_type": "code",
      "source": [
        "import math as m #Importação da função math\n",
        "x=float(input(\"digite o tempo em que vc quer o tamanho populacional\\n\"))\n",
        "tamanho=(20-(1/2**x))*1000 #fomula apresentada acima\n",
        "tamanho=m.floor(tamanho) # funçao que retorna o menor inteiro\n",
        "print(\"o tamanho da população em\",x,\"anos sera de\",tamanho)\n",
        "#Finalizado-Alexsandro costa"
      ],
      "metadata": {
        "id": "BZAQqAcm8uq7",
        "colab": {
          "base_uri": "https://localhost:8080/"
        },
        "outputId": "8b275057-8b70-4c4c-a002-e674649a8c53"
      },
      "execution_count": null,
      "outputs": [
        {
          "output_type": "stream",
          "name": "stdout",
          "text": [
            "digite o tempo em que vc quer o tamanho populacional\n",
            "2\n",
            "o tamanho da população em 2.0 anos sera de 19750\n"
          ]
        }
      ]
    },
    {
      "cell_type": "markdown",
      "source": [
        "\n",
        "\n",
        "---\n",
        "\n"
      ],
      "metadata": {
        "id": "hN96Z2awQOog"
      }
    },
    {
      "cell_type": "markdown",
      "source": [
        "17- Seu Pedro é um taxista muito famoso na cidade e gostaria de sua ajuda para reprogramar o seu taxímetro. Considerando que o taxi de seu Pedro cobra R$ 4,50\n",
        "          de bandeirada (valor fixo) mais R$ 0,70 a cada 450 metros (valor variável). Para ajudar o seu Pedro a reprogramar o seu taxímetro, você deve escrever um algoritmo para calcular o valor a ser pago por uma corrida relativa a um percurso de X quilômetros."
      ],
      "metadata": {
        "id": "C0jxYls1QQaP"
      }
    },
    {
      "cell_type": "code",
      "source": [
        "import math as m\n",
        "quilometros_rodados=float(input(\"Digite o total de quilômetros rodados\\n\"))*1000\n",
        "taxa_cobrada=quilometros_rodados/450\n",
        "taxa_cobrada=m.floor(taxa_cobrada)#Aplica-se a função math.floor para se retorna o menor inteiro\n",
        "valor_total=(taxa_cobrada*0.7) + 4.5#o menor inteiro multiplicar por 0.7 pois esses sao os 450 m + a taxa fixa\n",
        "print(\"o valor total da corrida será R$\",valor_total)\n",
        "#FINALIZADO-ALEXSANDRO COSTA"
      ],
      "metadata": {
        "id": "evPeUBQ9-KUH",
        "colab": {
          "base_uri": "https://localhost:8080/"
        },
        "outputId": "7eb70bc3-1d23-4a6d-ca4b-94d2630e767e"
      },
      "execution_count": null,
      "outputs": [
        {
          "output_type": "stream",
          "name": "stdout",
          "text": [
            "Digite o total de quilômetros rodados\n",
            "8.5\n",
            "o valor total da corrida será R$ 17.1\n"
          ]
        }
      ]
    },
    {
      "cell_type": "markdown",
      "source": [
        "\n",
        "\n",
        "---\n",
        "\n"
      ],
      "metadata": {
        "id": "h5oBir7l8vFK"
      }
    },
    {
      "cell_type": "markdown",
      "source": [
        "18- Atevaldo, um exímio vendedor de livros, vende seus livros a um valor de X reais a unidade. Sabendo que o custo de fabricação dos livros corresponde a um valor fixo de R$ 4,00\n",
        " mais\n",
        "  \n",
        "\n",
        "R$ 6,00 por unidade, escreva um algoritmo que determine o lucro líquido de Atevaldo na venda de N livros."
      ],
      "metadata": {
        "id": "26nxVsn1VmGq"
      }
    },
    {
      "cell_type": "code",
      "source": [
        "valor_do_livro=float(input(\"Qual o valor do livro?\\nR$\"))\n",
        "quantidade_de_livros_vendidos=int(input(\"Quantos livros foram vendidos?\\n\"))\n",
        "lucro_liquido=(valor_do_livro * quantidade_de_livros_vendidos)-(quantidade_de_livros_vendidos*6)-4\n",
        "print(\"O lucro líquido será de R$\",lucro_liquido)\n",
        "#FINALIZADO-ALEXSANDRO COSTA"
      ],
      "metadata": {
        "id": "neAlmBNXVkNE",
        "colab": {
          "base_uri": "https://localhost:8080/"
        },
        "outputId": "c725d367-c200-4e75-8930-084a5ac6c269"
      },
      "execution_count": null,
      "outputs": [
        {
          "output_type": "stream",
          "name": "stdout",
          "text": [
            "Qual o valor do livro?\n",
            "R$25\n",
            "Quantos livros foram vendidos?\n",
            "100\n",
            "O lucro líquido será de R$ 1896.0\n"
          ]
        }
      ]
    },
    {
      "cell_type": "markdown",
      "source": [
        "\n",
        "\n",
        "---\n",
        "\n"
      ],
      "metadata": {
        "id": "_kkhRkvjkoEQ"
      }
    },
    {
      "cell_type": "markdown",
      "source": [
        "19- Pablo é um empresário do ramo comercial e está pensando em dar aumento para\n",
        "os seus funcionários levando em consideração o desempenho de cada um em relação\n",
        "às vendas mensais. Pablo deseja que o funcionário tenha um acréscimo salarial de 9,5%\n",
        "em relação a venda mensal realizada por este funcionário. Como Pablo possui muitos\n",
        "funcionários, pediu a sua ajuda para escrever um algoritmo que, dado o salário base e o\n",
        "montante vendido por este funcionário, determine o salário ajustado deste funcionário."
      ],
      "metadata": {
        "id": "oDx4jYwjkqTV"
      }
    },
    {
      "cell_type": "code",
      "source": [
        "salario_funcionario=float(input(\"Qual o salário do funcionário?\\nR$\"))\n",
        "total_vendas=float(input(\"Qual o total de vendas efetuadas pelo funcionário?\\nR$\"))\n",
        "porcentagem_vendas=total_vendas*(9.5/100)\n",
        "aumento=salario_funcionario+porcentagem_vendas\n",
        "print(\"Com o aumento o salário do funcionário será de R$\",aumento)\n",
        "#FINALIZADO-ALEXSANDRO COSTA"
      ],
      "metadata": {
        "colab": {
          "base_uri": "https://localhost:8080/"
        },
        "id": "tjGGtOOhkwPJ",
        "outputId": "a307c600-5fcc-4060-c5ee-8b7591205952"
      },
      "execution_count": null,
      "outputs": [
        {
          "output_type": "stream",
          "name": "stdout",
          "text": [
            "Qual o salário do funcionário?\n",
            "R$850\n",
            "Qual o total de vendas efetuadas pelo funcionário?\n",
            "R$2000\n",
            "Com o aumento o salário do funcionário será de R$ 1040.0\n"
          ]
        }
      ]
    },
    {
      "cell_type": "markdown",
      "source": [
        "\n",
        "\n",
        "---\n",
        "\n"
      ],
      "metadata": {
        "id": "rHY6CS6UkwAd"
      }
    },
    {
      "cell_type": "markdown",
      "source": [
        "20- Pablo está tendo muito sucesso na sua empresa e resolveu aplicar suas economias.\n",
        "Antes de realizar a aplicação, Pablo gostaria da sua ajuda para escrever um algoritmo\n",
        "que, dado o valor a ser aplicado X, e o tempo da aplicação Y em meses, calcule o\n",
        "montante resultante quando aplicado a uma taxa de juros composta de 1,5% ao ano"
      ],
      "metadata": {
        "id": "IRjC68hq88Yt"
      }
    },
    {
      "cell_type": "code",
      "source": [
        "valor_aplicado=float(input(\"Digite o valor que será Aplicado\\nR$\"))\n",
        "tempo_aplicacao=float(input(\"Por quanto meses o valor ficará aplicado\\n\"))/12 #se divide pois a taxa se dar ao ano entao devemos mudar o tempo de meses para anos\n",
        "montante=valor_aplicado*(1+(1.5/100))**tempo_aplicacao #Aplica-se a formula de juros composto M=c+(1+i)^tempo\n",
        "montante=\"%.2f\"%montante\n",
        "print(\"O montando do capital investido será de R$\",montante)"
      ],
      "metadata": {
        "id": "BnrtVltM92K5",
        "colab": {
          "base_uri": "https://localhost:8080/"
        },
        "outputId": "ca93a908-8885-4a02-cf47-dd4b5ac9882c"
      },
      "execution_count": null,
      "outputs": [
        {
          "output_type": "stream",
          "name": "stdout",
          "text": [
            "Digite o valor que será Aplicado\n",
            "R$90000\n",
            "Por quanto meses o valor ficará aplicado\n",
            "90\n",
            "O montando do capital investido será de R$ 100632.40\n"
          ]
        }
      ]
    },
    {
      "cell_type": "markdown",
      "source": [
        "\n",
        "\n",
        "---\n",
        "\n"
      ],
      "metadata": {
        "id": "pXE1HLWE915H"
      }
    },
    {
      "cell_type": "markdown",
      "source": [
        "21- Pablo gostaria de saber em quanto tempo uma aplicação financeira que rende x% a\n",
        "juros compostos necessita para dobrar de valor. Pablo pediu sua ajuda para escrever um\n",
        "algoritmo que, dado o valor x% a juros composto, determine o tempo mínimo de meses\n",
        "para que o montante aplicado seja dobrado. O valor de x deve ser entre 1 a 100.\n"
      ],
      "metadata": {
        "id": "ARnq47I093UG"
      }
    },
    {
      "cell_type": "code",
      "source": [
        "import math as m \n",
        "valor_aplicado=float(input(\"Digite o valor que será Aplicado\\nR$\"))\n",
        "taxa=float(input(\"Digite a taxa de juros\\n\"))/100\n",
        "montante=valor_aplicado*2#pois será o dobro\n",
        "tempo_aplicaçao= m.floor(m.log(montante/valor_aplicado)/m.log(1+taxa))#m.floor para retorna o menor inteiro.\n",
        "print(\"o tempo mínimo para dobra o capital aplicado será de\",tempo_aplicaçao)"
      ],
      "metadata": {
        "colab": {
          "base_uri": "https://localhost:8080/"
        },
        "id": "WCKy0rEV96su",
        "outputId": "adc6a64a-87b4-4259-964d-771ff9a2354e"
      },
      "execution_count": null,
      "outputs": [
        {
          "output_type": "stream",
          "name": "stdout",
          "text": [
            "Digite o valor que será Aplicado\n",
            "R$1000\n",
            "Digite a taxa de juros\n",
            "2\n",
            "o tempo mínimo para dobra o capital aplicado será de 35\n"
          ]
        }
      ]
    },
    {
      "cell_type": "markdown",
      "source": [
        "\n",
        "\n",
        "---\n",
        "\n"
      ],
      "metadata": {
        "id": "CevQydlL97QM"
      }
    },
    {
      "cell_type": "markdown",
      "source": [
        "22- Uma pessoa aplicou a importância de R$ 500,00                                                                                \n",
        "\n",
        " numa instituição bancária que paga juros mensais de x% ao mês no regime de juros compostos. Escreva um algoritmo para determinar quanto tempo após a aplicação o montante será de R$ 3 500,00. O valor de x deve ser entre 1 a 100q"
      ],
      "metadata": {
        "id": "GBospINa-gtV"
      }
    },
    {
      "cell_type": "code",
      "source": [
        "import math as m \n",
        "valor_aplicado=float(input(\"Digite o valor que será Aplicado\\nR$\"))\n",
        "taxa=float(input(\"Digite a taxa de juros\\n\"))/100\n",
        "montante=float(input(\"Digite o valor do montante que deseja alcançar\\nR$\"))\n",
        "tempo_aplicaçao= m.floor(m.log(montante/valor_aplicado)/m.log(1+taxa))#m.floor para retorna o menor inteiro.#aplicação da fomula t=log(m/c)/log(1+i)\n",
        "print(\"o tempo mínimo para alcançar o montante de R$\",montante,\"será de\",tempo_aplicaçao)"
      ],
      "metadata": {
        "id": "E8goH9yq_Pt6",
        "colab": {
          "base_uri": "https://localhost:8080/"
        },
        "outputId": "4725a184-b10a-4e65-b6e2-a4dfaad6efba"
      },
      "execution_count": null,
      "outputs": [
        {
          "output_type": "stream",
          "name": "stdout",
          "text": [
            "Digite o valor que será Aplicado\n",
            "R$500\n",
            "Digite a taxa de juros\n",
            "2\n",
            "Digite o valor do montante que deseja alcançar\n",
            "R$3500\n",
            "o tempo mínimo para alcançar o montante de R$ 3500.0 será de 98\n"
          ]
        }
      ]
    },
    {
      "cell_type": "markdown",
      "source": [
        "\n",
        "\n",
        "---\n",
        "\n"
      ],
      "metadata": {
        "id": "rc7mZg_C_R1t"
      }
    },
    {
      "cell_type": "markdown",
      "source": [
        "23- O banco da Betalândia perdeu seu banco de dados e você foi contratado para\n",
        "escrever um algoritmo que determina qual é a taxa de juros empregada sobre o capital\n",
        "de R$ 8.000,00\n",
        "\n",
        " durante X meses que gerou o montante de R$ 10.145,93."
      ],
      "metadata": {
        "id": "N4raIfxU_Tz9"
      }
    },
    {
      "cell_type": "code",
      "source": [
        "capital=float(input(\"Digite o valor do capital\\nR$\"))\n",
        "montante=float(input(\"Digite o valor do montante\\nR$\"))\n",
        "tempo=float(input(\"Digite por quanto o capital ficou aplicado?\\n\"))\n",
        "taxa=(((montante/capital)**(1/tempo))-1)*100\n",
        "taxa='%.2f'%taxa\n",
        "print(\"vc precisará de um investimente que renda\",taxa,\"%\",\"para atingir o montante de\",montante,\"em\",tempo,\"meses\")"
      ],
      "metadata": {
        "id": "74JFHEUT_j9e",
        "colab": {
          "base_uri": "https://localhost:8080/"
        },
        "outputId": "be0098b0-bd52-465c-a13d-5c0a79b5f8cc"
      },
      "execution_count": null,
      "outputs": [
        {
          "output_type": "stream",
          "name": "stdout",
          "text": [
            "Digite o valor do capital\n",
            "R$8000\n",
            "Digite o valor do montante\n",
            "R$10145.93\n",
            "Digite por quanto o capital ficou aplicado?\n",
            "7\n",
            "vc precisará de um investimente que renda 3.45 % para atingir o montante de 10145.93 em 7.0 meses\n"
          ]
        }
      ]
    },
    {
      "cell_type": "markdown",
      "source": [
        "\n",
        "\n",
        "---\n",
        "\n"
      ],
      "metadata": {
        "id": "HFcaiVvV_jkv"
      }
    },
    {
      "cell_type": "markdown",
      "source": [
        "24- Marcos deseja saber por quanto tempo ele deve aplicar um capital de R$ 1.800,00 a\n",
        "uma taxa de juros de 3% ao mês para que produza um montante de X reais? Para ajudalo,\n",
        "escreva um algoritmo que, dado o valor de X, determine por quanto tempo Marcos\n",
        "deve realizar sua aplicação."
      ],
      "metadata": {
        "id": "k96iyFVKzjrb"
      }
    },
    {
      "cell_type": "code",
      "source": [
        "import math as m\n",
        "capital=float(input(\"digite o valor investido\\n\"))\n",
        "taxa=float(input(\"digite o valor da taxa anual\\n\"))/100\n",
        "montante=float(input(\"digite o valor montante\\n\"))\n",
        "tempo=(m.log10(montante/capital))/(m.log10(1+taxa))#utiliza-se a formula de juros composto para encontrar o tempo t=log(montante/capital)/(log(1+taxa))\n",
        "tempo=m.ceil(tempo)#função para Arredondar o valor\n",
        "print(tempo)\n",
        "#Finalizado-Alexsandro costa"
      ],
      "metadata": {
        "colab": {
          "base_uri": "https://localhost:8080/"
        },
        "id": "Y46Pc-e_GyD-",
        "outputId": "3f16882a-793f-4dba-91e8-acf612b88c86"
      },
      "execution_count": null,
      "outputs": [
        {
          "output_type": "stream",
          "name": "stdout",
          "text": [
            "digite o valor investido\n",
            "1800\n",
            "digite o valor da taxa anual\n",
            "3\n",
            "digite o valor montante\n",
            "5000\n",
            "35\n"
          ]
        }
      ]
    },
    {
      "cell_type": "markdown",
      "source": [
        "\n",
        "\n",
        "---\n",
        "\n"
      ],
      "metadata": {
        "id": "XpQlrAwUGw7n"
      }
    },
    {
      "cell_type": "markdown",
      "source": [
        "25- Faustino aplicou R$ K\n",
        "\n",
        " em um fundo de investimento que rende X% ao ano. Seu\n",
        "objetivo é usar o montante dessa aplicação para comprar uma casa que, na data da\n",
        "aplicação, custava R$ Y e se valoriza à taxa anual de Z%. Nessas condições, escreva um\n",
        "algoritmo que, a partir da data da aplicação, determine quantos anos serão decorridos\n",
        "até que Faustino consiga comprar tal casa. Os valores de X e Z devem estar entre 0 e 1.\n"
      ],
      "metadata": {
        "id": "VDS9Fla7GNvO"
      }
    },
    {
      "cell_type": "code",
      "execution_count": null,
      "metadata": {
        "id": "IvgrZS8UzCqG",
        "colab": {
          "base_uri": "https://localhost:8080/"
        },
        "outputId": "2536c0e0-7f03-48b9-c48b-6c8faf24900d"
      },
      "outputs": [
        {
          "output_type": "stream",
          "name": "stdout",
          "text": [
            "digite o valor investido\n",
            "45\n",
            "digite o valor da taxa anual\n",
            "0.05\n",
            "digite o valor da casa\n",
            "135\n",
            "digite a taxa de valorização anual da casa\n",
            "0.01\n",
            "Serão decorridos 29 anos para comprar a casa\n"
          ]
        }
      ],
      "source": [
        "valor_investido=float(input(\"digite o valor investido\\n\"))\n",
        "taxa=float(input(\"digite o valor da taxa anual\\n\"))\n",
        "valor_casa=float(input(\"digite o valor da casa\\n\"))\n",
        "taxa_casa=float(input(\"digite a taxa de valorização anual da casa\\n\"))\n",
        "tempo=0\n",
        "while True:#enquanto a arfimação a baixo for verdadeira irar executar a operação\n",
        "    montante_valor_investido=int(valor_investido*(1+taxa)**tempo)#juros composto\n",
        "    montante_casa=int(valor_casa*(1+taxa_casa)**tempo)#juros composto\n",
        "    if montante_valor_investido>montante_casa: #condiçao para  interromper a função\n",
        "       print(\"Serão decorridos\",tempo,\"anos para comprar a casa\")\n",
        "       break\n",
        "    tempo+=1#soma-se 1 ao valor do tempo\n",
        "#FINALIZADO-ALEXSANDRO COSTA"
      ]
    },
    {
      "cell_type": "markdown",
      "source": [
        "\n",
        "\n",
        "---\n",
        "\n"
      ],
      "metadata": {
        "id": "N_NP0KUNRRVw"
      }
    },
    {
      "cell_type": "markdown",
      "source": [
        "26- Escreva um programa para ler dois números inteiros e calcular a soma desses\n",
        "números. Imprima X como mostrado abaixo."
      ],
      "metadata": {
        "id": "ZXHEMqPIGNnn"
      }
    },
    {
      "cell_type": "code",
      "source": [
        "primeiro_numero=int(input(\"digite o primeiro número da operação\\n\"))\n",
        "segundo_numero=int(input(\"digite o segundo número da operação\\n\"))\n",
        "soma=primeiro_numero+segundo_numero\n",
        "print(\"x =\",soma)\n",
        "#FINALIZADO-ALEXSANDRO COSTA"
      ],
      "metadata": {
        "colab": {
          "base_uri": "https://localhost:8080/"
        },
        "id": "WcytFkcWRS4j",
        "outputId": "da21c8bf-5df7-48f7-b119-f710fe841142"
      },
      "execution_count": null,
      "outputs": [
        {
          "output_type": "stream",
          "name": "stdout",
          "text": [
            "digite o primeiro número da operação\n",
            "10\n",
            "digite o segundo número da operação\n",
            "9\n",
            "x = 19\n"
          ]
        }
      ]
    },
    {
      "cell_type": "markdown",
      "source": [
        "\n",
        "\n",
        "---\n",
        "\n"
      ],
      "metadata": {
        "id": "iIEir8uKSJGK"
      }
    },
    {
      "cell_type": "markdown",
      "source": [
        "27- Escreva um programa para calcular a área de uma circunferência é definida como\n",
        "![image.png](data:image/png;base64,iVBORw0KGgoAAAANSUhEUgAAAE0AAAARCAYAAACYRSE8AAAE+klEQVRYhe2Xa0xURxiGn10WFrui0sqt1KL+UAElXBRsMWpKU7WiaDUaqya2xHppmnhNg7ZKo0ZRI7Zo8RLUYmuk2lij1gpWiVq0wlIxeBdEFBWQwLLILrDnfP0hNeBlOWk01YTn55zve2fmnZlv5uhERGinBSrlRxKZsiyXgMg+WE8f4l7IcjJSJ+Crbw6Rdh5DkXvHN8r3R+6KIiJ1fy2WII/RsrdWfRRh0OZ+NQcWTSL51ji2b59OgMaslw+FosNJrEjLo0YF0OHiasKrRzhjPpnOB71NgB6fobOZBYBK9Y0SJGgAQe4tZLR4X3tmiYR5uIl3r/mSZ1fbTniJURpy5IvAjtJr9FYpq62RiqI/JWVykHj6TZB9dxytYusup8nYqLGSfsHeql3/lOVohShXSU38g8gpg1Cs1dS+4hVQGm9zu1KlzzuD8fHojFfPd4mfMw6/qkwyT9gexdmLdzFz+gFGpKYzNcjYSqONg6ZS+vMyDvvOY3PkT2TstGBVXsRUtKHWFZG5Zx+5N+twPHF/6fAIGsecif2cTspWmE+h1ZcJkd1waW5z1Fqw0onOni7N/Zzi689+pP/aDKaHdeD6gXRuhk8mxv/hd6emKbXHWZlczbTdo/HK3QuN97HUqWBycZb2bzbnt83my903cOaz3tCbGZvWM/Zt55pNFUdY+PFSrnh1ofhQIf5xsfQyqZSezMCsH0pctD9uwe7onKqo3MnNp8IYQkTYwyIljiLSU35FHxrPpMHugIO/UxaxMaeQLmN6k0QTtpogVl+cTEyzihPTGjibvJxbw5L4rqcB+2UP3HXFWKoFfJyOrBkdvuGxTHGtQXUWpe9Kn05tVglUmzuj1maxyrSZmFN+LNqSynuuBSyO+gXTlG/ZNLc7bavUk3f2EkrHQE5vWcOFujIKsrOp6PY5u/bPJ8RdBxiISDhBfcKzVZ5pWkPxNpb84ErM+gfkZGfTcKMWF7FiqXY4S2uBHu/QUUwO1RCqAWPAEGIC4O7OXKoChxBi1NF04xjZV3yIHeirwTBQGws5m19Dj0EjGRzsjTltC/nEsz9tIX07ON+jLXnq7EWtYM83qdijR2EzZ3McUKsqUaUWS43Wm0Dl5tFN7DhZ7nynufgzfGY8A721HPl6Tp88x1v95/O6Hu7nnKGoQzgR/YxtpwKOcjP5JS5EJUwlNtaTmIBr7ItMZtOh2WwY31mTBjzDtOpTq1l3fgRbc5YT0bwC9qtr+D3NjNWi9SYQ7JZK7pSVOa1pOoMbdRol1YY8sk48IHhlEAYaKDBfoGO/GYS+pm2XWHNzueTow8QoDwCMvaII817FuVMFNI0fjKu2YTz5TlNseZIQ2VWGJ56Xlq8W26VVEmE0yvj1paK8kBdU21QcnCHdTO/LjjKHqFIlG0Z6SfinB6Wm5Jhkmi0iIlJ/cYPEhYbJ7G0lj43TLlnz+oqn9zTJqn/41lSVckkZ6SX+USvkepO2MahKpbQyTanLk3Uf9RY3nV56RH8lJ8sf2qbYCiR1Ul9x0+nEKzBefivR2MNzRGkyS8IAT3kzPFEuNYqI2CVzQYiYunSXgcPmysHiRhERqc9bKsFGN4lLutZi0RUpPbpUor0NYjAGy6z0AmkQERGH5K8cJG4uPvLhgn1yU8O0VEeR6ERe4R92tZ7Kchud/N5AW1V7Przapv1PaLmp23mMdtP+A/8AedTBj7xNtfkAAAAASUVORK5CYII=)'. Considerando que π = 3,14159. Apresente a mensagem \"A =\" seguida do\n",
        "valor da variável, como no exemplo abaixo, com quatro posições após o ponto decimal."
      ],
      "metadata": {
        "id": "m12JuhCxGNgH"
      }
    },
    {
      "cell_type": "code",
      "source": [
        "pi=3.14159\n",
        "raio=float(input(\"digite o valor do raio\\n\"))\n",
        "area=pi*(raio**2)\n",
        "area=\"%.4f\"%area\n",
        "print(\"À area da circuferência será de\",area)\n",
        "#FINALIZADO-ALEXSANDRO COSTA"
      ],
      "metadata": {
        "colab": {
          "base_uri": "https://localhost:8080/"
        },
        "id": "KyhqFJ6wSKUT",
        "outputId": "5a9573d7-4078-468e-8cb8-51199f2dd367"
      },
      "execution_count": null,
      "outputs": [
        {
          "output_type": "stream",
          "name": "stdout",
          "text": [
            "digite o valor do raio\n",
            "2\n",
            "À area da circuferência será de 12.5664\n"
          ]
        }
      ]
    },
    {
      "cell_type": "markdown",
      "source": [
        "\n",
        "\n",
        "---\n",
        "\n"
      ],
      "metadata": {
        "id": "QkkjiX0NTlR5"
      }
    },
    {
      "cell_type": "markdown",
      "source": [
        "28- Escreva um programa para ler dois valores inteiros. Depois disso, calcule o produto\n",
        "entre eles e armazene o resultado em uma variável chamada PROD. Imprima o resultado\n",
        "como no exemplo abaixo."
      ],
      "metadata": {
        "id": "NxeWi2GVGNZz"
      }
    },
    {
      "cell_type": "code",
      "source": [
        "primeiro_nota=int(input(\"digite o primeiro número da operação\\n\"))\n",
        "segundo_numero=int(input(\"digite o segundo número da operação\\n\"))\n",
        "prod=primeiro_numero*segundo_numero\n",
        "print(\"PROD =\",prod)\n",
        "#FINALIZADO-ALEXSANDRO COSTA"
      ],
      "metadata": {
        "colab": {
          "base_uri": "https://localhost:8080/"
        },
        "id": "-FwfBb2gTmRQ",
        "outputId": "a1934202-1a34-47eb-bfb9-68fbe478aeea"
      },
      "execution_count": null,
      "outputs": [
        {
          "output_type": "stream",
          "name": "stdout",
          "text": [
            "digite o primeiro número da operação\n",
            "3\n",
            "digite o segundo número da operação\n",
            "9\n",
            "PROD = 27\n"
          ]
        }
      ]
    },
    {
      "cell_type": "markdown",
      "source": [
        "\n",
        "\n",
        "---\n",
        "\n"
      ],
      "metadata": {
        "id": "PEnrcL09UPRB"
      }
    },
    {
      "cell_type": "markdown",
      "source": [
        "\n",
        "29- Escreva um programa para ler dois números reais correspondentes às notas de um\n",
        "aluno. Depois disso, calcule a média do aluno, considerando que a nota A tem peso 3,5\n",
        "e B tem peso 7,5. Cada nota pode ser de zero a dez, sempre com um dígito após o ponto\n",
        "decimal. De acordo com os exemplos, informe a média do aluno com 5 dígitos após o\n",
        "ponto decimal e com um espaço em branco antes e depois do sinal de igual.\n",
        "\n"
      ],
      "metadata": {
        "id": "jkNRzoVIGNTH"
      }
    },
    {
      "cell_type": "code",
      "source": [
        "primeiro_nota=float(input(\"digite o primeira nota\\n\"))\n",
        "peso_a = 3.5\n",
        "segundo_nota=float(input(\"digite o segunda nota\\n\"))\n",
        "peso_b = 7.5\n",
        "media=((primeiro_nota*peso_a)+(segundo_nota*peso_b))/(peso_a+peso_b)\n",
        "media=\"%.5f\"%media\n",
        "print(\"média =\",media)\n",
        "#FINALIZADO-ALEXSANDRO COSTA"
      ],
      "metadata": {
        "colab": {
          "base_uri": "https://localhost:8080/"
        },
        "id": "h946EvxZUZls",
        "outputId": "0dcf4517-d579-45fe-cf48-5fa4b4dd30c8"
      },
      "execution_count": null,
      "outputs": [
        {
          "output_type": "stream",
          "name": "stdout",
          "text": [
            "digite o primeira nota\n",
            "5.0\n",
            "digite o segunda nota\n",
            "7.1\n",
            "média = 6.43182\n"
          ]
        }
      ]
    },
    {
      "cell_type": "markdown",
      "source": [
        "\n",
        "\n",
        "---\n",
        "\n"
      ],
      "metadata": {
        "id": "ZD4RBKgUWqNm"
      }
    },
    {
      "cell_type": "markdown",
      "source": [
        "30- Escreva um programa para ler três valores (variáveis A, B e C), que são as três notas\n",
        "do aluno. Então, calcule a média, considerando que a nota A tem peso 2, a nota B tem\n",
        "peso 3 e a nota C tem peso 5. Considere que cada nota pode ir de 0 a 10.0, sempre com\n",
        "uma casa decimal. De acordo com os exemplos, informe a média do aluno com uma casa\n",
        "decimal e com um espaço em branco antes e depois do sinal de igual"
      ],
      "metadata": {
        "id": "3-SQkqN9GNMf"
      }
    },
    {
      "cell_type": "code",
      "source": [
        "primeira_nota=float(input(\"digite o primeira nota\\n\"))\n",
        "peso_a = 2\n",
        "\n",
        "segunda_nota=float(input(\"digite o segunda nota\\n\"))\n",
        "peso_b = 3\n",
        "\n",
        "terceira_nota=float(input(\"digite o terceira nota\\n\"))\n",
        "peso_c = 5\n",
        "\n",
        "media=((primeiro_nota*peso_a) + (segundo_nota*peso_b) +  (terceira_nota*peso_c)) / (peso_a+peso_b+peso_c)\n",
        "media=\"%.1f\"%media\n",
        "print(\"A média do Aluno será\",media)\n",
        "#FINALIZADO-ALEXSANDRO COSTA"
      ],
      "metadata": {
        "colab": {
          "base_uri": "https://localhost:8080/"
        },
        "id": "isBzXwBRWtg0",
        "outputId": "38483240-f4cc-42e6-e884-4facc50a01c7"
      },
      "execution_count": null,
      "outputs": [
        {
          "output_type": "stream",
          "name": "stdout",
          "text": [
            "digite o primeira nota\n",
            "5\n",
            "digite o segunda nota\n",
            "10\n",
            "digite o terceira nota\n",
            "10\n",
            "A média do Aluno será 8.1\n"
          ]
        }
      ]
    },
    {
      "cell_type": "markdown",
      "source": [
        "\n",
        "\n",
        "---\n",
        "\n"
      ],
      "metadata": {
        "id": "AfLPX1wXms1v"
      }
    },
    {
      "cell_type": "markdown",
      "source": [
        "31- Escreva um programa para ler quatro valores inteiros denominados A, B, C e D.\n",
        "Calcule e imprima a diferença do produto A e B pelo produto de C e D. Imprima a palavra\n",
        "DIFERENCA com todas as letras maiúsculas, de acordo com os exemplos, com um espaço\n",
        "em branco antes e depois do sinal de igual."
      ],
      "metadata": {
        "id": "EvzoYw-pGNFn"
      }
    },
    {
      "cell_type": "code",
      "source": [
        "A = int(input(\"digite o primeiro número\\n\"))\n",
        "B = int(input(\"digite o segundo número\\n\"))\n",
        "C = int(input(\"digite o terceiro número\\n\"))\n",
        "D = int(input(\"digite o quarto número\\n\"))\n",
        "\n",
        "produto_A_B= A * B\n",
        "produto_C_D= C * D\n",
        "diferença = produto_A_B - produto_C_D\n",
        "print(\"DIFERENÇA =\",diferença)\n",
        "#FINALIZADO-ALEXSANDRO COSTA"
      ],
      "metadata": {
        "colab": {
          "base_uri": "https://localhost:8080/"
        },
        "id": "Mytb4Otimt7Y",
        "outputId": "e312f525-0bfa-4746-9702-e673df40c782"
      },
      "execution_count": null,
      "outputs": [
        {
          "output_type": "stream",
          "name": "stdout",
          "text": [
            "digite o primeiro número\n",
            "5\n",
            "digite o segundo número\n",
            "6\n",
            "digite o terceiro número\n",
            "7\n",
            "digite o quarto número\n",
            "8\n",
            "DIFERENÇA = -26\n"
          ]
        }
      ]
    },
    {
      "cell_type": "markdown",
      "source": [
        "32- Escreva um programa que leia o número de um empregado, seu número de horas\n",
        "trabalhadas em um mês, e a quantia que ele recebeu por hora. Imprima o número do\n",
        "empregado e o salário que ele receberá no final do mês, com duas casas decimais. Seu\n",
        "programa deve gerar a saída conforme os exemplos.\n"
      ],
      "metadata": {
        "id": "wAbqEKeTGM9_"
      }
    },
    {
      "cell_type": "code",
      "source": [
        "número_empregado=int(input(\"Digite o número do empregado\"))\n",
        "\n",
        "horas_trabalhadas=float(input(\"Digite a quantidade de horas trabalhadas\"))\n",
        "\n",
        "quantia_por_hora=float(input(\"Digite o valar que ele recebe por hora trabalhada\"))\n",
        "\n",
        "salario=horas_trabalhadas*quantia_por_hora\n",
        "\n",
        "print(\"number =\",número_empregado)\n",
        "\n",
        "print(\"Salary =\",salario_funcionario)\n",
        "\n",
        "#FINALIZADO-ALEXSANDRO COSTA"
      ],
      "metadata": {
        "id": "YShz_s5lzpU7"
      },
      "execution_count": null,
      "outputs": []
    },
    {
      "cell_type": "markdown",
      "source": [
        "\n",
        "\n",
        "---\n",
        "\n"
      ],
      "metadata": {
        "id": "GwvCxM7azqF7"
      }
    },
    {
      "cell_type": "markdown",
      "source": [
        "33- Escreva um programa que leia o nome de um vendedor, seu salário fixo e o total da\n",
        "venda feito por ele no mês (em dinheiro). Considerando que este vendedor recebe 15%\n",
        "sobre todos os produtos vendidos, calcule o salário total deste vendedor ao final do mês,\n",
        "apresente o resultado com duas casas decimais. Seu programa deve gerar a saída\n",
        "conforme os exemplos."
      ],
      "metadata": {
        "id": "31aVYuKKkmN4"
      }
    },
    {
      "cell_type": "code",
      "source": [
        "nome_vendendor=str(input(\"Digite o nome do vendedor\\nnome:\"))\n",
        "\n",
        "salario_fixo=float(input(\"Digite o salário fixo do vendedor\\nR$\"))\n",
        "\n",
        "vendas=float(input(\"Digite o valor do total de vendas no mês\\nR$\"))\n",
        "\n",
        "salario_total=salario_fixo+(vendas*(15/100))\n",
        "\n",
        "print(\"O salário do vendedor será de R$\",salario_total)\n",
        "#FINALIZADO-ALEXSANDRO COSTA"
      ],
      "metadata": {
        "colab": {
          "base_uri": "https://localhost:8080/"
        },
        "id": "CbDRkTijwgOM",
        "outputId": "653d9853-4337-46b1-c351-e5229d479168"
      },
      "execution_count": null,
      "outputs": [
        {
          "output_type": "stream",
          "name": "stdout",
          "text": [
            "Digite o nome do vendedor\n",
            "nome:Alexsandro\n",
            "Digite o salário fixo do vendedor\n",
            "R$500\n",
            "Digite o valor do total de vendas no mês\n",
            "R$1230.30\n",
            "O salário do vendedor será de R$ 684.545\n"
          ]
        }
      ]
    },
    {
      "cell_type": "markdown",
      "source": [
        "\n",
        "\n",
        "---\n",
        "\n"
      ],
      "metadata": {
        "id": "zad-ZmcTwfWC"
      }
    },
    {
      "cell_type": "markdown",
      "source": [
        "34- Neste problema, a tarefa é ler um código de um produto 1, o número de unidades\n",
        "do produto 1, o preço de uma unidade do produto 1, o código de um produto 2, o\n",
        "número de unidades do produto 2 e o preço para uma unidade do produto 2. Depois\n",
        "disso, calcule e mostre a quantia a ser paga. Seu programa deve ler duas linhas de\n",
        "entrada. Em cada linha o usuário digitará três números. A saída deve exibir uma\n",
        "mensagem como o exemplo a seguir. O valor deve ser apresentado com 2 dígitos após\n",
        "o ponto. Seu programa deve gerar a saída conforme os exemplos.\n",
        "\n",
        "\n",
        "![image.png](data:image/png;base64,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)"
      ],
      "metadata": {
        "id": "yaKkANkpkmJB"
      }
    },
    {
      "cell_type": "code",
      "source": [
        "codigo_prod_1=input(\"Digite o código do Produto 1\\ncódigo:\")\n",
        "unidades_prod_1=float(input(\"Digite número de unidades do Produto 1\\n\"))\n",
        "preço_prod_1=float(input(\"Digite o preço de cada unidade do Produto 1\\nR$\"))\n",
        "\n",
        "\n",
        "codigo_prod_2=input(\"Digite o código do Produto 2\\ncódigo:\")\n",
        "unidades_prod_2=float(input(\"Digite número de unidades do Produto 2\\n\"))\n",
        "preço_prod_2=float(input(\"Digite o preço de cada unidade do Produto 2\\nR$ \"))\n",
        "\n",
        "total_pagar=(unidades_prod_1*preço_prod_1)+(unidades_prod_2*preço_prod_2)\n",
        "\n",
        "print(\"VALOR A PAGAR R$:\",total_pagar)\n",
        "#FINALIZADO-ALEXSANDRO COSTA"
      ],
      "metadata": {
        "colab": {
          "base_uri": "https://localhost:8080/"
        },
        "id": "iTYUZbsI01zB",
        "outputId": "8f47847d-adcc-4af7-b6c1-c8da39da27ae"
      },
      "execution_count": null,
      "outputs": [
        {
          "output_type": "stream",
          "name": "stdout",
          "text": [
            "Digite o código do Produto 1\n",
            "código:12\n",
            "Digite número de unidades do Produto 1\n",
            "1\n",
            "Digite o preço de cada unidade do Produto 1\n",
            "R$5.30\n",
            "Digite o código do Produto 2\n",
            "código:16\n",
            "Digite número de unidades do Produto 2\n",
            "2\n",
            "Digite o preço de cada unidade do Produto 2\n",
            "R$ 5.10\n",
            "VALOR A PAGAR: 15.5\n"
          ]
        }
      ]
    },
    {
      "cell_type": "markdown",
      "source": [
        "\n",
        "\n",
        "---\n",
        "\n"
      ],
      "metadata": {
        "id": "oV0C_Cco5uLj"
      }
    },
    {
      "cell_type": "markdown",
      "source": [
        "35- Escreva um programa que calcule e mostre o volume de uma esfera sendo fornecido\n",
        "o valor de seu raio R. Considere pi igual a 3,14159. A fórmula para calcular o volume é:\n",
        "![image.png](data:image/png;base64,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). A saída deve exibir uma mensagem \"VOLUME\", como nos exemplos, com\n",
        "um espaço antes e depois do sinal igual. O valor deve ser apresentado com 3 dígitos\n",
        "após o ponto decimal."
      ],
      "metadata": {
        "id": "mvDT_4MlkmCI"
      }
    },
    {
      "cell_type": "code",
      "source": [
        "pi=3.14159\n",
        "raio=float(input(\"digite o valor do raio\\n\"))\n",
        "volume= (4/3) * pi* (raio**3)\n",
        "volume=\"%.3f\"%volume\n",
        "print(\"o volume da espera será de\",volume)\n",
        "#FINALIZADO-ALEXSANDRO COSTA"
      ],
      "metadata": {
        "colab": {
          "base_uri": "https://localhost:8080/"
        },
        "id": "wHW_w7nj4C_Z",
        "outputId": "3382d0d2-5a77-4754-96f0-ad3621402dfd"
      },
      "execution_count": null,
      "outputs": [
        {
          "output_type": "stream",
          "name": "stdout",
          "text": [
            "digite o valor do raio\n",
            "3\n",
            "o volume da espera será de 113.097\n"
          ]
        }
      ]
    },
    {
      "cell_type": "markdown",
      "source": [
        "\n",
        "\n",
        "---\n",
        "\n"
      ],
      "metadata": {
        "id": "YFsHav6D4DaW"
      }
    },
    {
      "cell_type": "markdown",
      "source": [
        "36- Escreva um programa que leia três valores de ponto flutuante: A, B e C. Em seguida,\n",
        "calcule e mostre:\n",
        "\n",
        "\n",
        "a) a área do triângulo retângulo que tem base A e altura C.\n",
        "\n",
        "b) a área do círculo do raio C. (pi = 3,14159)\n",
        "\n",
        "c) a área do trapézio que tem A e B por base e C por altura.\n",
        "\n",
        "d) a área da praça que tem lado B.\n",
        "\n",
        "e) a área do retângulo que possui os lados A e B.\n",
        "\n",
        "A saída deve conter 5 linhas de dados. Cada linha corresponde a uma das áreas descritas\n",
        "acima. O valor calculado deve ser apresentado com 3 dígitos após o ponto decimal. Seu\n",
        "programa deve gerar a saída conforme os exemplos."
      ],
      "metadata": {
        "id": "bW0x0CmQkl7x"
      }
    },
    {
      "cell_type": "code",
      "source": [
        "A,B,C=[float(x) for x in input(\"digite os valores\\n\").split()] # input para gerar uma lista\n",
        "\n",
        "area_triangulo = (A*C)/2 #QUESTÃO A\n",
        "area_triangulo = \"%.3f\"%area_triangulo\n",
        "#---------------------------------------------------------------\n",
        "pi= 3.14159\n",
        "area_circulo = pi*(C**2) #Questão B\n",
        "area_circulo = \"%.3f\"%area_circulo\n",
        "#---------------------------------------------------------------\n",
        "area_trapezio = ((A+B)*C)/2 #Questão C\n",
        "area_trapezio = \"%.3f\"%area_trapezio\n",
        "#---------------------------------------------------------------\n",
        "area_quadrado = B**2 #Questão D\n",
        "area_quadrado = \"%.3f\"%area_quadrado \n",
        "#---------------------------------------------------------------\n",
        "area_rentagulo = A * B #Questão E\n",
        "area_rentagulo = \"%.3f\"%area_rentagulo\n",
        "#---------------------------------------------------------------\n",
        "\n",
        "saida = f'''\n",
        "{\"TRIÂNGULO:\":} {area_triangulo}\n",
        "{\"CIRCULO:\":} {area_circulo}\n",
        "{\"TRAPÉZIO:\":} {area_trapezio}\n",
        "{\"QUADRADO:\":} {area_quadrado}\n",
        "{\"RETÃNGULO:\":} {area_rentagulo}\n",
        " '''\n",
        "\n",
        "print(saida)\n"
      ],
      "metadata": {
        "id": "DJkEJAgj6R5X",
        "colab": {
          "base_uri": "https://localhost:8080/"
        },
        "outputId": "b5c5d39a-80b3-4b8c-82f7-66de62836634"
      },
      "execution_count": 3,
      "outputs": [
        {
          "output_type": "stream",
          "name": "stdout",
          "text": [
            "digite od valores\n",
            "3.0 4.0 5.2\n",
            "\n",
            "TRIÂNGULO: 7.800\n",
            "CIRCULO: 84.949\n",
            "TRAPÉZIO: 18.200\n",
            "QUADRADO: 16.000\n",
            "RETÃNGULO: 12.000\n",
            " \n"
          ]
        }
      ]
    },
    {
      "cell_type": "markdown",
      "source": [
        "\n",
        "\n",
        "---\n",
        "\n"
      ],
      "metadata": {
        "id": "7m7Z9uX36T29"
      }
    },
    {
      "cell_type": "markdown",
      "source": [
        "37- Escreva um programa que leia 3 valores inteiros e apresente o maior seguido pela\n",
        "mensagem \"eh o maior\". Seu programa deve gerar a saída conforme os exemplos.\n",
        "\n",
        "\n",
        "![image.png](data:image/png;base64,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)"
      ],
      "metadata": {
        "id": "FLtkh61oklyo"
      }
    },
    {
      "cell_type": "code",
      "source": [
        "valor_1,valor_2,valor_3=[int(x) for x in input(\"digite os valores\\n\").split()] # input para gerar uma lista\n",
        "if valor_1 > valor_2 and valor_1 > valor_3:\n",
        "  print(valor_1,\"eh o maior\")\n",
        "elif valor_2 > valor_1 and valor_2 > valor_3:\n",
        "  print(valor_2,\"eh o maior\")\n",
        "else:\n",
        "  print(valor_3,\"eh o maior\")"
      ],
      "metadata": {
        "colab": {
          "base_uri": "https://localhost:8080/"
        },
        "id": "WSXuhoMBI2fx",
        "outputId": "b6aa0de5-847a-4aa4-dcbc-3533d8d9b5ae"
      },
      "execution_count": 5,
      "outputs": [
        {
          "output_type": "stream",
          "name": "stdout",
          "text": [
            "digite os valores\n",
            "7 14 106\n",
            "106 eh o maior\n"
          ]
        }
      ]
    },
    {
      "cell_type": "markdown",
      "source": [
        "38- Escreva um programa para calcular o consumo médio de um carro fornecendo a\n",
        "distância total percorrida (em Km) e o total de combustível consumido (em litros). Seu\n",
        "programa deve exibir um valor que represente o consumo médio de um carro com 3\n",
        "dígitos após o ponto decimal, seguido da mensagem \"km / l\".\n",
        "\n",
        "![image.png](data:image/png;base64,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)"
      ],
      "metadata": {
        "id": "RHxzxf1nklsw"
      }
    },
    {
      "cell_type": "markdown",
      "source": [
        "\n",
        "\n",
        "---\n",
        "\n"
      ],
      "metadata": {
        "id": "pOb7E3f9I1x_"
      }
    },
    {
      "cell_type": "code",
      "source": [
        "distancia=float(input(\"Digite a distância total percorrida\\n\"))\n",
        "consumo=float(input(\"Digite o consumo total\\n\"))\n",
        "consumo_medio=distancia/consumo\n",
        "consumo_medio=\"%.3f\"%consumo_medio\n",
        "print(consumo_medio,\"KM/L\")"
      ],
      "metadata": {
        "colab": {
          "base_uri": "https://localhost:8080/"
        },
        "id": "s9WUbu0NIvvd",
        "outputId": "52792d31-082d-4b4e-a93a-5a298d4f22c8"
      },
      "execution_count": 7,
      "outputs": [
        {
          "output_type": "stream",
          "name": "stdout",
          "text": [
            "Digite a distância total percorrida\n",
            "500\n",
            "Digite o consumo total\n",
            "35\n",
            "14.286 KM/L\n"
          ]
        }
      ]
    },
    {
      "cell_type": "markdown",
      "source": [
        "\n",
        "\n",
        "---\n",
        "\n"
      ],
      "metadata": {
        "id": "BfRKZ3CYIu98"
      }
    },
    {
      "cell_type": "markdown",
      "source": [
        "39- Dois carros (X e Y) saem na mesma direção. O carro X sai com uma velocidade\n",
        "constante de 60 km/h e o carro Y sai com uma velocidade constante de 90 km/h. Escreva\n",
        "um programa que leia uma distância (em km) e calcule quanto tempo leva (em minutos)\n",
        "para o carro Y estar a essa distância em relação ao carro X. \". Seu programa deve gerar\n",
        "a saída conforme os exemplos."
      ],
      "metadata": {
        "id": "fZpMlzNPklmY"
      }
    },
    {
      "cell_type": "code",
      "source": [],
      "metadata": {
        "id": "2S6hFSMFQ8RH"
      },
      "execution_count": null,
      "outputs": []
    },
    {
      "cell_type": "markdown",
      "source": [
        "\n",
        "\n",
        "---\n",
        "\n"
      ],
      "metadata": {
        "id": "LCStrbdVQ8ip"
      }
    },
    {
      "cell_type": "markdown",
      "source": [
        "40- Escreva um programa para ler um valor inteiro e calcular o menor número possível\n",
        "de notas em que o valor pode ser decomposto. As notas possíveis são 100, 50, 20, 10,\n",
        "5, 2 e 1. Imprima o valor lido e a lista de notas conforme os exemplos."
      ],
      "metadata": {
        "id": "2Ez4H0HVklgo"
      }
    },
    {
      "cell_type": "markdown",
      "source": [
        "41- Escreva um programa para ler um valor inteiro, que é a duração em segundos de um\n",
        "determinado evento em uma fábrica, e informe-o expresso em horas: minutos:\n",
        "segundos conforme os exemplos."
      ],
      "metadata": {
        "id": "Fch-iKwbklaB"
      }
    },
    {
      "cell_type": "markdown",
      "source": [
        "FACULDADE DE COMPUTAÇÃO\n",
        "\n",
        "42- Escreva um programa informar quantos salários mínimos um funcionário recebe. Se\n",
        "o valor do salário do funcionário for menor que um salário mínimo, então o programa\n",
        "deve exibir a mensagem “O seu salário é inferior a um salário mínimo”. Nesse programa,\n",
        "o usuário deve informar o seu nome; o valor do salário mínimo; e o valor do seu salário.\n",
        "O seu programa deve gerar as saídas conforme os exemplos."
      ],
      "metadata": {
        "id": "TIdn2K97klOT"
      }
    },
    {
      "cell_type": "markdown",
      "source": [
        "43- Escreva um programa para ler quatro números inteiros referentes as coordenadas\n",
        "de dois pontos P1(x1,y1) e P2(x2, y2). Programa deve receber dois números por linha.\n",
        "Os valores digitados na primeira linha são referentes as coordenadas x e y do ponto P1\n",
        "e os valores digitados na segunda linha são referentes as coordenadas x e y do ponto\n",
        "P2. O programa deve informar se os dois pontos formam uma reta horizontal. O seu\n",
        "programa deve gerar as saídas conforme os exemplos."
      ],
      "metadata": {
        "id": "LWgcyG81klUY"
      }
    },
    {
      "cell_type": "markdown",
      "source": [
        "44- Escreva um programa para ler quatro números inteiros referentes as coordenadas\n",
        "de dois pontos P1(x1,y1) e P2(x2, y2). Programa deve receber dois números por linha.\n",
        "Os valores digitados na primeira linha são referentes as coordenadas x e y do ponto P1\n",
        "e os valores digitados na segunda linha são referentes as coordenadas x e y do ponto\n",
        "P2. O programa deve informar se os dois pontos, de P1 para P2, formam uma reta\n",
        "crescente. O seu programa deve gerar as saídas conforme os exemplos."
      ],
      "metadata": {
        "id": "ijbVbQYmklHn"
      }
    },
    {
      "cell_type": "markdown",
      "source": [
        "45- Escreva um programa para informar se a senha é igual ao confirmar senha. O seu\n",
        "programa deve gerar as saídas conforme os exemplos."
      ],
      "metadata": {
        "id": "7DUs1L3dklAi"
      }
    },
    {
      "cell_type": "markdown",
      "source": [
        "46- Considerando os pontos P1(x1, y1) e P2(x2, y2) pontos de um retângulo conforme a\n",
        "Figura 4, escreva um programa de computador para decidir se um ponto P(x, y)\n",
        "informado pelo usuário está dentro ou fora do retângulo. Na primeira linha o usuário\n",
        "deve informar quatro números inteiros referentes aos valores de x1, y1, x2 e y2. Na\n",
        "segunda linha o usuário deve informar dois número inteiros referentes aos valores x e y\n",
        "do ponto P. O seu programa deve gerar as saídas conforme os exemplos.\n",
        "\n",
        "\n",
        "\n",
        "\n",
        "\n",
        "\n",
        "![image.png](data:image/png;base64,iVBORw0KGgoAAAANSUhEUgAAAcwAAADZCAYAAACttwAaAAAgAElEQVR4nO3de5zM9f4H8NfMzu5Y7C6rXUYprOS6SSyJrJbFySlkQy5JOm6VdOJUpw5Rp3T8VIoiKyKXtXQUHSuXVbEbRcQuIZe9idiLXXubmffvj5n57szszOx3b7bl9Xw89lFmvpfP9/Z5fT+f72U0IiIgIiIij7Q1XQAiIqLagIFJRESkAgOTiIhIBQYmERGRCgxMIiIiFRiYREREKjAwiYiIVGBgEhERqcDAJCIiUoGBSUREpAIDk4iISAUGJhERkQoMTCIiIhUYmERERCowMImIiFRgYBIREanAwCQiIlKBgUlERKQCA5OIiEgFBiYREZEKDEwiIiIVdDVdACIiKj+j0Yjc3FxoNBqHz728vODr6wsvLy+X4127dg1FRUXw9fWFXq93OcyZM2dQWFiIVq1aQaerXEwYjUbk5+fDZDKhbt268PHxqdT01MwvLy8PWq0Wvr6+SvlFBKdOnYLRaMSdd95ZoeViC5OIqBY6cOAAmjdv7vAXEhKCtm3b4qGHHsLy5ctRUFCgDL9t2zY88sgjCA0NRfPmzdGtWzd88MEHDsMAwM6dO9G6dWtMnDgRZrO5UmWMjY1F79690bp1a7Rs2RI9evTAsmXLKj1dd7755htERESgVatWaNOmDR544AG8++67KC4uBgDMmTMH7dq1w8qVKys2AyEiolrn22+/FQAe/z777DMREcnKypLGjRu7HGbOnDkO0x04cKAAkLlz51aqfBkZGRIQEFBqfl5eXnLy5MlKTduVCxcuSNOmTV0u486dO0VEZPPmzQJA2rVrJ0ajsdzzYAuTiKgWCwgIwNq1axEbG4vVq1dj+PDh0GotVfuSJUsgIvjiiy/w+++/Q6vV4vXXX8cPP/yAiIgIAMD8+fNx7tw5AMBvv/2Gffv2Qa/Xo1evXpUq15o1a5CdnY3OnTsjLi4Oe/fuRY8ePWAymbBixYrKLbQTEcGECROQnp6O1q1bY9euXVi+fDmCgoKUsgBAWFgYWrVqheTkZPz444/lng+vYRIR1WJ6vR6DBw9GnTp1AAAjRoxAeno6vvvuO5w8eRI5OTm4ePEiOnXqhJCQEEyfPh1+fn6YPHkydu7ciZycHGRkZOCOO+7Axo0bkZ2djR49euC+++5zOb+ff/4ZmzZtgpeXF0aOHInWrVvDZDJh8eLF+OOPP6DX6/HMM88gMzMToaGhePnllxEZGQkAePrpp7Fv3z4cP35c1bIVFhZi3bp1OH36NFq0aIEnn3xS+e7UqVNYvXo1/Pz8MHr0aJhMJnTq1AmTJ09Gnz59AAB79+5FdHS0ckLQuHFjzJgxA5MmTcLHH3+Mbt26lW9lV22jmIiIrgdbl2xwcLAUFBQon1+8eFFatmwpAKRJkyZy7do15Tuz2az8/4wZMwSA+Pn5yZkzZ8RkMsnAgQPFy8tLNm/e7Ha+165dk+7duwsAadSokRw+fFhWr14tGo1GgoODZceOHQ7zsf//iRMnCgB55ZVXVC2j2WyWzZs3i4+PjzRs2FDS09OV72bPni0AZNSoUS7HTUtLkzZt2ggAGT9+vPJ5enq6BAUFya233ip5eXmqymHDwCQiqoVsgVmnTh158skn5amnnpKRI0dK8+bNlWt3kyZNcjluXFyc+Pr6Sp06deTDDz8Us9ksWVlZEhwcLP7+/mUGyYkTJ5Trk6GhoRIUFCRarVY2btzodpzVq1eLj4+P1K9fX86cOaN6OY1Go3Tt2lUAyKpVq0REJC8vT+6//37RaDTyzTfflBonLy9PhgwZIgDEx8dH9u3b5/B9hw4dRKfTSUJCgupyiDAwiYhqpbJu+rnrrrskIyOj1HgXL16UO+64QwBIZGSk8vmlS5fE29tbbr/9dikuLi5z/s8//7zD/Lp37+7QmrS3d+9eMRgMAkCioqLKvayvvfaaAJBnnnlGRESOHDki9erVE39/f4cWtM17772nlCs8PLzU9/fff78AkP/973/lKgdv+iEiqsV8fHwwcOBADBo0CIMHD8YTTzyBzz77DPv27UOTJk0chj137hzGjBmDc+fOISQkBEuXLlW+KygoQHFxMerVq1fq2U5XXnzxRTRr1kz59+zZs12Ot3LlSgwYMAAZGRno2LEjFi5cWO5lHDhwILy8vJCYmIj8/HwsWbIEeXl5CA8Ph6+vr8OwmzdvxquvvgoAePDBBxEdHV1qen5+fgCAvLy88hWk3FFPREQ1zv4a5rVr19y27mx27Nght9xyi9L6TEtLc/g+LS1NAEjLli1VtTA3bNggXl5eSkvuscceK/Woxtq1a0Wv1wsA6datm/z+++/lX1CxXMsMDQ0VjUYjX3zxhTJf5y7g3bt3S7169USr1cpbb70lJpPJ5fT69u0rAOS///1vucrBFiYRUS2n0Wg8tgrPnj2LMWPG4I8//oC/vz/mz5+P33//HYcOHcJPP/2Eq1evwtfXFw0aNMDFixdhMpk8zu/MmTN45plnYDKZ0LlzZwQHByMmJgbLly9XhklKSsKzzz6LwsJCtGnTBnPmzEFaWhoOHTqEU6dOAQCKioqwZcsWbN682WNrT6PRYNy4cRARTJ06FSaTCc2aNVMejQGAhIQEjB49Gnl5eXj00UfRv39/HD58GIcOHcKJEycgIsqwly9fhk6nQ3BwcJnr1kGF4p6IiGqUfQszPz/f47CTJ09WWoJarVb0er3y5+PjI7t27RKj0Sjh4eGi0+kkMTHR7bSKiookIiJCAEizZs0kKSlJPvvsMwEgAQEBsm7dOjGbzTJixAhlnj4+Pg7z/Otf/yoiIleuXJGGDRuKXq+XU6dOeVyG1NRU8fPzU6Y5ZcoU5buUlBRp0qSJ2/mFh4crrc3MzExp2rSpNG7cWLKystSubhFhC5OIqFaytQJtr33zZOfOncr/m81mFBYWKn9FRUUoLi6Gl5cXQkJCYDQasW7dOrfT+uKLL7Bz505otVpER0ejbdu2iIqKQvPmzZGdnY1Ro0YhKSkJe/bsUcYpKipymGdhYSEAywsHjEYjtFptmddNDQaDw3OTDzzwgPL/CQkJuHDhgtv52b/+79SpU8jKysLtt9+OgICAMtedPb64gIioFurQoQNiY2Oh1+vh7e3tcdh3330X+fn5br/v1KkTAKB3796Ijo5GXFwccnNzUb9+/VLDtm/fHrGxsahbt67ygoA6derg888/R0ZGBgDL24c+/vhjt2Fuuxmpfv36eP/99/H3v/9duRHHk7p16wIAbr31VnTv3l35PCwsDLGxsW7Ha9SoETQaDUwmE+Lj43Ht2jUMGjSozPk504jYdewSEdFNKysrC6Ghobhw4QK++uor9O/fv1rnV1hYiGnTpuHixYvYuHGjy1Zmbm4ujh49isOHD2PatGkwm81YtmwZxo4dW+75paSkoEePHrh8+TKOHTuGFi1alGt8dskSEREAoEGDBnjppZdQXFyMdevWobrbUyKCli1bIjo62m2XbF5eHh5++GFMmjQJhYWFePrppysUlgCwatUqpKamYvLkyWjevHm5x2cLk4iIFMXFxVizZg1MJhNGjRrl9jczrxcRwZYtW3DhwgV07NgRXbt2dftbn2VNZ+3atcjMzMSoUaPQoEGDck+DgUlERKQCu2SJiIhUYGASERGpwMAkIiJSgYFJRESkAgOTiIhIBQYmERGRCnw1HhERlcvRo0cRFxeH8+fPIzMzEwaDAXfffTcefvhhl6/Tu1EwMImISJWioiK8+eabWLBgAXJzc0t9f/fdd2PixIkYP358jb/woDrwxQVERKTK66+/jtmzZ5c53MyZM/H222+X+QsktQ0Dk4iIypSamor27dsjJyenzGHr1KmDc+fOlf8Hmv/kbrguWREp89fCiYiofN544w1VYQkABQUF2LNnD6Kioqq5VNfXDReYZ8+eRceOHZXfWyMiospLS0sr1/Dp6enVVJKac8MFJgC0bt0aBw8erOliEBHdMF577TW88cYbqodv1apVNZamZtyQz2HysiwRUdV69dVX0bt3b1XDhoWFoW/fvtVcouvvhgxMIiKqWnq9HgsWLICPj4/H4TQaDRYsWHBDPlbCwCQiIlU6deqEJUuWoEWLFqW+02q1GDZsGLZs2YJu3brVQOmq3w33WMmZM2cwdOhQHDp0qKaLQkR0Q8rJyUFCQgLOnDmDV199FfPnz8e9996Ldu3awcvLq6aLV20YmEREVGEhISE4ffp0TRfjumCXLBERkQoMTCIiIhUYmERERCowMImIiFRgYBIREanAwCQiIlKBgUlERKQCA5OIiEgFBiYREZEKDEwiIiIVGJhEREQqMDCJiIhUYGASERGpwMAkIiJSgYFJRESkAgOTiIhIBQYmERGRCgxMIiIiFRiYREREKjAwiYiIVGBgEhERqcDAJCIiUoGBSUREpAIDk4iISAUGJhERkQoMTCIiIhUYmERERCowMImIiFRgYBIREanAwCQiIlKBgUlERKQCA5OIiEgFBiYREZEKDEwiIiIVGJhEREQqMDCJiIhUYGASERGpwMAkIiJSgYFJRESkAgOTiIhIBQYmERGRCgxMIiIiFRiYREREKjAwiYiIVGBgEhERqcDAJCIiUoGBSUREpAIDk4iISAUGJhERkQoMTCIiIhUYmERERCowMImIiFRgYBIREanAwCQiIlKBgUlERKQCA5OIiEgFBiYREZEKDEwiIiIVGJhEREQqMDCJiIhUYGASERGpwMAkIiJSgYFJRESkAgOTiIhIBQYmERGRCgxMIiIiFRiYREREKjAwiYiIVGBgEhERqcDAJCIiUoGBSUREpAIDk4iISAUGJhERkQoMTCIiIhUYmERERCowMImIiFRgYBIREanAwCQiIlKBgUlERKQCA5OIiEgFBiYREZEKN1Rgms1mGI1GiAhMJlNNF4eIiG4gN0xgnjhxAs8//zyGDx+OX3/9FRMmTEB8fDxEpKaLRkRENwCN1PJEuXbtGhYuXIgFCxbg0qVLDt/5+vriqaeewpQpU9C2bdsaKiER0Y0rJCQEp0+fruliXBe1OjBFBFOnTsVHH33kcbj69etjw4YNGDBgwHUqGRHRzeFmCsxa2yVrMpmwePFiLFmypMxhc3NzMWnSJGRlZV2HkhER0Y1IV9MFqKicnBzMmTMHZrNZ1fDnz5/Hu+++i7vuuquaS0ZEdPMoKiqq6SJcN7W2S/by5cu45ZZbaroYREQ3tcDAQFy+fLmmi3Fd1NoWpo+PD0JDQ3HkyBFVw+t0OuzatQthYWHVXDIiopuHRqOp6SJcN7W2hSkiSEhIwF/+8hdkZ2eXOXyfPn2wbds2+Pj4XIfSERHRjabW3vSj0WjQo0cPLFmyBL6+vm6H8/LyQq9evbBy5UqGJRERVVitDUyb4cOHIyEhAQMHDkSjRo2g01l6mQMCAnDvvffiyy+/xJ49e9CsWbMaLikREdVmtbZL1pXTp08jLS0Nubm5aNGiBUJCQtiqJCKiKnFDBSYREVF1qfVdskRERNcDA5OIiEgFBiYREZEK1RqYxcXFMBqN1TmL6664uPimehUUERFZaIcMGYK+ffsqf5GRkXjkkUfwj3/8A3v27EFxcbHLEZcsWYKwsDBs2bKl1HeFhYWYMGEC2rRpg1OnTlVZYRcsWICwsDAcPHiwyqbpTmZmJgYMGICwsDDExsYqny9duhRt27bFO++8U+1lICKiP5FGjRoJAPHy8hK9Xi/e3t4CQACIVquVmTNnitlsFnuHDh2Shg0bCgBZvny5OFuxYoUAkB49eojJZCr1fXnl5+fL/Pnzxc/PTwBIfHx8pafpSVFRkUydOlVZD4sWLVK+S05OlkaNGklAQIAcP368WstBRER/HlrbewAnTpyIxMRE7Nu3D6tWrULTpk1hNpvx4YcfIiMjAwCQkJCAadOmoV+/fsjMzARQ+j2CRUVFmDdvHgBg/Pjx0Gor1+u7Z88ePPTQQ3jxxRdx9erVSk1LjR9++AHDhg3DokWLXH7fpk0bvPDCC8jJyUF0dHS1l4eIiP4clDQLDg5Gp06d0KVLF4wePRpjxowBAFy7dg3nz58HAIwbNw4LFy5EUFCQ25/J2rNnD5KTkxEcHIx+/fq5HObKlSsYPHgwIiIiMGHCBCUI33jjDURERKBv3744dOgQioqKMGrUKHz//fcYN24cWrRoUaGF3L17NyIjIzFo0CCH987m5eXhoYceQt++ffH7778DAJ588kls3boVAwcOhJeXF4DSJwXTp09H06ZNsW7dOuTk5FSoTEREVLsogekcCva/oO3r6wsRgU6nQ0REBL766ivcdtttLidou74YGRmJoKAgl8MEBgbitttuw65duxAdHY3Y2FikpKTgzTffxK5du9CqVSt06NABIgK9Xo8333wTn376KRo3blyhhezVqxeOHDmCrVu3Ijk5Wfn86NGj+Prrr3H+/Hk0aNAAgOVXTWbOnIl//vOfEDfvdPD19UWHDh2QkpKiBC0REd3YlJ/3SkpKQmxsLIqLi5GcnIxt27YBAAwGg/Ie1lWrVqFz584eJ5iYmAgA6NKlC+rUqeN2uJkzZ2L9+vX4448/8N5772H37t0oKChAv379MG/ePHh7e8NkMmHjxo3o1KkTALgNsDIXUqfDgAEDsHLlSmzfvh3du3cHAMTHxwMAHnzwQfj4+EBEsGLFCtxzzz3Yt2+fx2naWrs//fQT7rzzzgqVi4iIag+lhbl+/XpERUXh8ccfx9y5c5GXl4dbbrkFCxcuRGBgIDQaTZlhCQC//fYbvLy8cOedd3r8nbTbb78d7733Hry9vXHkyBGsWrUKgYGB+OCDDxAQEADA8ksjtrCsrPHjxwMANmzYABGBiCAmJgYajQbjxo2DRqNRllHN77vZTiJOnjxZJeUjIqI/N6WF2bNnT/Tq1QtarRZ+fn5o3749+vbt67GV6ExEkJ2dDW9vb/j7+5c5/KhRo3DixAnMnTsXgCXU3F0brayuXbvi7rvvxrFjx/Dzzz/j2LFjSEpKQvPmzXHPPfeUe3q2UL9y5UpVF5WIiP6ElMDs168f/vWvf1VqYhqNBnq9HkVFRap+1Hn79u2YP3++8u9PPvkEY8eORceOHStVDld8fX0xbNgwHD58GJ9++in27duHgoICPP7449Dr9eWeXn5+PgDAz8+vqotKRER/QkqXbEWvDzoLCAiA2Wwus+UlIpg9ezby8/Ph7++PJk2aIDs7Gx988EG551lUVISCggKYTCaPw/Xo0QNarRarVq3CL7/8Ao1GgwcffLDc8wOg3Nl7yy23VGh8IiKqXar81Xjt27cHAKSnp3sM4R07duDAgQMALD8CvWDBAmg0GmzYsAExMTHlCvBHH30UgYGBLt86ZK9r165o0qQJsrKyUFRUhMDAQISFhamej73U1FQAQLt27So0PhER1S5aW6usrNaZM7PZ7PBfmz59+gCw3ER0+fJll+Omp6fj6aefhtFoxIABA/DWW29hxIgRGDJkCLKysvD4449jzZo1queZn5+P/Pz8MkPWz88Pw4cPV/796KOPon79+m6XzzY953UjIjh8+DD8/f0RGhrqcZ5ERHRj0P36668QEdStW7dcI27atAnFxcWlruH99a9/RYMGDXDo0CEkJSXhgQceKDVuo0aNsH//fmg0GjRo0ADe3t4AgM8//1zp6vTx8Sk1XlxcHIxGo3LDjc26devQp08ft8992rMtp+3uWHe6d++uPGPpHKoHDx7EL7/8gqFDh6qaJxER1X66il6Dsz3o7+rzUaNGYdGiRfjiiy9cBqZer0dwcHCpz+vUqePxrtyGDRu6/PzDDz+ETqfz+NjLl19+iRMnTijXSJ977jmPw3t7e7sMw6KiIsycORNGoxEjR45U9QgKERHVfhqpqrt97CQlJSE0NBTNmjXD6dOnK/0+2bIsWrQIgwcPxq233up2mEGDBmHr1q0ALC8d+Pnnn1U9+uIsPj4ekZGRaNWqFQ4fPqy0jomI6MamK3uQ8rvrrrvwyiuvID4+HmfPnkXLli2rYzaKSZMmKe99dad///4oKChA06ZN8eyzz1YoLAEgJSUFXbt2xYQJExiWREQ3kWppYRIREd1oqrevlIiI6AbBwCQiIlKBgUlERKQCA5OIiEgFBiYREZEKDEwiIiIVGJhEREQqMDCJiIhUYGASERGpwMAkIiJS4SYMzEv48e1gaDQat3/eM3cho6aL6YHxh8fQSqOBRtMUTT85DmO5Rt6A+a2cl7kpgl9YiQ2pRdVV5Gpity2bvoLF2eayR3EpD+l7n8QTTTXQaAbhsR+yqrSUlaJsr1ZovyGlBub75z8eqp+7OsPFcWN/fPVfjviK7pL2XB6zGmg0/dHno0Qcs83jajzi5rRHU40GGk1HtH/r+5LvqGrITSlbTnwcIkCUTEnOL/nYdFh2PN9c2sWcF5GLcuCtIAEmyqy04horqVtZi2SGbqhj+csx7kwDBJHRsttkkqvHnpOxBohu/EY5bKpMoYqVaVmmXZlpqWXZlroZOyW9QuMXy9XEkdJTN16mHPlWPukSKOFxl6q4jJVUmW1dGaYdf871USOc64xiD8fNKdkxPVAMS5OlymoO0w6JjtDZHVfpkrw4VAzoIKExZ8UkpyRu4hCZlZQlIulyfG2EhONebrsqdhO2MAHgElJPXgIiByCqtd3vb2rvQrt7uyK8YxCAIHR56SJEPsbsptXyoy6VYETO/k14t/dDjuUvB7mkg2FYD/TUalG/3RN4+EE9jHt+wwlVZ6SpOPByH0w9XmD3WQaOr3oS47f2wqBtu7Gu/qfY8GuB2ylUGfMBfLssEz37hsJQofH3YP3Lm3B68Qy837EXJhy4jN2RFfuN2OpiPB6Phb3+UuFtXVHmXzdh3c9/Q1S3wOs638pxtW9WhULkZOYAIWEIb1UHgM79cZMdh7gPwjGkV/Oq+zko8xVcOWuEPiIU92kBwIA2jwxBPxzFiTOXUIwQRH68CbPbBgAw4K7HXsaYiMNI+PksCquqDHQzdskCMB7ET2uvWQMDAE5j+4B52GDUwzA6BovaXN+Kqfyu4cJvZ+EVaTt4ysd4PB6bjENKDujsROzfVQiEBCKozOll4PhHD6HHgTFOFbgBbcasQsyMYYgKDcfwjd9dn/V49QR+/aWilXoGji95Aa/tfrhqK7cqlYPTPx9B4Mj7rfvq9WJEbsoJfD+9H4YE1JZqwt2+WQXMR3BkRyZ0Qzujp21HcXPcmDOO4UevbtZgraLZn4rHN6fvxX2dmkMPADAi59j3+AYGBDasj1I/bmi+gj++v9NueKoSNd3ErQmm5CkSqXSt5Epa3F8kaGisHLV+X5wYJSGAwL5Lw3RU9i8Ol3BA4PB3r/T8YI3834h6jl28SjdassSO0gsA0c3YKVdSP7UMG/IfiSl2nm64DB0aVHZ3ptuuslOy8+/+ZYxv7VqyDmNKXSPR0wwCPCRRiZkls0iJkZjX24kBEMAgQS/GyZmi/bJxbL2SZbctg6TL8a9GWrpi0UHCI5uLARNl+ecPW9djlExJzpWrSbNkRk+dwDBVZqUUWuajzN9pvRqek3//d7RT926xZG+PEF2Eu3+LSM5uiVtYsp10Yz6UNamFbvYB+/m9LIuyTO7HT5slY5V9IlXSvh9nXd6S/SA87qS1K8zaTVd8UhL+bVmHDl3GZWzzknVikKA5i+TfBoNEJV61jpwuyVunWNYjIDCMlZF70110/f1kt9/FyF5l+0RK+NpkuehhOx81WfalUt2Kbtdtccm2ta2PsRuV40lhvw7X7pZttvmGv2ztSnS/fKbiGPlPiKWMhqXJYsrZIRumGQS2LkmTm32zsmV22F9K6gN3x015LhG4X/fOrMesbR+VXEnbN91S9vAFEnO19Eim5CnSIegdl99Rxd2EgWm7FmFf2RlKXW8wJU+RCN1Llh3UdjAaxsuUY1kikiIH3rzNsgNfOSyfjd4iSf+LEJ1t+FIV+SnZ8extEr52k7w9MkZ2LLYcUJmmw7Lj7wblILYclKXL4syhbA5UBKbtWoiy7JESvnCtLDpqq7As12bG6HQSND1WducUSvr6ziUVUNYimaHrWVKBW5dBqfSurpF3epZca7GUdYYs3fOchD+6Vo5cWSPz9ENkSnK+mFJmyXgDRDdmhezIMSnj6mbslCtJc2X0/w7I9r/721U+zpW4079t49sqRbvpuay8rOtC+b6s8bMWyQz9DFn63+dk5Feb5WPrSYtlGZ+T//znLxKx9rAcX99ZMPYjWf9aVwlfmyA73goqmYbHbW5b962l3b+/k6OmQkld39Vuv7Ltd9YQsd8PS+0LIiI/ycYR9SSwyzMy8qvjkm3bP0L+IzHFJhXb2e66qcd1k2m53h8ZLbtNhZK27WEJXexmH06bJWNxrximvS/vH8tSrqfr5x2Q4rKWz3aiuPZrWRj+rMxKSpEf/213vDjvmx7KnCk56susBNZgGTGsnlJnBE3/xO64Kdmnyr7uW8Yx5m4/HTlGHjfYH7dxsjvHxXY37Zf1nYda6yqqSjdfYDpXkpIi+19v57SDWw8Q2xln2iwZ6xBkzmd8loqopFLcLxtH+zsdyB0laOhCuzM+6zTszxCdD3iXKneTS8mZ8u+SvT1CDM43PtkqFduNDNaTBcv8TJYTAaUCz7VU6D1nySKlFWeppA1Lk8VkK+uY6RL+aIwctgaowbBUdpuKLZWE/fydt411vSln9SmzZLx9Je5QqVvDwOGM2/qZm5aDY6uhrPGtyx4WIe3+naC00EpOwDpIu4+OKKGk6/mwhK89KyaHCrSMbX51jcy7Ty9BbyVap2858dLbrXuDQ4um2PqZmxvTshbJDN0Au+Gt8w/5j2y9omI7253wlbVuLDdOTVZ6Dlyznkj2/L+S6Vi3uX7eD3K5jOWznJiMlPDwZy3zMe2QpYaHlJtwHPdNz2U+qbrM4qLO8DCo25NZOx6PMdfTjFR9A0+K7CpUN0cAAAf4SURBVH+tq0RsT626G45IcdMFZumdr0DSPn3KscIx7ZBlffROgaezVmQFkvb9OMvZoa1ic6jYLXddhtvdTecymJzCoPQB785PsnGEv/VO3vJyCnrrcpWcCNiX9YIkffmSvD2iXkkL0HrnsO3AtgRYR4cD2THUnCutbDn+8V1Ka8ohAExHrd2XtgrTeX1YWxtuumddts49tjAdp1/W+Jfdtd6d71502FecKlCP2zzP6SRMREz7ZUOUwTJ8qbskRcRjC9NFd7VS8W+X8x63s2PLXd26dXXy5Kx0N69yPH69s4zlKyp1wlBy8iVSat+ssjKXJ7AKLCeBHrp2yz7GnDmfnHuSLknv95f+cQzL6nKTBaatNeD5URHHa5wituucyvVLw1iJWpVovd7gVPGmzJXpXQJLnZ07VtouwrGs7kObyjxiUOpM2TnQbI/S2LqcPpJZXyRJTs5+2X2+0Km7yVo5OFXwlq5r+0C2a+E4tAikpDtXub70jszam6Z0t5astwJJXRshD9xbr1QrXz9vuxz8+Hs5ty9KQhBu1zq3VIaGUteYbBy3i+W6tYfxS4WddREc9hXbdrW1Wux7A5xb5+LURWi55liybWyPDVj3Ves1PP28A1Jgm3fKLBlvf+LmtHyO4WQNB91kmZXyR5nbeanBIFHbEuXj3alS4GndfPelzOq83hoQrvZ1O877rq1lNX6jnCv0vHzZ1uUpWVb7ky8p1RXqaXu+um+H+jK7ewTNJTWPk5RxjDlzeaLkSrokf3ifhC4+4mJfoKpSW25/qxq5W7F59TnoZjyGiW4fFcnBqT1x2B7ZG+1T9yD+qvV+8XrBuBK6FDtyTJD0lYgZ3Q3ttQBwDj/GHQCm98Mor/WYPa4p+o9vCK/IZgj4ZC/SMuOw7f2++Nv4HnaPPZiQl5kJY9BVXLxahNykdzH3zXdxKDEYIX7ZSHT7AoEMHF+zxMXjJEbkfNMX3t5TMNvtuHlI37EAq3begdZd77SW5Q506d8VhvjlmL36GC6hHvwb+gOG8ZhyLBkXF4zB3xp/glkhM7E4/ZrymMGQpklYcixXWV8XrxphTluLj/45E//9rRC6Ea2Ao6nI2r8J7/aOwpSuDQBYHlNYe6ULgjISrOvVC/UDbkPo4iO4KILiz2Zgdo+m1jt347Dt/TvQs28H+P0wFU+YpmJEuj963p6N6Pg0mK2Pk9x360Ws0N8KQ8MghOAPnDh/GWZk4MS6RzB6eD4afvQWFnVrUHp1KNO3PI6iDfA0vr/1MZ7nMauv/SMnljtJd0XYHk86hwP/O4SGc5/A1Nt8Sh556azFl/HncdXDNt+d6mOZ5OUsXDJnIXnhk1j4SyEuRdwBnPoNV7WBCGyug+nEeZwwm5GbPBsvjXwTn41chrVTuyLIefmMB/HT4sa4645boEMGTmx5Gi+P8kfvr/+Jf93mXeZ2Xn9pNO4/tRGXWgXB28O6Wd7yJ/x2JA6Lk7IB8xVkXTLBePisy8eTjMfj8Tlao73Bx/KQ/RvjMPy3F/H+nEG4Xed5+fytj2pEDb7bsqzmA/j29Rx0r5uK6GPZTvtmtsft+Y/mx1WX2Zy2Ap+uPgeMHYEpHu/6NiI3aSFWlvk4id7jundUcsy2m9AP4W5r6wwcX/QohmuXYMfkjghCHtK/noSpiVkA8pAWE1ZG3UCq1XRiXx/W1pD9jT7uLrArdxdGllwHUO7A6yDtXl8ps2YttLvYb22lKRfh0yz/tt4gVJwYJXr9vFLzMqW+Ly/11Fmn+bUkJb0qYxEiQSPWuD6TVO4wdFV+55aNu2WyjR9S0qVre4mBbZpXDlrvPoS1bKuty2qbR09p9/o3ctRUehkOZG2TZX30EtjlZZmbkuXYAlC2Qcl6td30A8NYiVqxSmbN+qrkJgZbucJnypStyXLV+m+l6yptlmV9Df3I2jpOV+5QRanWqjNX3d+exre0CuxbP7Zt79CicG5BWa99W27sMJWxzQtLejEMY2Xk3lTJdOiCdLqr06GXozTnu4BLrQ/lLlPn7WzrOQiXdh/ut7ZW3K+bUncbO9zxas/5ZrsO0u71GIlR9lfPy+fY/Wq3bl+Mk6MmU6l9s/JlrkidYRs23PN9CG7XvadpwsX+Z1lOS0+E013mSovUvmehjGu1VCaNiEj1RnLtZk5biyVPROO7OauwuvsVJC7agOP1LuD4shVY8fAeHHupW+mzeypDHtITXsNzrzTFo6ufw3DZjEXLjiGo0R4sea4eghJXI8ZVq7DKnMbOF8Iwpu1enH+6zZ/0+cvKyMGvSzqj/emlOP/OgxV7oUNVM+/Esm6P4fM3T/zpXgxBpNbN1SVbbpdwcNU0TDGFoXXDutBq26PHs7MxPioKYV0YkxVm/BqfD/sA397TAgZ/HbS3ReHZ2a9iUN/euCcor3rmad6JZV0boc/2NKTvfQMv7Hwbq0a0vgHDEpV/+1E1qJ1vDSJyUtNN3D87x4eLbV04M2XKZwluu8OoLLmStneWvD3C7kFz6w0Qc793141aSUq3ukGCpq+w6wq8kTh3I5bRNXhdOHUtuu3WJPrzY5csERGRCuySJSIiUoGBSUREpAIDk4iISAUGJhERkQoMTCIiIhUYmERERCowMImIiFRgYBIREanAwCQiIlKBgUlERKQCA5OIiEgFBiYREZEKDEwiIiIVGJhEREQqMDCJiIhUYGASERGpwMAkIiJSgYFJRESkAgOTiIhIhf8HWajo5zspDMgAAAAASUVORK5CYII=)"
      ],
      "metadata": {
        "id": "NtJJHPw2kk54"
      }
    },
    {
      "cell_type": "markdown",
      "source": [
        "47- Escreva um programa que receba dois números inteiros digitados pelo usuário e\n",
        "informe se o maior número é ímpar. O seu programa deve gerar as saídas conforme os\n",
        "exemplos."
      ],
      "metadata": {
        "id": "PhngB0nwkkqd"
      }
    },
    {
      "cell_type": "markdown",
      "source": [
        "48- Escreva um programa de computador para decidir se a quantidade de lajotas\n",
        "disponíveis é suficiente para lajotar a sala de uma casa. Na primeira linha o programa\n",
        "deve receber dois números inteiros referentes as dimensões, em metros, de largura L e\n",
        "comprimento C da sala. Na segunda linha o programa deve receber as dimensões, em\n",
        "centímetros, de largura L e comprimento C da lajota. Por fim, na terceira linha o\n",
        "programa deve receber a quantidade de lajotas disponíveis. O seu programa deve gerar\n",
        "as saídas conforme os exemplos."
      ],
      "metadata": {
        "id": "DeKQODP7kkyQ"
      }
    },
    {
      "cell_type": "markdown",
      "metadata": {
        "id": "jI7B8_-ZYLJc"
      },
      "source": [
        "\n",
        "\n",
        "---\n",
        "\n"
      ]
    },
    {
      "cell_type": "code",
      "execution_count": null,
      "metadata": {
        "id": "ak0qEQ7hX5zB"
      },
      "outputs": [],
      "source": [
        "#Questão 40\n",
        "def menor_nume_notas(valor):\n",
        "  cen=int(valor/100)  \n",
        "  valor=valor-(cen*100)\n",
        "\n",
        "  ciquen=int(valor/50)\n",
        "  valor=valor-(ciquen*50)\n",
        "\n",
        "  vinte = int(valor/20)\n",
        "  valor=valor-(vinte*20)\n",
        "\n",
        "  dez=int(valor/10)\n",
        "  valor=valor-(dez*10)\n",
        "\n",
        "  cinco=int(valor/5)\n",
        "  valor=valor-(cinco*5)\n",
        "\n",
        "  dois=int(valor/2)\n",
        "  valor=valor-(dois*2)\n",
        "\n",
        "  um=int(valor/1)\n",
        "  valor=valor-(um*1)\n",
        "  print(cen,'nota(s) de R$ 100,00')\n",
        "  print(ciquen,'nota(s) de R$ 50,00')\n",
        "  print(vinte,'nota(s) de R$ 20,00')\n",
        "  print(dez,'nota(s) de R$ 10,00')\n",
        "  print(cinco,'nota(s) de R$ 5,00')\n",
        "  print(dois,'nota(s) de R$ 2,00')\n",
        "  print(um,'nota(s) de R$ 1,00')\n",
        "  print(\"----------------------------------------------------\")\n",
        "def menu():\n",
        "  n=input(\"vc deseja continuar\\n\")\n",
        "  return n\n",
        "def programa40():\n",
        "  s=\"sim\"\n",
        "  while s =='sim':\n",
        "    valor=int(input('digite o valor\\n'))\n",
        "    divisao=menor_nume_notas(valor)\n",
        "    print(divisao)\n",
        "    s=menu()\n",
        "#finalizado-Alexsandro costa"
      ]
    },
    {
      "cell_type": "markdown",
      "metadata": {
        "id": "CLau_ZCtb4rH"
      },
      "source": [
        "--------------------\n",
        "\n"
      ]
    },
    {
      "cell_type": "code",
      "execution_count": null,
      "metadata": {
        "id": "ls0yqvR5YWEz"
      },
      "outputs": [],
      "source": [
        "#Questão 69\n",
        "def pos_dama():\n",
        "  import math as  m\n",
        "  x1,y1,x2,y2=[int(x) for x in input(\"digite od valores\").split()]\n",
        "  quant_mov=0\n",
        "  while (x1!=0 and y1!=0 and x2!=0 and y2!=0 ):\n",
        "    if x1==x2 and y1==y2:#origem igual a destino\n",
        "      quant_mov=0\n",
        "    elif x1==x2 or y1==y2 or (m.fabs(x1-x2)==m.fabs(y1-y2)):#mesma coluna ,linha ou diagonal\n",
        "      quant_mov=1\n",
        "    else:\n",
        "      quant_mov=2\n",
        "    return quant_mov\n",
        "    print(quant_mov)\n",
        "\n"
      ]
    },
    {
      "cell_type": "code",
      "execution_count": null,
      "metadata": {
        "id": "aI0s6NhcZUov"
      },
      "outputs": [],
      "source": [
        "pos_dama()\n"
      ]
    },
    {
      "cell_type": "markdown",
      "metadata": {
        "id": "6Ud07ezaYZpL"
      },
      "source": [
        "\n",
        "\n",
        "---\n",
        "\n",
        "\n",
        "\n"
      ]
    },
    {
      "cell_type": "code",
      "execution_count": null,
      "metadata": {
        "id": "Wgz4jQ-NpoZn"
      },
      "outputs": [],
      "source": [
        "#Questão 73\n",
        "def real_p_dolar(valor_dolar,montante):\n",
        "  conver=valor_dolar*montante\n",
        "  desconte=0\n",
        "  if conver > (valor_dolar*1000):\n",
        "    desconte=conver*(3/100)\n",
        "    conver=conver-desconte\n",
        "  return conver\n",
        "def menu():\n",
        "  v=input(\"deseja continuar\\n\")\n",
        "  return v\n",
        "def programa73():\n",
        "  cont='sim'\n",
        "  while cont =='sim':\n",
        "    valor_dolar=float(input(\"digite a cotaçao atual do dolar\\n\"))\n",
        "    montante=float(input(\"digite o montante que deseja converter\\n\"))\n",
        "    valor_convertido= real_p_dolar(valor_dolar,montante)\n",
        "    valor_convertido='%.2f'% valor_convertido\n",
        "    print(\"o montante convertido é\",valor_convertido)\n",
        "    cont=menu()\n",
        "#Finalizado-Aleexsandro costa\n",
        "  "
      ]
    },
    {
      "cell_type": "markdown",
      "metadata": {
        "id": "C-0y3KR2fdWY"
      },
      "source": [
        "\n",
        "\n",
        "---\n",
        "\n"
      ]
    },
    {
      "cell_type": "code",
      "execution_count": null,
      "metadata": {
        "id": "_rqFtDyubupl"
      },
      "outputs": [],
      "source": [
        "#Questao 86\n",
        "def media_elemetos(v):\n",
        "  soma=0\n",
        "  cont=0\n",
        "  for z in v:\n",
        "    soma=soma+z\n",
        "    cont=cont+1\n",
        "    media=soma/cont\n",
        "  return media\n",
        "def programa86():\n",
        "  v=[int(z) for z in input(\"digite os valores\\n\").split()]\n",
        "  media =media_elemetos(v)\n",
        "  media= str('%.2f'%media )\n",
        "  print(\"A media dos elementos é \",media)\n",
        "  #Finalizado-Alexsandro costa"
      ]
    },
    {
      "cell_type": "markdown",
      "metadata": {
        "id": "rqhukPdoFZh8"
      },
      "source": [
        "\n",
        "\n",
        "---\n",
        "\n"
      ]
    },
    {
      "cell_type": "code",
      "execution_count": null,
      "metadata": {
        "id": "P5lTZXolgOuS"
      },
      "outputs": [],
      "source": [
        "#Questão 91\n",
        "def op_maior_menor(list):\n",
        "  maior=list[0]\n",
        "  menor=list[0]\n",
        "  soma,sub,mult,div=0,0,0,0\n",
        "  N=len(list)\n",
        "  for x in range(N):\n",
        "    if list[x] > maior:\n",
        "      maior=list[x]\n",
        "    if list[x]< menor:\n",
        "      menor=list[x]\n",
        "  soma=maior+menor\n",
        "  sub=maior-menor\n",
        "  mult=maior*menor\n",
        "  div=maior/menor\n",
        "  print(maior,\"+\",menor,\"=\",soma)\n",
        "  print(maior,\"-\",menor,\"=\",sub)\n",
        "  print(maior,\"*\",menor,\"=\",mult)\n",
        "  print(maior,\"/\",menor,\"=\",div)\n",
        "def programa91():\n",
        "  list=[int(x) for x in input(\"digite os elementos\\n\").split()]\n",
        "  print(op_maior_menor(list))\n",
        "  #finalizado-Alexsandro costa"
      ]
    },
    {
      "cell_type": "markdown",
      "metadata": {
        "id": "2GX90tszXiXV"
      },
      "source": [
        "\n",
        "\n",
        "---\n",
        "\n"
      ]
    },
    {
      "cell_type": "code",
      "source": [
        "#Questão 95\n",
        "def divi_soma_13():\n",
        "  x=int(input(\"digite o primeiro valor\"))\n",
        "  y=int(input(\"digite o segundo valor\"))\n",
        "  soma=0\n",
        "  for i in range(x,y+1):\n",
        "    if i%13 !=0:\n",
        "      soma=soma+i\n",
        "  return soma\n"
      ],
      "metadata": {
        "id": "YE9lj1XCzR-8"
      },
      "execution_count": null,
      "outputs": []
    },
    {
      "cell_type": "code",
      "source": [
        "divi_soma_13()"
      ],
      "metadata": {
        "id": "QZsMnog5vn3J"
      },
      "execution_count": null,
      "outputs": []
    },
    {
      "cell_type": "markdown",
      "source": [
        "\n",
        "\n",
        "---\n",
        "\n"
      ],
      "metadata": {
        "id": "Pyu6ukP0wFXZ"
      }
    },
    {
      "cell_type": "code",
      "source": [
        "#Questão 96\n",
        "def resto_5_2_or_3():\n",
        "  x=int(input('digite o primeiro numero\\n'))\n",
        "  y=int(input('digite o degundo numero\\n'))\n",
        "  for z in range(x,y):\n",
        "    if z % 5 == 3 or z % 5==2:\n",
        "      print(z)"
      ],
      "metadata": {
        "id": "KdU-XGA1wHIo"
      },
      "execution_count": null,
      "outputs": []
    },
    {
      "cell_type": "code",
      "source": [
        "resto_5_2_or_3()"
      ],
      "metadata": {
        "id": "nK0VTraWJfPL"
      },
      "execution_count": null,
      "outputs": []
    },
    {
      "cell_type": "markdown",
      "source": [
        "\n",
        "\n",
        "---\n",
        "\n"
      ],
      "metadata": {
        "id": "wXbTmNolJ4xz"
      }
    }
  ],
  "metadata": {
    "colab": {
      "collapsed_sections": [],
      "provenance": [],
      "authorship_tag": "ABX9TyPCoslzmZb9X/IjeahJ6jo4",
      "include_colab_link": true
    },
    "kernelspec": {
      "display_name": "Python 3",
      "name": "python3"
    },
    "language_info": {
      "name": "python"
    }
  },
  "nbformat": 4,
  "nbformat_minor": 0
}